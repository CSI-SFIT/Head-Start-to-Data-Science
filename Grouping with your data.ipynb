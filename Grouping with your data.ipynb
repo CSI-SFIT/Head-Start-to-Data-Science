{
 "cells": [
  {
   "cell_type": "code",
   "execution_count": null,
   "metadata": {},
   "outputs": [],
   "source": [
    "import pandas as pd\n",
    "import numpy as np\n",
    "df=(pd.read_excel(\"Headstart to Data Science👨🏻_💻 (Responses).xlsx\")).iloc[:181,:10]\n",
    "pd.set_option(\"display.max_columns\",11)\n",
    "pd.set_option(\"display.max_rows\",281)\n",
    "df.drop(179,inplace=True)\n",
    "df.reset_index(inplace=True)\n",
    "df[\"index\"]=df.index+1\n",
    "df.set_index(\"index\",inplace=True)\n",
    "df"
   ]
  },
  {
   "cell_type": "code",
   "execution_count": null,
   "metadata": {},
   "outputs": [],
   "source": [
    "group_dept=df.groupby(\"Department\")\n",
    "csi_members_dept=group_dept[\"Are you a CSI Member\"].apply(lambda x:x.str.contains(\"Yes\").sum())\n",
    "participants=df[\"Department\"].value_counts()\n",
    "pct_group_dept=csi_members_dept/participants\n",
    "pct_group_dept=pct_group_dept*100\n",
    "print(\"Percentage of people who are CSI Members grouped by Dept who have registered for Webinar :\\n\",pct_group_dept)"
   ]
  },
  {
   "cell_type": "code",
   "execution_count": null,
   "metadata": {},
   "outputs": [],
   "source": [
    "group_year=df.groupby(\"Year\")\n",
    "csi_members_year=group_year[\"Are you a CSI Member\"].apply(lambda x:x.str.contains(\"Yes\").sum())\n",
    "participants=df[\"Year\"].value_counts()\n",
    "pct_group_year=csi_members_year/participants\n",
    "pct_group_year*=100\n",
    "print(\"Percentage of people who are CSI Members grouped by Year who have registered for Webinar :\\n\",pct_group_year)"
   ]
  },
  {
   "cell_type": "code",
   "execution_count": null,
   "metadata": {},
   "outputs": [],
   "source": []
  }
 ],
 "metadata": {
  "kernelspec": {
   "display_name": "Python 3",
   "language": "python",
   "name": "python3"
  },
  "language_info": {
   "codemirror_mode": {
    "name": "ipython",
    "version": 3
   },
   "file_extension": ".py",
   "mimetype": "text/x-python",
   "name": "python",
   "nbconvert_exporter": "python",
   "pygments_lexer": "ipython3",
   "version": "3.9.1"
  }
 },
 "nbformat": 4,
 "nbformat_minor": 4
}
