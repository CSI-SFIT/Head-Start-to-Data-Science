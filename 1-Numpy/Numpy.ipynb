{
  "nbformat": 4,
  "nbformat_minor": 0,
  "metadata": {
    "kernelspec": {
      "display_name": "Python 3",
      "language": "python",
      "name": "python3"
    },
    "language_info": {
      "codemirror_mode": {
        "name": "ipython",
        "version": 3
      },
      "file_extension": ".py",
      "mimetype": "text/x-python",
      "name": "python",
      "nbconvert_exporter": "python",
      "pygments_lexer": "ipython3",
      "version": "3.8.1"
    },
    "colab": {
      "name": "Numpy.ipynb",
      "provenance": [],
      "collapsed_sections": []
    }
  },
  "cells": [
    {
      "cell_type": "markdown",
      "metadata": {
        "id": "hKQk6CX4YzFt"
      },
      "source": [
        "# NUMPY\n",
        "\n",
        "- Author:Varun Anand Patkar\n",
        "- Created On:14 Nov 2020\n",
        "\n",
        "**<a href=\"https://colab.research.google.com/drive/1AOa2PyWcSzRYBw4CvX2d5lywl8_U304z?usp=sharing\">Collab Notebook Link</a>**\n",
        "\n",
        "Numpy is a library that stores and works on multidimensional array data in python. So you can use numpy to store all sorts of arrays from 1D arrays(which is just a single number) to any n dimensional arrays.<br>\n",
        "Now obviously Python has a great inbuilt functionality called **lists** that can store multidimensional arrays with relative ease. So why use Numpy instead of Lists?\n",
        "<table>\n",
        "    <tr>\n",
        "        <th><center><h1>Lists</h1></center></th>\n",
        "        <th><center><h1>Numpy</h1></center></th>\n",
        "    </tr>\n",
        "    <tr>\n",
        "        <th><img src=\"https://drive.google.com/uc?id=1DTGTiTJgYyYHAxBr8gZgEOna6T9l85tt\" alt=\"Slow image\"></th>\n",
        "        <th><img src=\"https://drive.google.com/uc?id=1v17tiIl2kg5gD85o371uLudMFe6wdtNS\" alt=\"Fast image\"></th>\n",
        "    </tr>\n",
        "</table>\n",
        "<br><br>\n",
        "<h3>So why are Lists slow and Numpy fast?</h3>\n",
        "\n",
        "* **Numpy uses fixed types**: Each element in an array in numpy is only represented by default by a 32 bit size value(You can make it less). Whereas lists have to store 4 values for each element in a list. Object value(different for each type), Object Type(type of element), Reference Count(No of times it is referenced) and size of the element. This makes it faster to access and put data into numpy than for lists\n",
        "\n",
        "* **No typechecking when iterating through objects**: When we are iterating through a Numpy array, you don't have to do type checking for each element as all are the same type. But in lists you have to check type of each element.\n",
        "\n",
        "* **Numpy uses contiguous memory**: Lists don't use contiguous memory whereas Numpy uses contiguous memory like arrays in C. So accessing each element is faster in Numpy as you can just go one step forward. Whereas in Lists you have to map each element to it's memory and then access each memory location.(There are also further benefits like being able to use SIMD Vector Processing elements in the CPU but they are not in the scope of today's workshop).\n",
        "\n",
        "* **Numpy allows usage of Broadcasting**: Numpy allows use of broadcasting which means that we can do operations with incompatible array sizes. We will get back to this later as this is an important aspect of numpy.\n",
        "\n",
        "* **Numpy allows element wise operations**: Numpy allows us to do element by element operations whereas lists give errors. Ex: [1,2,3]+[4,5,6] gives error in lists but gives [5,7,9] in Numpy. This is also an important aspect of Numpy. \n",
        "\n",
        "* **Numpy supports vectorization**: Numpy allows us to use vectorization which significantly boost the performance of arrays. We'll take a look at this later.\n",
        "\n",
        "## Applications of Numpy\n",
        "\n",
        "Numpy is used everywhere when you have to use multi dimensional arrays in python. It can be used in:\n",
        "\n",
        "- As a replacement for MATLAB\n",
        "- Used for plotting using matplotlib\n",
        "- It is used in backend by libraries like pandas, Connect4, etc.\n",
        "- Used in Machine Learning\n",
        "- And of course used all across Data Science\n",
        "\n",
        "## Installing Numpy\n",
        "\n",
        "Go over to your command prompt and as you already have python and pip installed just go over to your command line and type in\n",
        "\n",
        "**pip install numpy** \n",
        "\n",
        "and it will install the numpy library for you.\n",
        "\n",
        "**OR**\n",
        "\n",
        "If in a conda environment just use \n",
        "\n",
        "**conda install numpy**\n",
        "\n",
        "and it will install it for you.\n",
        "\n",
        "## Importing Numpy into your project\n",
        "\n",
        "Now that we've installed Numpy, we have to import it into the project to work with it. The standard is to import numpy as np as it shortens all calls like numpy.arrays becomes np.arrays and it is the same across people's codes everywhere and it improves readabitlity of your code so we import numpy as np. \n",
        "\n",
        "**For those who don't know, use Shift+Enter or the run button next to the cell to run that cell**"
      ]
    },
    {
      "cell_type": "code",
      "metadata": {
        "id": "6a9O0adKYzFx"
      },
      "source": [
        "import numpy as np"
      ],
      "execution_count": null,
      "outputs": []
    },
    {
      "cell_type": "markdown",
      "metadata": {
        "id": "VJQhNGECYzF1"
      },
      "source": [
        "Before anything else let's take a look at the efficiency of numpy arrays over python lists\n",
        "\n",
        "First let's look at the time gained"
      ]
    },
    {
      "cell_type": "code",
      "metadata": {
        "id": "k7CLuhsVYzF1",
        "colab": {
          "base_uri": "https://localhost:8080/"
        },
        "outputId": "d17ab450-c5e9-4aec-cb91-7d952e3d4cba"
      },
      "source": [
        "import time \n",
        "\n",
        "n = 10000000 #10 million/1 Crore\n",
        "l1 = list(range(n)) #2 python lists\n",
        "l2 = list(range(n)) \n",
        "arr1 = np.arange(n) #2 numpy 1D arrays with same values as l1 and l2\n",
        "arr2 = np.arange(n) \n",
        "\n",
        "#Calculate time for Lists\n",
        "tic = time.time() \n",
        "\n",
        "sqlist = [(i*j) for i,j in zip(l1, l2)] \n",
        "\n",
        "print(\"Time taken by Lists to perform multiplication:\",(time.time()-tic),\"seconds\") \n",
        "\n",
        "#Calculate time for numpy arrays   \n",
        "tic = time.time() \n",
        "\n",
        "sqarray = arr1 * arr2 \n",
        " \n",
        "print(\"Time taken by NumPy Arrays to perform multiplication:\",(time.time()-tic),\"seconds\")\n",
        "print(\"Is sqlist==sqarray? :\",np.array_equal(l1,arr1))"
      ],
      "execution_count": null,
      "outputs": [
        {
          "output_type": "stream",
          "text": [
            "Time taken by Lists to perform multiplication: 1.2916619777679443 seconds\n",
            "Time taken by NumPy Arrays to perform multiplication: 0.023436307907104492 seconds\n",
            "Is sqlist==sqarray? : True\n"
          ],
          "name": "stdout"
        }
      ]
    },
    {
      "cell_type": "markdown",
      "metadata": {
        "id": "2ioGhd0yYzF4"
      },
      "source": [
        "Now let's take a look at the space taken side of things"
      ]
    },
    {
      "cell_type": "code",
      "metadata": {
        "id": "9-sJi7KCYzF5",
        "colab": {
          "base_uri": "https://localhost:8080/"
        },
        "outputId": "4245efa6-310b-470c-e9c5-7fb97a81a8c7"
      },
      "source": [
        "import sys \n",
        "\n",
        "S=list(range(1000)) \n",
        "\n",
        "print(\"Size of each element of list in bytes: \",sys.getsizeof(S)) \n",
        "\n",
        "print(\"Size of the whole list in bytes: \",sys.getsizeof(S)*len(S)) \n",
        "\n",
        "D= np.arange(1000) \n",
        "\n",
        "print(\"Size of each element of the Numpy array in bytes: \",D.itemsize) \n",
        "\n",
        "print(\"Size of the whole Numpy array in bytes: \",D.size*D.itemsize) "
      ],
      "execution_count": null,
      "outputs": [
        {
          "output_type": "stream",
          "text": [
            "Size of each element of list in bytes:  48\n",
            "Size of the whole list in bytes:  48000\n",
            "Size of each element of the Numpy array in bytes:  8\n",
            "Size of the whole Numpy array in bytes:  8000\n"
          ],
          "name": "stdout"
        }
      ]
    },
    {
      "cell_type": "markdown",
      "metadata": {
        "id": "ZUjgeUEpYzF7"
      },
      "source": [
        "## Basics\n",
        "\n",
        "- Defining arrays\n",
        "- Array Functions"
      ]
    },
    {
      "cell_type": "code",
      "metadata": {
        "id": "tx0g_QsDYzF8",
        "colab": {
          "base_uri": "https://localhost:8080/"
        },
        "outputId": "cef55751-9c54-4ec1-af4d-fb47d2aba2c3"
      },
      "source": [
        "a=np.array([1,2,3])\n",
        "a # it can be seen that the type of numpy arrays is array"
      ],
      "execution_count": null,
      "outputs": [
        {
          "output_type": "execute_result",
          "data": {
            "text/plain": [
              "array([1, 2, 3])"
            ]
          },
          "metadata": {
            "tags": []
          },
          "execution_count": 4
        }
      ]
    },
    {
      "cell_type": "code",
      "metadata": {
        "id": "2x58aIBGYzGB",
        "colab": {
          "base_uri": "https://localhost:8080/"
        },
        "outputId": "f4caf809-3bfb-4753-9e78-9816c3d04f73"
      },
      "source": [
        "b=np.array([[1.0,2.0,3.0],[4.0,5.0,6.0],[7.0,8.0,9.0]]) # a complex 2D array of floats. Numpy represents 2.0 as 2.\n",
        "b"
      ],
      "execution_count": null,
      "outputs": [
        {
          "output_type": "execute_result",
          "data": {
            "text/plain": [
              "array([[1., 2., 3.],\n",
              "       [4., 5., 6.],\n",
              "       [7., 8., 9.]])"
            ]
          },
          "metadata": {
            "tags": []
          },
          "execution_count": 5
        }
      ]
    },
    {
      "cell_type": "markdown",
      "metadata": {
        "id": "j9IwqFSrYzGE"
      },
      "source": [
        "Now let's take a look at some functions of the arrays to find the no. of dimensions, shape of the array, etc."
      ]
    },
    {
      "cell_type": "code",
      "metadata": {
        "id": "_ZfrUWocYzGF",
        "colab": {
          "base_uri": "https://localhost:8080/"
        },
        "outputId": "0a6716b2-be4a-4c51-bf3a-fa5093154b40"
      },
      "source": [
        "print(\"No. of Dims in a : \"+str(a.ndim)+\"\\nNo. of Dims in b : \"+str(b.ndim))"
      ],
      "execution_count": null,
      "outputs": [
        {
          "output_type": "stream",
          "text": [
            "No. of Dims in a : 1\n",
            "No. of Dims in b : 2\n"
          ],
          "name": "stdout"
        }
      ]
    },
    {
      "cell_type": "code",
      "metadata": {
        "id": "BWB6BD56YzGH",
        "colab": {
          "base_uri": "https://localhost:8080/"
        },
        "outputId": "c3a1f322-513b-4522-8d91-f163e4e58a66"
      },
      "source": [
        "print(\"Shape of a : \"+str(a.shape)+\"\\nShape of b\"+str(b.shape))"
      ],
      "execution_count": null,
      "outputs": [
        {
          "output_type": "stream",
          "text": [
            "Shape of a : (3,)\n",
            "Shape of b(3, 3)\n"
          ],
          "name": "stdout"
        }
      ]
    },
    {
      "cell_type": "markdown",
      "metadata": {
        "id": "mECNELZcYzGK"
      },
      "source": [
        "**Now I would like to point something out here.** Look at the shape of a. It gives (3,). This means that a is a vector. This is dangerous as it can cause errors in your code. So don't use these types of arrays. Instead use (3,1) arrays which is a column array.\n",
        "\n",
        "Now consider you have this array and you take it's transpose. It gives a (1,3) array in your mind but it gives a (,3) array. Now you try to use matrix multiplication. Now by the rules, a (3,1) array mult by (1,3) will give a (3,3) array. Watch what happens with this one."
      ]
    },
    {
      "cell_type": "code",
      "metadata": {
        "id": "lIeoBu5iYzGL",
        "colab": {
          "base_uri": "https://localhost:8080/"
        },
        "outputId": "21236531-3c95-400a-b512-dab90dd76e46"
      },
      "source": [
        "c=a.T #taking a transpose\n",
        "c.shape"
      ],
      "execution_count": null,
      "outputs": [
        {
          "output_type": "execute_result",
          "data": {
            "text/plain": [
              "(3,)"
            ]
          },
          "metadata": {
            "tags": []
          },
          "execution_count": 8
        }
      ]
    },
    {
      "cell_type": "code",
      "metadata": {
        "id": "4fufnNSWYzGN",
        "colab": {
          "base_uri": "https://localhost:8080/"
        },
        "outputId": "195fb088-053b-4cbc-81e3-0213f92998bc"
      },
      "source": [
        "np.dot(a,c)#taking matrix multiplication"
      ],
      "execution_count": null,
      "outputs": [
        {
          "output_type": "execute_result",
          "data": {
            "text/plain": [
              "14"
            ]
          },
          "metadata": {
            "tags": []
          },
          "execution_count": 9
        }
      ]
    },
    {
      "cell_type": "markdown",
      "metadata": {
        "id": "0LkM0u1lYzGP"
      },
      "source": [
        "It gives a number. Instead let's redefine a and try this again"
      ]
    },
    {
      "cell_type": "code",
      "metadata": {
        "id": "1QZ-mx9BYzGQ",
        "colab": {
          "base_uri": "https://localhost:8080/"
        },
        "outputId": "1531b981-f69a-467c-ffb0-34c463bc3417"
      },
      "source": [
        "a=np.array([[1],[2],[3]])\n",
        "a.shape"
      ],
      "execution_count": null,
      "outputs": [
        {
          "output_type": "execute_result",
          "data": {
            "text/plain": [
              "(3, 1)"
            ]
          },
          "metadata": {
            "tags": []
          },
          "execution_count": 10
        }
      ]
    },
    {
      "cell_type": "markdown",
      "metadata": {
        "id": "Zda404TsYzGS"
      },
      "source": [
        "Now lets apply the same operations:"
      ]
    },
    {
      "cell_type": "code",
      "metadata": {
        "id": "bb_sIAeRYzGT",
        "colab": {
          "base_uri": "https://localhost:8080/"
        },
        "outputId": "96d19630-68e1-49d9-ada0-9d02c0f81b01"
      },
      "source": [
        "c=a.T\n",
        "c.shape"
      ],
      "execution_count": null,
      "outputs": [
        {
          "output_type": "execute_result",
          "data": {
            "text/plain": [
              "(1, 3)"
            ]
          },
          "metadata": {
            "tags": []
          },
          "execution_count": 11
        }
      ]
    },
    {
      "cell_type": "code",
      "metadata": {
        "id": "a85iPTHIYzGV",
        "colab": {
          "base_uri": "https://localhost:8080/"
        },
        "outputId": "a6ac9a1f-708b-478d-c895-7b3394632479"
      },
      "source": [
        "np.dot(a,c)"
      ],
      "execution_count": null,
      "outputs": [
        {
          "output_type": "execute_result",
          "data": {
            "text/plain": [
              "array([[1, 2, 3],\n",
              "       [2, 4, 6],\n",
              "       [3, 6, 9]])"
            ]
          },
          "metadata": {
            "tags": []
          },
          "execution_count": 12
        }
      ]
    },
    {
      "cell_type": "markdown",
      "metadata": {
        "id": "PzMXpZzqYzGY"
      },
      "source": [
        "Hence even later when using the random library of numpy, **don't use vectors. Instead use column arrays.**\n",
        "\n",
        "Now let's get back to it. To find the data type of an array:"
      ]
    },
    {
      "cell_type": "code",
      "metadata": {
        "id": "nlulZoTkYzGY",
        "colab": {
          "base_uri": "https://localhost:8080/"
        },
        "outputId": "26f74888-db89-4b1e-aa98-d4d5c5db9f31"
      },
      "source": [
        "print(\"Data Type of a : \"+str(a.dtype)+\"\\nData Type of b : \"+str(b.dtype))"
      ],
      "execution_count": null,
      "outputs": [
        {
          "output_type": "stream",
          "text": [
            "Data Type of a : int64\n",
            "Data Type of b : float64\n"
          ],
          "name": "stdout"
        }
      ]
    },
    {
      "cell_type": "markdown",
      "metadata": {
        "id": "LIj7o2NFYzGb"
      },
      "source": [
        "You can also change the type when defining the array.\n",
        "Ex:"
      ]
    },
    {
      "cell_type": "code",
      "metadata": {
        "id": "CCcHwZQdYzGb",
        "colab": {
          "base_uri": "https://localhost:8080/"
        },
        "outputId": "a09ce950-7d9d-407b-f636-27fe2aae11a1"
      },
      "source": [
        "a=np.array([[1],[2],[3]],dtype='int16')\n",
        "a.dtype"
      ],
      "execution_count": null,
      "outputs": [
        {
          "output_type": "execute_result",
          "data": {
            "text/plain": [
              "dtype('int16')"
            ]
          },
          "metadata": {
            "tags": []
          },
          "execution_count": 14
        }
      ]
    },
    {
      "cell_type": "code",
      "metadata": {
        "id": "EF9enr1DYzGe",
        "colab": {
          "base_uri": "https://localhost:8080/"
        },
        "outputId": "99a21c90-c1ab-40a9-bfaa-84a8d0190ef3"
      },
      "source": [
        "a=np.array([[1],[2],[3]],dtype='int8')\n",
        "a.dtype"
      ],
      "execution_count": null,
      "outputs": [
        {
          "output_type": "execute_result",
          "data": {
            "text/plain": [
              "dtype('int8')"
            ]
          },
          "metadata": {
            "tags": []
          },
          "execution_count": 15
        }
      ]
    },
    {
      "cell_type": "markdown",
      "metadata": {
        "id": "opY_qC6SYzGg"
      },
      "source": [
        "We can also find the size of each item in the array(in bytes)"
      ]
    },
    {
      "cell_type": "code",
      "metadata": {
        "id": "Av0JpquyYzGg",
        "colab": {
          "base_uri": "https://localhost:8080/"
        },
        "outputId": "37e312fd-2abe-4228-ab05-f32229df0ce6"
      },
      "source": [
        "a.itemsize#8 bits from \"int8\" is 1 byte"
      ],
      "execution_count": null,
      "outputs": [
        {
          "output_type": "execute_result",
          "data": {
            "text/plain": [
              "1"
            ]
          },
          "metadata": {
            "tags": []
          },
          "execution_count": 16
        }
      ]
    },
    {
      "cell_type": "code",
      "metadata": {
        "id": "I02DFBarYzGj",
        "colab": {
          "base_uri": "https://localhost:8080/"
        },
        "outputId": "1e836b60-c47b-42a1-f95b-ac792724dce0"
      },
      "source": [
        "b.itemsize#float 64 bits is 8 bytes as 64/8 is 8"
      ],
      "execution_count": null,
      "outputs": [
        {
          "output_type": "execute_result",
          "data": {
            "text/plain": [
              "8"
            ]
          },
          "metadata": {
            "tags": []
          },
          "execution_count": 17
        }
      ]
    },
    {
      "cell_type": "markdown",
      "metadata": {
        "id": "JKiIdHIlYzGl"
      },
      "source": [
        "We can also find the total size of the array using a.nbytes. Let's check if its correct"
      ]
    },
    {
      "cell_type": "code",
      "metadata": {
        "id": "frDwqADgYzGm"
      },
      "source": [
        "assert a.nbytes==a.size*a.itemsize #no error "
      ],
      "execution_count": null,
      "outputs": []
    },
    {
      "cell_type": "markdown",
      "metadata": {
        "id": "HdEuq6VLYzGo"
      },
      "source": [
        "## Accesing/Changing some elements in rows, columns\n",
        "Now let's see how we access elements, rows, colums etc."
      ]
    },
    {
      "cell_type": "code",
      "metadata": {
        "id": "pii4cbcPYzGo",
        "colab": {
          "base_uri": "https://localhost:8080/"
        },
        "outputId": "2aea3644-778e-43cc-b4d7-d4d0c1801029"
      },
      "source": [
        "d=np.array([[1,2,3,4,5,6,7],[8,9,10,11,12,13,14]])\n",
        "d.shape"
      ],
      "execution_count": null,
      "outputs": [
        {
          "output_type": "execute_result",
          "data": {
            "text/plain": [
              "(2, 7)"
            ]
          },
          "metadata": {
            "tags": []
          },
          "execution_count": 19
        }
      ]
    },
    {
      "cell_type": "code",
      "metadata": {
        "id": "SOgcmODAYzGt",
        "colab": {
          "base_uri": "https://localhost:8080/"
        },
        "outputId": "bfadadc8-2e17-49c1-98a5-926a9c374944"
      },
      "source": [
        "d[1,5]#you can access elements by using d[i,j,k,...] just like normal arrays"
      ],
      "execution_count": null,
      "outputs": [
        {
          "output_type": "execute_result",
          "data": {
            "text/plain": [
              "13"
            ]
          },
          "metadata": {
            "tags": []
          },
          "execution_count": 20
        }
      ]
    },
    {
      "cell_type": "code",
      "metadata": {
        "id": "l2SAMsBTYzGv",
        "colab": {
          "base_uri": "https://localhost:8080/"
        },
        "outputId": "09382af2-55fa-48aa-91c0-91d72be5bf65"
      },
      "source": [
        "d[1,:]#you can access a row by setting the y dim as all(:)"
      ],
      "execution_count": null,
      "outputs": [
        {
          "output_type": "execute_result",
          "data": {
            "text/plain": [
              "array([ 8,  9, 10, 11, 12, 13, 14])"
            ]
          },
          "metadata": {
            "tags": []
          },
          "execution_count": 21
        }
      ]
    },
    {
      "cell_type": "code",
      "metadata": {
        "id": "pk__ywcvYzGx",
        "colab": {
          "base_uri": "https://localhost:8080/"
        },
        "outputId": "2b684816-55d3-42a2-cb7e-92be2178ae3c"
      },
      "source": [
        "d[:,2]#access a column by setting x as all(:)"
      ],
      "execution_count": null,
      "outputs": [
        {
          "output_type": "execute_result",
          "data": {
            "text/plain": [
              "array([ 3, 10])"
            ]
          },
          "metadata": {
            "tags": []
          },
          "execution_count": 22
        }
      ]
    },
    {
      "cell_type": "code",
      "metadata": {
        "id": "wIluQ0xIYzGz",
        "colab": {
          "base_uri": "https://localhost:8080/"
        },
        "outputId": "73dbb9a8-622a-439f-9c5a-2237069d62f3"
      },
      "source": [
        "d[1,-2]#we can also use negative indices to reference from the back"
      ],
      "execution_count": null,
      "outputs": [
        {
          "output_type": "execute_result",
          "data": {
            "text/plain": [
              "13"
            ]
          },
          "metadata": {
            "tags": []
          },
          "execution_count": 23
        }
      ]
    },
    {
      "cell_type": "markdown",
      "metadata": {
        "id": "oyPq_fYuYzG3"
      },
      "source": [
        "You can also cut slices by using start index and end index. Remember that the end index is not inclusive\n",
        "\n",
        "We can use the array_equal function in numpy to check if both are equal or not"
      ]
    },
    {
      "cell_type": "code",
      "metadata": {
        "id": "myySNrY6YzG3"
      },
      "source": [
        "assert np.array_equal(list(range(9,13)),d[1,1:5])"
      ],
      "execution_count": null,
      "outputs": []
    },
    {
      "cell_type": "markdown",
      "metadata": {
        "id": "nbTFK_3hYzG-"
      },
      "source": [
        "Also you can change the step size between the nos."
      ]
    },
    {
      "cell_type": "code",
      "metadata": {
        "id": "L_VZrCTiYzG_",
        "colab": {
          "base_uri": "https://localhost:8080/"
        },
        "outputId": "c930e675-f8fe-42fd-9a9b-e22bc968de0d"
      },
      "source": [
        "d[1,1:-1:2]"
      ],
      "execution_count": null,
      "outputs": [
        {
          "output_type": "execute_result",
          "data": {
            "text/plain": [
              "array([ 9, 11, 13])"
            ]
          },
          "metadata": {
            "tags": []
          },
          "execution_count": 25
        }
      ]
    },
    {
      "cell_type": "markdown",
      "metadata": {
        "id": "Q0TnSsz-YzHB"
      },
      "source": [
        "Also we can assign nos., rown and colums using this"
      ]
    },
    {
      "cell_type": "code",
      "metadata": {
        "id": "95HWpQc3YzHB",
        "colab": {
          "base_uri": "https://localhost:8080/"
        },
        "outputId": "ef26a06b-da76-4f09-f625-be97fee6520b"
      },
      "source": [
        "d[1,:]=[9, 10, 11, 12, 13, 14,15]\n",
        "d"
      ],
      "execution_count": null,
      "outputs": [
        {
          "output_type": "execute_result",
          "data": {
            "text/plain": [
              "array([[ 1,  2,  3,  4,  5,  6,  7],\n",
              "       [ 9, 10, 11, 12, 13, 14, 15]])"
            ]
          },
          "metadata": {
            "tags": []
          },
          "execution_count": 26
        }
      ]
    },
    {
      "cell_type": "markdown",
      "metadata": {
        "id": "wTkneZuOYzHD"
      },
      "source": [
        "Let's try with a 3d array"
      ]
    },
    {
      "cell_type": "code",
      "metadata": {
        "id": "Ho5dtmmEYzHD",
        "colab": {
          "base_uri": "https://localhost:8080/"
        },
        "outputId": "8affd9e3-07d2-4e46-9c52-c75d85bfe710"
      },
      "source": [
        "b=np.array([[[1,2],[3,4]],[[5,6],[7,8]]])\n",
        "b"
      ],
      "execution_count": null,
      "outputs": [
        {
          "output_type": "execute_result",
          "data": {
            "text/plain": [
              "array([[[1, 2],\n",
              "        [3, 4]],\n",
              "\n",
              "       [[5, 6],\n",
              "        [7, 8]]])"
            ]
          },
          "metadata": {
            "tags": []
          },
          "execution_count": 27
        }
      ]
    },
    {
      "cell_type": "code",
      "metadata": {
        "id": "2ckFZTSOYzHF",
        "colab": {
          "base_uri": "https://localhost:8080/"
        },
        "outputId": "420ad9a4-a5ee-41f4-aaae-ea10ade34741"
      },
      "source": [
        "b[1]"
      ],
      "execution_count": null,
      "outputs": [
        {
          "output_type": "execute_result",
          "data": {
            "text/plain": [
              "array([[5, 6],\n",
              "       [7, 8]])"
            ]
          },
          "metadata": {
            "tags": []
          },
          "execution_count": 28
        }
      ]
    },
    {
      "cell_type": "code",
      "metadata": {
        "id": "KRcY-goXYzHH",
        "colab": {
          "base_uri": "https://localhost:8080/"
        },
        "outputId": "09765b31-1530-4bc3-f2d5-6ab6ba9d4a2d"
      },
      "source": [
        "b[1][0]"
      ],
      "execution_count": null,
      "outputs": [
        {
          "output_type": "execute_result",
          "data": {
            "text/plain": [
              "array([5, 6])"
            ]
          },
          "metadata": {
            "tags": []
          },
          "execution_count": 29
        }
      ]
    },
    {
      "cell_type": "code",
      "metadata": {
        "id": "qfaZMOq4YzHI",
        "colab": {
          "base_uri": "https://localhost:8080/"
        },
        "outputId": "0a2e4dac-617f-4576-a63a-04999db514e4"
      },
      "source": [
        "b[1,0,1]"
      ],
      "execution_count": null,
      "outputs": [
        {
          "output_type": "execute_result",
          "data": {
            "text/plain": [
              "6"
            ]
          },
          "metadata": {
            "tags": []
          },
          "execution_count": 30
        }
      ]
    },
    {
      "cell_type": "code",
      "metadata": {
        "id": "RNBb2kGpYzHK",
        "colab": {
          "base_uri": "https://localhost:8080/"
        },
        "outputId": "034e5936-1064-441e-bd10-bbbe8d6ba539"
      },
      "source": [
        "b[1]=[[9,10],[11,12]]\n",
        "b"
      ],
      "execution_count": null,
      "outputs": [
        {
          "output_type": "execute_result",
          "data": {
            "text/plain": [
              "array([[[ 1,  2],\n",
              "        [ 3,  4]],\n",
              "\n",
              "       [[ 9, 10],\n",
              "        [11, 12]]])"
            ]
          },
          "metadata": {
            "tags": []
          },
          "execution_count": 31
        }
      ]
    },
    {
      "cell_type": "markdown",
      "metadata": {
        "id": "scqxjaHtYzHM"
      },
      "source": [
        "## Different Types of Inbuilt Arrays\n",
        "\n",
        "Numpy allows us to be able to define some common arrays used like the all zeros, all ones, etc. array. Let's take a look at some of them.\n",
        "\n",
        "As i said earlier,dont pass values like 3 in the shape fo these arrays as that will mess up your code.\n",
        "\n",
        "First let's look at the zeros function in numpy"
      ]
    },
    {
      "cell_type": "code",
      "metadata": {
        "id": "d-ExW5nWYzHM",
        "colab": {
          "base_uri": "https://localhost:8080/"
        },
        "outputId": "d7a2d338-6c04-43ae-86cb-812ee08d003a"
      },
      "source": [
        "a=np.zeros(5) #Don't do this as it becomes a vector and we have discussed this earlier\n",
        "a.shape"
      ],
      "execution_count": null,
      "outputs": [
        {
          "output_type": "execute_result",
          "data": {
            "text/plain": [
              "(5,)"
            ]
          },
          "metadata": {
            "tags": []
          },
          "execution_count": 32
        }
      ]
    },
    {
      "cell_type": "code",
      "metadata": {
        "id": "VIIpfbUyYzHO"
      },
      "source": [
        "# a=np.zeros(5,1) #also dont do this. as this will give an error. We pass a tuple that is the shape \n",
        "#                   into the function so there will be 2 paranthesis"
      ],
      "execution_count": null,
      "outputs": []
    },
    {
      "cell_type": "code",
      "metadata": {
        "id": "-qNtkmj5YzHQ",
        "colab": {
          "base_uri": "https://localhost:8080/"
        },
        "outputId": "4914e21c-f8cb-4033-f594-9092f613e975"
      },
      "source": [
        "a=np.zeros((5,5)) #a correct example of \n",
        "print(a)"
      ],
      "execution_count": null,
      "outputs": [
        {
          "output_type": "stream",
          "text": [
            "[[0. 0. 0. 0. 0.]\n",
            " [0. 0. 0. 0. 0.]\n",
            " [0. 0. 0. 0. 0.]\n",
            " [0. 0. 0. 0. 0.]\n",
            " [0. 0. 0. 0. 0.]]\n"
          ],
          "name": "stdout"
        }
      ]
    },
    {
      "cell_type": "code",
      "metadata": {
        "id": "5hyLIboeYzHS",
        "colab": {
          "base_uri": "https://localhost:8080/"
        },
        "outputId": "016fcfdf-c401-4389-8498-7e2499351e6e"
      },
      "source": [
        "a=np.zeros((5,5,5),dtype=\"int8\")\n",
        "print(a)"
      ],
      "execution_count": null,
      "outputs": [
        {
          "output_type": "stream",
          "text": [
            "[[[0 0 0 0 0]\n",
            "  [0 0 0 0 0]\n",
            "  [0 0 0 0 0]\n",
            "  [0 0 0 0 0]\n",
            "  [0 0 0 0 0]]\n",
            "\n",
            " [[0 0 0 0 0]\n",
            "  [0 0 0 0 0]\n",
            "  [0 0 0 0 0]\n",
            "  [0 0 0 0 0]\n",
            "  [0 0 0 0 0]]\n",
            "\n",
            " [[0 0 0 0 0]\n",
            "  [0 0 0 0 0]\n",
            "  [0 0 0 0 0]\n",
            "  [0 0 0 0 0]\n",
            "  [0 0 0 0 0]]\n",
            "\n",
            " [[0 0 0 0 0]\n",
            "  [0 0 0 0 0]\n",
            "  [0 0 0 0 0]\n",
            "  [0 0 0 0 0]\n",
            "  [0 0 0 0 0]]\n",
            "\n",
            " [[0 0 0 0 0]\n",
            "  [0 0 0 0 0]\n",
            "  [0 0 0 0 0]\n",
            "  [0 0 0 0 0]\n",
            "  [0 0 0 0 0]]]\n"
          ],
          "name": "stdout"
        }
      ]
    },
    {
      "cell_type": "markdown",
      "metadata": {
        "id": "FZ4HpGe3YzHT"
      },
      "source": [
        "Now, let's take a look at an all 1s matrix using ones function. \n",
        "\n",
        "We can also specify datatypes in each of these like when defining"
      ]
    },
    {
      "cell_type": "code",
      "metadata": {
        "id": "c2h_zi-ZYzHU",
        "colab": {
          "base_uri": "https://localhost:8080/"
        },
        "outputId": "96772d43-79d7-4357-be2c-b9ac1e45adb9"
      },
      "source": [
        "a=np.ones((5,5),dtype=\"int8\")\n",
        "print(a)"
      ],
      "execution_count": null,
      "outputs": [
        {
          "output_type": "stream",
          "text": [
            "[[1 1 1 1 1]\n",
            " [1 1 1 1 1]\n",
            " [1 1 1 1 1]\n",
            " [1 1 1 1 1]\n",
            " [1 1 1 1 1]]\n"
          ],
          "name": "stdout"
        }
      ]
    },
    {
      "cell_type": "markdown",
      "metadata": {
        "id": "f2HPFYhAYzHW"
      },
      "source": [
        "If you want any other number, there are 2 ways. You can multiply a ones array by that no. or use the np.full function"
      ]
    },
    {
      "cell_type": "code",
      "metadata": {
        "id": "x6SZKo7bYzHW",
        "colab": {
          "base_uri": "https://localhost:8080/"
        },
        "outputId": "19fe3f4e-d42c-40a8-d993-b9e79790b788"
      },
      "source": [
        "a=5*np.ones((5,5))\n",
        "b=np.full((5,5),5)\n",
        "print(\"a = \"+str(a)+\"\\nb = \"+str(b))\n",
        "assert np.array_equal(a,b)"
      ],
      "execution_count": null,
      "outputs": [
        {
          "output_type": "stream",
          "text": [
            "a = [[5. 5. 5. 5. 5.]\n",
            " [5. 5. 5. 5. 5.]\n",
            " [5. 5. 5. 5. 5.]\n",
            " [5. 5. 5. 5. 5.]\n",
            " [5. 5. 5. 5. 5.]]\n",
            "b = [[5 5 5 5 5]\n",
            " [5 5 5 5 5]\n",
            " [5 5 5 5 5]\n",
            " [5 5 5 5 5]\n",
            " [5 5 5 5 5]]\n"
          ],
          "name": "stdout"
        }
      ]
    },
    {
      "cell_type": "markdown",
      "metadata": {
        "id": "mccvM0yAYzHY"
      },
      "source": [
        "There is another function named full_like which takes another array as input and assigns all nos the same value"
      ]
    },
    {
      "cell_type": "code",
      "metadata": {
        "id": "dD0yt9vdYzHY",
        "colab": {
          "base_uri": "https://localhost:8080/"
        },
        "outputId": "3036aea8-3a59-4307-fa66-accc2565582d"
      },
      "source": [
        "a=np.array([[1,2,3,4,5,6,7],[8,9,10,11,12,13,14]])\n",
        "print(\"Original array:\"+str(a))\n",
        "a=np.full_like(a,5)\n",
        "print(\"\\nAfter full_like:\"+str(a))"
      ],
      "execution_count": null,
      "outputs": [
        {
          "output_type": "stream",
          "text": [
            "Original array:[[ 1  2  3  4  5  6  7]\n",
            " [ 8  9 10 11 12 13 14]]\n",
            "\n",
            "After full_like:[[5 5 5 5 5 5 5]\n",
            " [5 5 5 5 5 5 5]]\n"
          ],
          "name": "stdout"
        }
      ]
    },
    {
      "cell_type": "markdown",
      "metadata": {
        "id": "e1ZRxaioYzHb"
      },
      "source": [
        "Or you can just use the a.shape property with the full function"
      ]
    },
    {
      "cell_type": "code",
      "metadata": {
        "id": "aPAnUg_oYzHb",
        "colab": {
          "base_uri": "https://localhost:8080/"
        },
        "outputId": "1f265d2d-4991-424d-e56d-2135cecb7857"
      },
      "source": [
        "a=np.array([[1,2,3,4,5,6,7],[8,9,10,11,12,13,14]])\n",
        "print(\"Original array:\"+str(a))\n",
        "a=np.full(a.shape,5)\n",
        "print(\"\\nAfter full_like:\"+str(a))"
      ],
      "execution_count": null,
      "outputs": [
        {
          "output_type": "stream",
          "text": [
            "Original array:[[ 1  2  3  4  5  6  7]\n",
            " [ 8  9 10 11 12 13 14]]\n",
            "\n",
            "After full_like:[[5 5 5 5 5 5 5]\n",
            " [5 5 5 5 5 5 5]]\n"
          ],
          "name": "stdout"
        }
      ]
    },
    {
      "cell_type": "markdown",
      "metadata": {
        "id": "ITC0EcM_YzHd"
      },
      "source": [
        "You will need to generate random nos. later on in machine learning as setting it all to 0 or 1 is not good enough. You can use the numpy.random.rand(generates samples from a uniform distribution (in the range [0,1)). and numpy.random.randn(generates samples from the normal distribution) function for that\n",
        "\n",
        "This is how they look like<br>\n",
        "<img src=\"https://drive.google.com/uc?id=1gwjeWNDoY8JUf8orFJLKvI59tbbehp65\">"
      ]
    },
    {
      "cell_type": "code",
      "metadata": {
        "id": "kdQPVzZiYzHd",
        "colab": {
          "base_uri": "https://localhost:8080/"
        },
        "outputId": "7cd4a3d6-bb85-4345-d729-981f8e6656d5"
      },
      "source": [
        "a=np.random.rand(2,3)\n",
        "print(a)"
      ],
      "execution_count": null,
      "outputs": [
        {
          "output_type": "stream",
          "text": [
            "[[0.71568796 0.22480803 0.83321577]\n",
            " [0.78336871 0.72898581 0.00719943]]\n"
          ],
          "name": "stdout"
        }
      ]
    },
    {
      "cell_type": "code",
      "metadata": {
        "id": "bb9_SAc7YzHf",
        "colab": {
          "base_uri": "https://localhost:8080/"
        },
        "outputId": "9ab1b582-b585-4e47-83ef-20b12915be5f"
      },
      "source": [
        "a=np.random.randn(2,3)\n",
        "print(a)"
      ],
      "execution_count": null,
      "outputs": [
        {
          "output_type": "stream",
          "text": [
            "[[ 0.87776192  1.64452448  0.97559018]\n",
            " [-0.18775371  0.31002523  0.71309907]]\n"
          ],
          "name": "stdout"
        }
      ]
    },
    {
      "cell_type": "markdown",
      "metadata": {
        "id": "4SDR5uaOYzHh"
      },
      "source": [
        "Now the thing to remember is that in random functions you dont pass in tuples so if you want to use a tuple (like shaoe of a matrix) the you will have to either manually pass in the dimensions or use np.random.random_samples function"
      ]
    },
    {
      "cell_type": "code",
      "metadata": {
        "id": "CbVvOLPVYzHi",
        "colab": {
          "base_uri": "https://localhost:8080/"
        },
        "outputId": "3239f5df-19da-465b-afd1-77b39b99c8cf"
      },
      "source": [
        "a=np.array([[1,2,3,4,5,6,7],[8,9,10,11,12,13,14]])\n",
        "print(\"Shape of a = \"+str(a.shape))\n",
        "# b=np.random.randn(a.shape) #Won't work. will give error\n",
        "b=np.random.randn(a.shape[0],a.shape[1])\n",
        "print(\"\\nb(with randn)= \"+str(b))\n",
        "b=np.random.random_sample(a.shape)\n",
        "print(\"\\nb(with random_sample)= \"+str(b))"
      ],
      "execution_count": null,
      "outputs": [
        {
          "output_type": "stream",
          "text": [
            "Shape of a = (2, 7)\n",
            "\n",
            "b(with randn)= [[-1.01290647  1.22902156  1.39382735 -0.68687923 -1.11833846 -0.38228628\n",
            "  -0.2712207 ]\n",
            " [ 0.56926086 -2.00819061 -1.06311007 -0.11333921  1.61949304  0.36299135\n",
            "   1.34471079]]\n",
            "\n",
            "b(with random_sample)= [[0.72681654 0.64013523 0.98216856 0.00336309 0.74173346 0.24715636\n",
            "  0.38629202]\n",
            " [0.92950369 0.93108164 0.03622791 0.46948979 0.94568603 0.95656031\n",
            "  0.63461961]]\n"
          ],
          "name": "stdout"
        }
      ]
    },
    {
      "cell_type": "markdown",
      "metadata": {
        "id": "ylddVnufYzHk"
      },
      "source": [
        "We can also get random integers with the np.random.randint function."
      ]
    },
    {
      "cell_type": "code",
      "metadata": {
        "id": "pAZOgmG2YzHk",
        "colab": {
          "base_uri": "https://localhost:8080/"
        },
        "outputId": "c2e31f89-7d42-4f14-c601-f0394bd34234"
      },
      "source": [
        "np.random.randint(1,10,size=(3,3)) #gives nos between 1 and 10(10 not inclusive) with array size of 3x3"
      ],
      "execution_count": null,
      "outputs": [
        {
          "output_type": "execute_result",
          "data": {
            "text/plain": [
              "array([[5, 7, 8],\n",
              "       [7, 4, 6],\n",
              "       [9, 6, 9]])"
            ]
          },
          "metadata": {
            "tags": []
          },
          "execution_count": 43
        }
      ]
    },
    {
      "cell_type": "markdown",
      "metadata": {
        "id": "T4LyOLHqYzHl"
      },
      "source": [
        "You can also use the identity matrix which is a matrix of 0s with 1s at the diagonal"
      ]
    },
    {
      "cell_type": "code",
      "metadata": {
        "id": "6nTQSf3dYzHm",
        "colab": {
          "base_uri": "https://localhost:8080/"
        },
        "outputId": "68d6fb54-d077-4f34-c7e2-f861d464df73"
      },
      "source": [
        "np.identity(5)#needs only 1 param as identity matrux is a sq matrix i.e. height=width"
      ],
      "execution_count": null,
      "outputs": [
        {
          "output_type": "execute_result",
          "data": {
            "text/plain": [
              "array([[1., 0., 0., 0., 0.],\n",
              "       [0., 1., 0., 0., 0.],\n",
              "       [0., 0., 1., 0., 0.],\n",
              "       [0., 0., 0., 1., 0.],\n",
              "       [0., 0., 0., 0., 1.]])"
            ]
          },
          "metadata": {
            "tags": []
          },
          "execution_count": 44
        }
      ]
    },
    {
      "cell_type": "markdown",
      "metadata": {
        "id": "7gJiB83nYzHn"
      },
      "source": [
        "You can also repeat the array across different axes."
      ]
    },
    {
      "cell_type": "code",
      "metadata": {
        "id": "8EY2LxUDYzHn",
        "colab": {
          "base_uri": "https://localhost:8080/"
        },
        "outputId": "d37bfaaa-3480-4b35-df2d-2fb810410fde"
      },
      "source": [
        "a=np.array([[1,2,3]])\n",
        "print(\"Repeat across X axes : \"+str(np.repeat(a,3,axis=0)))\n",
        "print(\"\\nRepeat across Y axes : \"+str(np.repeat(a,3,axis=1)))"
      ],
      "execution_count": null,
      "outputs": [
        {
          "output_type": "stream",
          "text": [
            "Repeat across X axes : [[1 2 3]\n",
            " [1 2 3]\n",
            " [1 2 3]]\n",
            "\n",
            "Repeat across Y axes : [[1 1 1 2 2 2 3 3 3]]\n"
          ],
          "name": "stdout"
        }
      ]
    },
    {
      "cell_type": "markdown",
      "metadata": {
        "id": "yn6vJgHVYzHp"
      },
      "source": [
        "## Copying Arrays Problem\n",
        "\n",
        "As you all know Python is built on C, so arrays are referenced by pointers. So when you want to assign something to another array you have to be careful or they'll point to the same array. Here is an example to show that:"
      ]
    },
    {
      "cell_type": "code",
      "metadata": {
        "id": "xRF9BYSUYzHp",
        "colab": {
          "base_uri": "https://localhost:8080/"
        },
        "outputId": "d55b87c4-ae02-4d46-cae8-282dc07ce270"
      },
      "source": [
        "a=np.array([[1,2,3]])\n",
        "# b=a #copy a to b(uses pointers and so both point to same value)\n",
        "b=a.copy() #use copy function to make a copy of a and save to b\n",
        "b[0,0]=4\n",
        "print(\"b = \"+str(b))\n",
        "print(\"a = \"+str(a))"
      ],
      "execution_count": null,
      "outputs": [
        {
          "output_type": "stream",
          "text": [
            "b = [[4 2 3]]\n",
            "a = [[1 2 3]]\n"
          ],
          "name": "stdout"
        }
      ]
    },
    {
      "cell_type": "markdown",
      "metadata": {
        "id": "h_HNu7nLYzHr"
      },
      "source": [
        "## Mathematical functions in Numpy\n",
        "\n",
        "Let's first take a look at element-wise mathematics that you can do with numpy."
      ]
    },
    {
      "cell_type": "code",
      "metadata": {
        "id": "h-ZPqTJGYzHr",
        "colab": {
          "base_uri": "https://localhost:8080/"
        },
        "outputId": "bca6ac9f-7d68-48bc-aec1-e9020867fada"
      },
      "source": [
        "a=np.array([[1,2,3,4]])\n",
        "a=a+[[2,2,2,2]]\n",
        "print(a)"
      ],
      "execution_count": null,
      "outputs": [
        {
          "output_type": "stream",
          "text": [
            "[[3 4 5 6]]\n"
          ],
          "name": "stdout"
        }
      ]
    },
    {
      "cell_type": "markdown",
      "metadata": {
        "id": "LUay3GfMYzHt"
      },
      "source": [
        "This time a was a 4 dim vector. Now think if a was a 100x100 dim matrix or worse a 1000x1000 dim vector. How would you add 2 to it? \n",
        "\n",
        "Yes, you can use the full function and do with that but don't you think that you have to check the shapes every time you want to do anything with matrices. This lowers its simplicity adn Python is all about simplicity. So here is where Broadcasting comes into play.\n",
        "\n",
        "If you use element wise operations to 2 matrices with different shapes ut they have same shape in at least 1 axis, Python repeats the,atrix along the other axis and makes them equal shape and then does the operation.\n",
        "\n",
        "ex: if a=[[1,2,3,4]] and you add 2 to it. [[1,2,3,4]] has shape (1,4) and 2 as shape (1,1) as the x axes shape is the same, plython replicates it along the y axis and makes 2 to [[2,2,2,2]] and adds resulting in the same output"
      ]
    },
    {
      "cell_type": "code",
      "metadata": {
        "id": "FdQTTzciYzHv",
        "colab": {
          "base_uri": "https://localhost:8080/"
        },
        "outputId": "6b59d74f-72d4-4d40-929c-d471bc61125d"
      },
      "source": [
        "a=np.array([[1,2,3,4]])\n",
        "a=a+2\n",
        "print(a)"
      ],
      "execution_count": null,
      "outputs": [
        {
          "output_type": "stream",
          "text": [
            "[[3 4 5 6]]\n"
          ],
          "name": "stdout"
        }
      ]
    },
    {
      "cell_type": "markdown",
      "metadata": {
        "id": "a2aHHicEYzHx"
      },
      "source": [
        "The same is applicable for all other element wise operations like -,*,/,exponential(2 asteriks), etc."
      ]
    },
    {
      "cell_type": "code",
      "metadata": {
        "id": "T0_pLNs7YzHx",
        "colab": {
          "base_uri": "https://localhost:8080/"
        },
        "outputId": "0ca9ddac-46da-45b6-9853-be0bbf58ac6c"
      },
      "source": [
        "a=np.array([[1,2,3,4]])\n",
        "a-=2\n",
        "print(a)"
      ],
      "execution_count": null,
      "outputs": [
        {
          "output_type": "stream",
          "text": [
            "[[-1  0  1  2]]\n"
          ],
          "name": "stdout"
        }
      ]
    },
    {
      "cell_type": "code",
      "metadata": {
        "id": "y8ke1AgBYzHz",
        "colab": {
          "base_uri": "https://localhost:8080/"
        },
        "outputId": "d7795b2a-124f-48ac-b035-acee0ac8f045"
      },
      "source": [
        "a=np.array([[1,2,3,4]])\n",
        "a*=2\n",
        "print(a)"
      ],
      "execution_count": null,
      "outputs": [
        {
          "output_type": "stream",
          "text": [
            "[[2 4 6 8]]\n"
          ],
          "name": "stdout"
        }
      ]
    },
    {
      "cell_type": "markdown",
      "metadata": {
        "id": "aFhS8tXgYzH0"
      },
      "source": [
        "Now let's take a look at trignometrical functions"
      ]
    },
    {
      "cell_type": "code",
      "metadata": {
        "id": "AWb3qeSCYzH0",
        "colab": {
          "base_uri": "https://localhost:8080/"
        },
        "outputId": "85537b7f-c8ff-424e-a3c1-b1f0a49deb0f"
      },
      "source": [
        "a=np.array([[1,2,3,4]])\n",
        "print(\"Sin of a = \"+str(np.sin(a))+\"\\nCos of a = \"+str(np.cos(a)))"
      ],
      "execution_count": null,
      "outputs": [
        {
          "output_type": "stream",
          "text": [
            "Sin of a = [[ 0.84147098  0.90929743  0.14112001 -0.7568025 ]]\n",
            "Cos of a = [[ 0.54030231 -0.41614684 -0.9899925  -0.65364362]]\n"
          ],
          "name": "stdout"
        }
      ]
    },
    {
      "cell_type": "markdown",
      "metadata": {
        "id": "S3Y19salYzH3"
      },
      "source": [
        "#### Matrix Multiplication\n",
        "Now let's take a look at some of the linear algebra stuff"
      ]
    },
    {
      "cell_type": "code",
      "metadata": {
        "id": "eKgSxgTuYzH3",
        "colab": {
          "base_uri": "https://localhost:8080/"
        },
        "outputId": "04f56efd-ad43-4c46-8eca-02944813e2f1"
      },
      "source": [
        "a=np.ones((3,2))\n",
        "b=np.full((2,3),2)\n",
        "print(\"a=\"+str(a)+\"\\n\\nb=\"+str(b))\n",
        "print(\"\\na.b=\"+str(np.matmul(a,b)))"
      ],
      "execution_count": null,
      "outputs": [
        {
          "output_type": "stream",
          "text": [
            "a=[[1. 1.]\n",
            " [1. 1.]\n",
            " [1. 1.]]\n",
            "\n",
            "b=[[2 2 2]\n",
            " [2 2 2]]\n",
            "\n",
            "a.b=[[4. 4. 4.]\n",
            " [4. 4. 4.]\n",
            " [4. 4. 4.]]\n"
          ],
          "name": "stdout"
        }
      ]
    },
    {
      "cell_type": "markdown",
      "metadata": {
        "id": "ju7OZg_nYzH5"
      },
      "source": [
        "To find the determinant of a matrix, use np.linalg.det() function"
      ]
    },
    {
      "cell_type": "code",
      "metadata": {
        "id": "94EBmh7hYzH5",
        "colab": {
          "base_uri": "https://localhost:8080/"
        },
        "outputId": "918d4db4-436b-43f3-e7bf-915b074ae064"
      },
      "source": [
        "c=np.identity(10)\n",
        "np.linalg.det(c)# det of any identity mat is 1"
      ],
      "execution_count": null,
      "outputs": [
        {
          "output_type": "execute_result",
          "data": {
            "text/plain": [
              "1.0"
            ]
          },
          "metadata": {
            "tags": []
          },
          "execution_count": 53
        }
      ]
    },
    {
      "cell_type": "markdown",
      "metadata": {
        "id": "LPnVDfx7YzH7"
      },
      "source": [
        "To find the transpose of mat use mat.T"
      ]
    },
    {
      "cell_type": "code",
      "metadata": {
        "id": "kAtT3bPeYzH8",
        "colab": {
          "base_uri": "https://localhost:8080/"
        },
        "outputId": "04e91cc6-7091-41bb-ab3d-a032527e1e39"
      },
      "source": [
        "a=np.array([[1,2,3]])\n",
        "a.T"
      ],
      "execution_count": null,
      "outputs": [
        {
          "output_type": "execute_result",
          "data": {
            "text/plain": [
              "array([[1],\n",
              "       [2],\n",
              "       [3]])"
            ]
          },
          "metadata": {
            "tags": []
          },
          "execution_count": 54
        }
      ]
    },
    {
      "cell_type": "markdown",
      "metadata": {
        "id": "up7GYOc9YzH-"
      },
      "source": [
        "For higher level of matrix manipulation like trace of a matrix, eigen values, etc. visit this link for documentation of numpy linear algebra library<br>\n",
        "<a href=\"https://docs.scipy.org/doc/numpy/reference/routines.linalg.html\">Numpy Linear Algebra Docs Link</a>"
      ]
    },
    {
      "cell_type": "markdown",
      "metadata": {
        "id": "vPn6s7o4YzH-"
      },
      "source": [
        "## Statistics with Numpy\n",
        "\n",
        "- Min\n",
        "- Max\n",
        "- Avg\n"
      ]
    },
    {
      "cell_type": "code",
      "metadata": {
        "id": "tHsg1LQ1YzH-",
        "colab": {
          "base_uri": "https://localhost:8080/"
        },
        "outputId": "bd7981d0-f405-4260-ed74-0dc0854d59cf"
      },
      "source": [
        "data=np.array([[1,2],[3,4],[5,6]])\n",
        "print(data)"
      ],
      "execution_count": null,
      "outputs": [
        {
          "output_type": "stream",
          "text": [
            "[[1 2]\n",
            " [3 4]\n",
            " [5 6]]\n"
          ],
          "name": "stdout"
        }
      ]
    },
    {
      "cell_type": "code",
      "metadata": {
        "id": "MhkHLMfNYzH_",
        "colab": {
          "base_uri": "https://localhost:8080/"
        },
        "outputId": "0c015866-85b0-42f0-e806-9ecf6778b89c"
      },
      "source": [
        "np.min(data)"
      ],
      "execution_count": null,
      "outputs": [
        {
          "output_type": "execute_result",
          "data": {
            "text/plain": [
              "1"
            ]
          },
          "metadata": {
            "tags": []
          },
          "execution_count": 56
        }
      ]
    },
    {
      "cell_type": "code",
      "metadata": {
        "id": "vzNHQb9pYzIB",
        "colab": {
          "base_uri": "https://localhost:8080/"
        },
        "outputId": "4fae4000-0cdf-4fea-cc67-4590fd7ccd4e"
      },
      "source": [
        "np.max(data)"
      ],
      "execution_count": null,
      "outputs": [
        {
          "output_type": "execute_result",
          "data": {
            "text/plain": [
              "6"
            ]
          },
          "metadata": {
            "tags": []
          },
          "execution_count": 57
        }
      ]
    },
    {
      "cell_type": "markdown",
      "metadata": {
        "id": "8mSLs-scYzID"
      },
      "source": [
        "We can also use the axis attriblue to decide along which axis to find the min/max/etc."
      ]
    },
    {
      "cell_type": "code",
      "metadata": {
        "id": "LV6tZCo5YzID",
        "colab": {
          "base_uri": "https://localhost:8080/"
        },
        "outputId": "08f4c11b-2a93-4a95-dfaf-29454302147f"
      },
      "source": [
        "np.min(data,axis=0)"
      ],
      "execution_count": null,
      "outputs": [
        {
          "output_type": "execute_result",
          "data": {
            "text/plain": [
              "array([1, 2])"
            ]
          },
          "metadata": {
            "tags": []
          },
          "execution_count": 58
        }
      ]
    },
    {
      "cell_type": "code",
      "metadata": {
        "id": "QBMCE10jYzIF",
        "colab": {
          "base_uri": "https://localhost:8080/"
        },
        "outputId": "7925a95a-03d7-420d-93ee-65671e036894"
      },
      "source": [
        "np.min(data,axis=1)"
      ],
      "execution_count": null,
      "outputs": [
        {
          "output_type": "execute_result",
          "data": {
            "text/plain": [
              "array([1, 3, 5])"
            ]
          },
          "metadata": {
            "tags": []
          },
          "execution_count": 59
        }
      ]
    },
    {
      "cell_type": "code",
      "metadata": {
        "id": "zAAf0AzzYzIG",
        "colab": {
          "base_uri": "https://localhost:8080/"
        },
        "outputId": "da7356d5-a784-46db-8ce7-95805ae99c40"
      },
      "source": [
        "print(\"Sum : \"+str(np.sum(data))+\"\\nSum(along axis 0) : \"+str(np.sum(data,axis=0))+\"\\nSum(along axis 1) : \"+str(np.sum(data,axis=1)))"
      ],
      "execution_count": null,
      "outputs": [
        {
          "output_type": "stream",
          "text": [
            "Sum : 21\n",
            "Sum(along axis 0) : [ 9 12]\n",
            "Sum(along axis 1) : [ 3  7 11]\n"
          ],
          "name": "stdout"
        }
      ]
    },
    {
      "cell_type": "markdown",
      "metadata": {
        "id": "fmoRlB5JYzIH"
      },
      "source": [
        "## Reorganizing Arrays\n",
        "\n",
        "1.Reshape: You can use reshape top reshape an array as long as the multiplication of all dimensions in that array are equal to the size of that array"
      ]
    },
    {
      "cell_type": "code",
      "metadata": {
        "id": "Qhk8CUqrYzII",
        "colab": {
          "base_uri": "https://localhost:8080/"
        },
        "outputId": "60dd3387-30c8-4670-9ba3-b481c5b21630"
      },
      "source": [
        "a=np.array([[1,2],[3,4],[5,6],[7,8]])\n",
        "print(a.shape)\n",
        "a=a.reshape((8,1))\n",
        "print(\"\\n a(after reshape) = \"+str(a))\n",
        "a=a.reshape((1,8))\n",
        "print(\"\\n a(after reshape) = \"+str(a))\n",
        "\n",
        "# a=a.reshape((4,4)) #can't do this as 4*4!=4*2\n",
        "# print(\"\\n a(after reshape) = \"+str(a))"
      ],
      "execution_count": null,
      "outputs": [
        {
          "output_type": "stream",
          "text": [
            "(4, 2)\n",
            "\n",
            " a(after reshape) = [[1]\n",
            " [2]\n",
            " [3]\n",
            " [4]\n",
            " [5]\n",
            " [6]\n",
            " [7]\n",
            " [8]]\n",
            "\n",
            " a(after reshape) = [[1 2 3 4 5 6 7 8]]\n"
          ],
          "name": "stdout"
        }
      ]
    },
    {
      "cell_type": "markdown",
      "metadata": {
        "id": "zL8LbV1EYzIJ"
      },
      "source": [
        "We can also reshape it into 3 dimensions as long as it has the same value as size when all dims are multiplied together"
      ]
    },
    {
      "cell_type": "code",
      "metadata": {
        "id": "s_4x8HiMYzIJ",
        "colab": {
          "base_uri": "https://localhost:8080/"
        },
        "outputId": "3954c9f7-0466-48a5-b032-e3e8e5089299"
      },
      "source": [
        "assert 2*2*2==a.size\n",
        "a=a.reshape((2,2,2))\n",
        "print(\"a = \"+str(a))"
      ],
      "execution_count": null,
      "outputs": [
        {
          "output_type": "stream",
          "text": [
            "a = [[[1 2]\n",
            "  [3 4]]\n",
            "\n",
            " [[5 6]\n",
            "  [7 8]]]\n"
          ],
          "name": "stdout"
        }
      ]
    },
    {
      "cell_type": "markdown",
      "metadata": {
        "id": "9TtuJZKvYzIL"
      },
      "source": [
        "2.vstack:To vertically any nos. of matrices then you can use the np.vstack(). It takes a list of arrays and stacks them up vertically"
      ]
    },
    {
      "cell_type": "code",
      "metadata": {
        "id": "VnNhj3cqYzIL",
        "colab": {
          "base_uri": "https://localhost:8080/"
        },
        "outputId": "fd8400ff-d868-4749-930e-22668e19088c"
      },
      "source": [
        "a=[1,2,3,4]\n",
        "b=[5,6,7,8]\n",
        "np.vstack([a,b,a,b])"
      ],
      "execution_count": null,
      "outputs": [
        {
          "output_type": "execute_result",
          "data": {
            "text/plain": [
              "array([[1, 2, 3, 4],\n",
              "       [5, 6, 7, 8],\n",
              "       [1, 2, 3, 4],\n",
              "       [5, 6, 7, 8]])"
            ]
          },
          "metadata": {
            "tags": []
          },
          "execution_count": 63
        }
      ]
    },
    {
      "cell_type": "markdown",
      "metadata": {
        "id": "7g4RJ0fTYzIN"
      },
      "source": [
        "3.hstack: Same as vstack but stacks them horizontally"
      ]
    },
    {
      "cell_type": "code",
      "metadata": {
        "id": "eWOk_bqWYzIN",
        "colab": {
          "base_uri": "https://localhost:8080/"
        },
        "outputId": "e39ab3ff-0c93-474b-926d-3f04e12fb7c4"
      },
      "source": [
        "np.hstack([a,b,a,b])"
      ],
      "execution_count": null,
      "outputs": [
        {
          "output_type": "execute_result",
          "data": {
            "text/plain": [
              "array([1, 2, 3, 4, 5, 6, 7, 8, 1, 2, 3, 4, 5, 6, 7, 8])"
            ]
          },
          "metadata": {
            "tags": []
          },
          "execution_count": 64
        }
      ]
    },
    {
      "cell_type": "markdown",
      "metadata": {
        "id": "YhTqgtC7YzIg"
      },
      "source": [
        "## Vectorization"
      ]
    },
    {
      "cell_type": "markdown",
      "metadata": {
        "id": "nrwTz2QfYzIg"
      },
      "source": [
        "Vectorization is used to speed up the Python code without using loop. Using such a function can help in minimizing the running time of code efficiently. Various operations are being performed over vector such as dot product of vectors which is also known as scalar product as it produces single output, outer products which results in square matrix of dimension equal to length X length of the vectors, Element wise multiplication which products the element of same indexes and dimension of the matrix remain unchanged."
      ]
    },
    {
      "cell_type": "code",
      "metadata": {
        "id": "R0aKQghcYzIg",
        "colab": {
          "base_uri": "https://localhost:8080/"
        },
        "outputId": "a31f0246-06d2-4425-980b-43c9ac116ffb"
      },
      "source": [
        "import time\n",
        "n=1000000\n",
        "a=np.random.randn(n)\n",
        "b=np.random.randn(n)\n",
        "\n",
        "tic=time.time()\n",
        "c1=0\n",
        "for i in range(n):\n",
        "    c1+=a[i]*b[i]\n",
        "toc=time.time()\n",
        "print(\"Time taken using basic for loops : \"+str(1000*(toc-tic))+\"ms\")\n",
        "\n",
        "tic=time.time()\n",
        "c2=np.dot(a,b)\n",
        "toc=time.time()\n",
        "print(\"Time taken using Vectorized version : \"+str(1000*(toc-tic))+\"ms\")\n",
        "\n",
        "assert int(c1)==int(c2)"
      ],
      "execution_count": null,
      "outputs": [
        {
          "output_type": "stream",
          "text": [
            "Time taken using basic for loops : 610.5093955993652ms\n",
            "Time taken using Vectorized version : 1.7697811126708984ms\n"
          ],
          "name": "stdout"
        }
      ]
    },
    {
      "cell_type": "markdown",
      "metadata": {
        "id": "KyjTi5crYzIi"
      },
      "source": [
        "Vectorization is just using in built functions in numpy instead of for loops. You should avoid for loops wherever you can, except if necessary. As for loops take up time and are less efficient then vectorized versions. \n",
        "\n",
        "The difference in the finctions is that they directly do operations on the lists instead element by element. That is the magic of Python and why we should embrace it and use it in out projects"
      ]
    }
  ]
}