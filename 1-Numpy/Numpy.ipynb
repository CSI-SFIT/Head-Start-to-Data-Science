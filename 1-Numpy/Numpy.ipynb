{
 "cells": [
  {
   "cell_type": "markdown",
   "metadata": {},
   "source": [
    "# NUMPY\n",
    "\n",
    "Numpy is a multidimensional array library in python. So you can use numpy to store all sorts of arrays from 1D arrays(which is just a single number) to any n dimensional arrays.<br>\n",
    "Now obviously Pysthon has a great inbuild functionality called **lists** that can store multidimensional arrays with relative ease. So why use Numpy instead of Lists?\n",
    "<table>\n",
    "    <tr>\n",
    "        <th><center><h1>Lists</h1></center></th>\n",
    "        <th><center><h1>Numpy</h1></center></th>\n",
    "    </tr>\n",
    "    <tr>\n",
    "        <th><img src=\"https://drive.google.com/uc?id=1OvF5kk1RPWo0NqB6XR_3YTVJ8Xvxe0g2\" height=500 width=500 alt=\"Slow image\"></th>\n",
    "        <th><img src=\"https://drive.google.com/uc?id=13dHeRTUMYcpKSCLult0vl0m62s1Odh1_\" height=500 width=500 alt=\"Fast image\"></th>\n",
    "    </tr>\n",
    "</table>\n",
    "<br><br>\n",
    "<h3>So why are Lists slow and Numpy fast?</h3>\n",
    "\n",
    "* **Numpy uses fixed types**: Each element in an array in numpy is only represented by default by a 32 bit size value(You can make it less). Whereas lists have to store 4 things for each element in a list. Object value(different for each type), Object Type(type of element), Reference Count(No of times it is referenced) and size of the element. This makes it faster to access and put data into numpy than for lists\n",
    "\n",
    "* **No typechecking when iterating through objects**: When we are iterating through a Numpy array, you don't have to do typoe checking for each element as all are the same type. But in lists you have to check type of each element.\n",
    "\n",
    "* **Numpy uses contiguous memory**: Lists don't use contiguous memory wheread Numpy uses contiguous memory like arrays in C. So accessing each element is faster in Numpy as you can just go one step forward. Whereas in Lists you have to map each element to it's memory and then access each memory location.(There are also further benefits like being able to use SIMD Vector Processing elements in the CPU but they are not in the scope of today's workshop).\n",
    "\n",
    "* **Numpy allows usage of Broadcasting**: Numpy allows use of broadcasting which means that we can do operations with incompatible array sizes. We will get back to this later as this is an important aspect of numpy.\n",
    "\n",
    "* **Numpy allows element wise operations**: Numpy allows us to do element by element operations whereas lists give errors. Ex: [1,2,3]+[4,5,6] gives error in lists but gives [5,7,9] in Numpy. This is also an important aspect of Numpy. \n",
    "\n",
    "* **Numpy supports vectorization**: Numpy allows us to use vectorization which significantly boost the performance of arrays. We'll take a look at this later.\n",
    "\n",
    "## Applications of Numpy\n",
    "\n",
    "Numpy is used everywhere when you have to use multi dimensional arrays in python. It can be used in:\n",
    "\n",
    "- As a replacement for MATLAB\n",
    "- Used for plotting using matplotlib\n",
    "- It is used in backend by libraries like pandas, Connect4, etc.\n",
    "- Used in Machine Learning\n",
    "- And of course used all across Data Science\n",
    "\n",
    "## Installing Numpy\n",
    "\n",
    "Go over to your command prompt and as you already have python and pip installed just go over to yourcommand line and type in\n",
    "\n",
    "**pip install numpy** \n",
    "\n",
    "and it will install the numpy library for you.\n",
    "\n",
    "## Importing Numpy into your project\n",
    "\n",
    "Now that we've installed Numpy, we have to import it into the project to work with it. The standard is to import numpy as np as it shortens all calls like numpy.arrays becomes np.arrays and it is the same across people's codes everywhere and it improves readabitlity of your code so we import numpy as np. \n",
    "\n",
    "**For those who don't know, use Shift+Enter or the run button on the top to run a cell**"
   ]
  },
  {
   "cell_type": "code",
   "execution_count": 1,
   "metadata": {},
   "outputs": [],
   "source": [
    "import numpy as np"
   ]
  },
  {
   "cell_type": "markdown",
   "metadata": {},
   "source": [
    "Before anything else let's take a look at the efficiency of numpy arrays over python lists\n",
    "\n",
    "First let's look at the time gained"
   ]
  },
  {
   "cell_type": "code",
   "execution_count": 2,
   "metadata": {},
   "outputs": [
    {
     "name": "stdout",
     "output_type": "stream",
     "text": [
      "Time taken by Lists to perform multiplication: 1.2580628395080566 seconds\n",
      "Time taken by NumPy Arrays to perform multiplication: 0.014640331268310547 seconds\n"
     ]
    }
   ],
   "source": [
    "import time \n",
    "\n",
    "n = 10000000 \n",
    "l1 = range(n) #2 python lists\n",
    "l2 = range(n) \n",
    "arr1 = np.arange(n) #2 numpy \n",
    "arr2 = np.arange(n) \n",
    "\n",
    "tic = time.time() \n",
    "\n",
    "flist = [(i*j) for i,j in zip(l1, l2)] \n",
    "\n",
    "print(\"Time taken by Lists to perform multiplication:\",  \n",
    "      (time.time() - tic), \n",
    "      \"seconds\") \n",
    "   \n",
    "tic = time.time() \n",
    "\n",
    "farray = arr1 * arr2 \n",
    " \n",
    "print(\"Time taken by NumPy Arrays to perform multiplication:\", \n",
    "      (time.time() - tic), \n",
    "      \"seconds\")"
   ]
  },
  {
   "cell_type": "markdown",
   "metadata": {},
   "source": [
    "Now let's take a look at the space taken side of things"
   ]
  },
  {
   "cell_type": "code",
   "execution_count": 3,
   "metadata": {},
   "outputs": [
    {
     "name": "stdout",
     "output_type": "stream",
     "text": [
      "Size of each element of list in bytes:  48\n",
      "Size of the whole list in bytes:  48000\n",
      "Size of each element of the Numpy array in bytes:  4\n",
      "Size of the whole Numpy array in bytes:  4000\n"
     ]
    }
   ],
   "source": [
    "import sys \n",
    "\n",
    "S= range(1000) \n",
    "\n",
    "print(\"Size of each element of list in bytes: \",sys.getsizeof(S)) \n",
    "\n",
    "print(\"Size of the whole list in bytes: \",sys.getsizeof(S)*len(S)) \n",
    "\n",
    "D= np.arange(1000) \n",
    "\n",
    "print(\"Size of each element of the Numpy array in bytes: \",D.itemsize) \n",
    "\n",
    "print(\"Size of the whole Numpy array in bytes: \",D.size*D.itemsize) "
   ]
  },
  {
   "cell_type": "markdown",
   "metadata": {},
   "source": [
    "## Basics\n",
    "\n",
    "- Defining arrays\n",
    "- Array Functions"
   ]
  },
  {
   "cell_type": "code",
   "execution_count": 4,
   "metadata": {},
   "outputs": [
    {
     "data": {
      "text/plain": [
       "array([1, 2, 3])"
      ]
     },
     "execution_count": 4,
     "metadata": {},
     "output_type": "execute_result"
    }
   ],
   "source": [
    "a=np.array([1,2,3])\n",
    "a # it can be seen that the type of numpy arrays is array"
   ]
  },
  {
   "cell_type": "code",
   "execution_count": 5,
   "metadata": {},
   "outputs": [
    {
     "data": {
      "text/plain": [
       "array([[1., 2., 3.],\n",
       "       [4., 5., 6.],\n",
       "       [7., 8., 9.]])"
      ]
     },
     "execution_count": 5,
     "metadata": {},
     "output_type": "execute_result"
    }
   ],
   "source": [
    "b=np.array([[1.0,2.0,3.0],[4.0,5.0,6.0],[7.0,8.0,9.0]]) # a complex 2D array of floats. Numpy represents 2.0 as 2.\n",
    "b"
   ]
  },
  {
   "cell_type": "markdown",
   "metadata": {},
   "source": [
    "Now let's take a look at some functions of the arrays to find the no. of dimensions, shape of the array, etc."
   ]
  },
  {
   "cell_type": "code",
   "execution_count": 6,
   "metadata": {},
   "outputs": [
    {
     "name": "stdout",
     "output_type": "stream",
     "text": [
      "No. of Dims in a : 1\n",
      "No. of Dims in b : 2\n"
     ]
    }
   ],
   "source": [
    "print(\"No. of Dims in a : \"+str(a.ndim)+\"\\nNo. of Dims in b : \"+str(b.ndim))"
   ]
  },
  {
   "cell_type": "code",
   "execution_count": 7,
   "metadata": {},
   "outputs": [
    {
     "name": "stdout",
     "output_type": "stream",
     "text": [
      "Shape of a : (3,)\n",
      "Shape of b(3, 3)\n"
     ]
    }
   ],
   "source": [
    "print(\"Shape of a : \"+str(a.shape)+\"\\nShape of b\"+str(b.shape))"
   ]
  },
  {
   "cell_type": "markdown",
   "metadata": {},
   "source": [
    "Now I would like to point something out here. Look at the shape of a. It gives (3,). This means that a is a vector. This is dangerous as it can cause errors in your code. So don't use these types of arrays. Instead use (3,1) arrays which is a column array. \n",
    "\n",
    "Now consider you have this array and you take it's transpose. It gives a (1,3) array in your mind but it gives a (,3) array. Now you try to use matrix multiplication. Now by the rules, a (3,1) array mult by (1,3) will give a (3,3) array. Watch what happens with this one."
   ]
  },
  {
   "cell_type": "code",
   "execution_count": 8,
   "metadata": {},
   "outputs": [
    {
     "data": {
      "text/plain": [
       "(3,)"
      ]
     },
     "execution_count": 8,
     "metadata": {},
     "output_type": "execute_result"
    }
   ],
   "source": [
    "c=a.T #taking a transpose\n",
    "c.shape"
   ]
  },
  {
   "cell_type": "code",
   "execution_count": 9,
   "metadata": {},
   "outputs": [
    {
     "data": {
      "text/plain": [
       "14"
      ]
     },
     "execution_count": 9,
     "metadata": {},
     "output_type": "execute_result"
    }
   ],
   "source": [
    "np.dot(a,c)#taking matrix multiplication"
   ]
  },
  {
   "cell_type": "markdown",
   "metadata": {},
   "source": [
    "It gives a number. Instead let's redefine a and try this again"
   ]
  },
  {
   "cell_type": "code",
   "execution_count": 10,
   "metadata": {},
   "outputs": [
    {
     "data": {
      "text/plain": [
       "(3, 1)"
      ]
     },
     "execution_count": 10,
     "metadata": {},
     "output_type": "execute_result"
    }
   ],
   "source": [
    "a=np.array([[1],[2],[3]])\n",
    "a.shape"
   ]
  },
  {
   "cell_type": "markdown",
   "metadata": {},
   "source": [
    "Now lets apply the same operations:"
   ]
  },
  {
   "cell_type": "code",
   "execution_count": 11,
   "metadata": {},
   "outputs": [
    {
     "data": {
      "text/plain": [
       "(1, 3)"
      ]
     },
     "execution_count": 11,
     "metadata": {},
     "output_type": "execute_result"
    }
   ],
   "source": [
    "c=a.T\n",
    "c.shape"
   ]
  },
  {
   "cell_type": "code",
   "execution_count": 12,
   "metadata": {},
   "outputs": [
    {
     "data": {
      "text/plain": [
       "array([[1, 2, 3],\n",
       "       [2, 4, 6],\n",
       "       [3, 6, 9]])"
      ]
     },
     "execution_count": 12,
     "metadata": {},
     "output_type": "execute_result"
    }
   ],
   "source": [
    "np.dot(a,c)"
   ]
  },
  {
   "cell_type": "markdown",
   "metadata": {},
   "source": [
    "Hence even later when using the random library of numpy, don't use vectory. Instead use column arrays.\n",
    "\n",
    "Now let's get back to it. To find the data type of an array:"
   ]
  },
  {
   "cell_type": "code",
   "execution_count": 13,
   "metadata": {},
   "outputs": [
    {
     "name": "stdout",
     "output_type": "stream",
     "text": [
      "Data Type of a : int32\n",
      "Data Type of b : float64\n"
     ]
    }
   ],
   "source": [
    "print(\"Data Type of a : \"+str(a.dtype)+\"\\nData Type of b : \"+str(b.dtype))"
   ]
  },
  {
   "cell_type": "markdown",
   "metadata": {},
   "source": [
    "You can also change the type when definingthe array.\n",
    "Ex:"
   ]
  },
  {
   "cell_type": "code",
   "execution_count": 14,
   "metadata": {},
   "outputs": [
    {
     "data": {
      "text/plain": [
       "dtype('int16')"
      ]
     },
     "execution_count": 14,
     "metadata": {},
     "output_type": "execute_result"
    }
   ],
   "source": [
    "a=np.array([[1],[2],[3]],dtype='int16')\n",
    "a.dtype"
   ]
  },
  {
   "cell_type": "code",
   "execution_count": 15,
   "metadata": {},
   "outputs": [
    {
     "data": {
      "text/plain": [
       "dtype('int8')"
      ]
     },
     "execution_count": 15,
     "metadata": {},
     "output_type": "execute_result"
    }
   ],
   "source": [
    "a=np.array([[1],[2],[3]],dtype='int8')\n",
    "a.dtype"
   ]
  },
  {
   "cell_type": "markdown",
   "metadata": {},
   "source": [
    "We can also find the size of each item in the array(in bytes)"
   ]
  },
  {
   "cell_type": "code",
   "execution_count": 16,
   "metadata": {},
   "outputs": [
    {
     "data": {
      "text/plain": [
       "1"
      ]
     },
     "execution_count": 16,
     "metadata": {},
     "output_type": "execute_result"
    }
   ],
   "source": [
    "a.itemsize#8 bits from \"int8\" is 1 byte"
   ]
  },
  {
   "cell_type": "code",
   "execution_count": 17,
   "metadata": {},
   "outputs": [
    {
     "data": {
      "text/plain": [
       "8"
      ]
     },
     "execution_count": 17,
     "metadata": {},
     "output_type": "execute_result"
    }
   ],
   "source": [
    "b.itemsize#float 64 bits is 8 bytes as 64/8 is 8"
   ]
  },
  {
   "cell_type": "markdown",
   "metadata": {},
   "source": [
    "We can also find the total size of the array using a.nbytes. Let's check if its correct"
   ]
  },
  {
   "cell_type": "code",
   "execution_count": 18,
   "metadata": {},
   "outputs": [],
   "source": [
    "assert a.nbytes==a.size*a.itemsize #no error "
   ]
  },
  {
   "cell_type": "markdown",
   "metadata": {},
   "source": [
    "## Accesing/Changing some elements in rows, columns\n",
    "Now let's see how we access elements, rows, colums etc."
   ]
  },
  {
   "cell_type": "code",
   "execution_count": 19,
   "metadata": {},
   "outputs": [
    {
     "data": {
      "text/plain": [
       "(2, 7)"
      ]
     },
     "execution_count": 19,
     "metadata": {},
     "output_type": "execute_result"
    }
   ],
   "source": [
    "d=np.array([[1,2,3,4,5,6,7],[8,9,10,11,12,13,14]])\n",
    "d.shape"
   ]
  },
  {
   "cell_type": "code",
   "execution_count": 20,
   "metadata": {},
   "outputs": [
    {
     "data": {
      "text/plain": [
       "13"
      ]
     },
     "execution_count": 20,
     "metadata": {},
     "output_type": "execute_result"
    }
   ],
   "source": [
    "d[1,5]#you can access elements by using d[i,j,k,...] just like normal arrays"
   ]
  },
  {
   "cell_type": "code",
   "execution_count": 21,
   "metadata": {},
   "outputs": [
    {
     "data": {
      "text/plain": [
       "array([ 8,  9, 10, 11, 12, 13, 14])"
      ]
     },
     "execution_count": 21,
     "metadata": {},
     "output_type": "execute_result"
    }
   ],
   "source": [
    "d[1,:]#you can access a row by setting the y dim as all(:)"
   ]
  },
  {
   "cell_type": "code",
   "execution_count": 22,
   "metadata": {},
   "outputs": [
    {
     "data": {
      "text/plain": [
       "array([ 3, 10])"
      ]
     },
     "execution_count": 22,
     "metadata": {},
     "output_type": "execute_result"
    }
   ],
   "source": [
    "d[:,2]#access a column by setting x as all(:)"
   ]
  },
  {
   "cell_type": "code",
   "execution_count": 23,
   "metadata": {},
   "outputs": [
    {
     "data": {
      "text/plain": [
       "13"
      ]
     },
     "execution_count": 23,
     "metadata": {},
     "output_type": "execute_result"
    }
   ],
   "source": [
    "d[1,-2]#we can also use negative indices to reference from the back"
   ]
  },
  {
   "cell_type": "markdown",
   "metadata": {},
   "source": [
    "You can also cut slices by using start index and end index. Remember that the end index is not inclusive\n",
    "\n",
    "We can use the array_equal function in numpy to check if both are equal or not"
   ]
  },
  {
   "cell_type": "code",
   "execution_count": 24,
   "metadata": {},
   "outputs": [],
   "source": [
    "assert np.array_equal(list(range(9,13)),d[1,1:5])"
   ]
  },
  {
   "cell_type": "markdown",
   "metadata": {},
   "source": [
    "Also you can change the step size between the nos."
   ]
  },
  {
   "cell_type": "code",
   "execution_count": 25,
   "metadata": {},
   "outputs": [
    {
     "data": {
      "text/plain": [
       "array([ 9, 11, 13])"
      ]
     },
     "execution_count": 25,
     "metadata": {},
     "output_type": "execute_result"
    }
   ],
   "source": [
    "d[1,1:-1:2]"
   ]
  },
  {
   "cell_type": "markdown",
   "metadata": {},
   "source": [
    "Also we can assign nos., rown and colums using this"
   ]
  },
  {
   "cell_type": "code",
   "execution_count": 26,
   "metadata": {},
   "outputs": [
    {
     "data": {
      "text/plain": [
       "array([[ 1,  2,  3,  4,  5,  6,  7],\n",
       "       [ 9, 10, 11, 12, 13, 14, 15]])"
      ]
     },
     "execution_count": 26,
     "metadata": {},
     "output_type": "execute_result"
    }
   ],
   "source": [
    "d[1,:]=[9, 10, 11, 12, 13, 14,15]\n",
    "d"
   ]
  },
  {
   "cell_type": "markdown",
   "metadata": {},
   "source": [
    "Let's try with a 3d array"
   ]
  },
  {
   "cell_type": "code",
   "execution_count": 27,
   "metadata": {},
   "outputs": [
    {
     "data": {
      "text/plain": [
       "array([[[1, 2],\n",
       "        [3, 4]],\n",
       "\n",
       "       [[5, 6],\n",
       "        [7, 8]]])"
      ]
     },
     "execution_count": 27,
     "metadata": {},
     "output_type": "execute_result"
    }
   ],
   "source": [
    "b=np.array([[[1,2],[3,4]],[[5,6],[7,8]]])\n",
    "b"
   ]
  },
  {
   "cell_type": "code",
   "execution_count": 28,
   "metadata": {},
   "outputs": [
    {
     "data": {
      "text/plain": [
       "array([[5, 6],\n",
       "       [7, 8]])"
      ]
     },
     "execution_count": 28,
     "metadata": {},
     "output_type": "execute_result"
    }
   ],
   "source": [
    "b[1]"
   ]
  },
  {
   "cell_type": "code",
   "execution_count": 29,
   "metadata": {},
   "outputs": [
    {
     "data": {
      "text/plain": [
       "array([5, 6])"
      ]
     },
     "execution_count": 29,
     "metadata": {},
     "output_type": "execute_result"
    }
   ],
   "source": [
    "b[1][0]"
   ]
  },
  {
   "cell_type": "code",
   "execution_count": 30,
   "metadata": {},
   "outputs": [
    {
     "data": {
      "text/plain": [
       "6"
      ]
     },
     "execution_count": 30,
     "metadata": {},
     "output_type": "execute_result"
    }
   ],
   "source": [
    "b[1,0,1]"
   ]
  },
  {
   "cell_type": "code",
   "execution_count": 31,
   "metadata": {},
   "outputs": [
    {
     "data": {
      "text/plain": [
       "array([[[ 1,  2],\n",
       "        [ 3,  4]],\n",
       "\n",
       "       [[ 9, 10],\n",
       "        [11, 12]]])"
      ]
     },
     "execution_count": 31,
     "metadata": {},
     "output_type": "execute_result"
    }
   ],
   "source": [
    "b[1]=[[9,10],[11,12]]\n",
    "b"
   ]
  },
  {
   "cell_type": "markdown",
   "metadata": {},
   "source": [
    "## Different Types of Inbuilt Arrays\n",
    "\n",
    "Numpy allows us to be able to define some common arrays used like the all zeros, all ones, etc. array. Let's take a look at some of them.\n",
    "\n",
    "As i said earlier,dont pass values like 3 in the shape fo these arrays as that will mess up your code.\n",
    "\n",
    "First let's look at the zeros function in numpy"
   ]
  },
  {
   "cell_type": "code",
   "execution_count": 32,
   "metadata": {},
   "outputs": [
    {
     "data": {
      "text/plain": [
       "(5,)"
      ]
     },
     "execution_count": 32,
     "metadata": {},
     "output_type": "execute_result"
    }
   ],
   "source": [
    "a=np.zeros(5) #Don't do this as it becomes a vector and we have discussed this earlier\n",
    "a.shape"
   ]
  },
  {
   "cell_type": "code",
   "execution_count": 33,
   "metadata": {},
   "outputs": [],
   "source": [
    "# a=np.zeros(5,1) #also dont do this. as this will give an error. We pass a tuple that is the shape \n",
    "#                   into the function so there will be 2 paranthesis"
   ]
  },
  {
   "cell_type": "code",
   "execution_count": 34,
   "metadata": {},
   "outputs": [
    {
     "name": "stdout",
     "output_type": "stream",
     "text": [
      "[[0. 0. 0. 0. 0.]\n",
      " [0. 0. 0. 0. 0.]\n",
      " [0. 0. 0. 0. 0.]\n",
      " [0. 0. 0. 0. 0.]\n",
      " [0. 0. 0. 0. 0.]]\n"
     ]
    }
   ],
   "source": [
    "a=np.zeros((5,5)) #a correct example of \n",
    "print(a)"
   ]
  },
  {
   "cell_type": "code",
   "execution_count": 35,
   "metadata": {},
   "outputs": [
    {
     "name": "stdout",
     "output_type": "stream",
     "text": [
      "[[[0 0 0 0 0]\n",
      "  [0 0 0 0 0]\n",
      "  [0 0 0 0 0]\n",
      "  [0 0 0 0 0]\n",
      "  [0 0 0 0 0]]\n",
      "\n",
      " [[0 0 0 0 0]\n",
      "  [0 0 0 0 0]\n",
      "  [0 0 0 0 0]\n",
      "  [0 0 0 0 0]\n",
      "  [0 0 0 0 0]]\n",
      "\n",
      " [[0 0 0 0 0]\n",
      "  [0 0 0 0 0]\n",
      "  [0 0 0 0 0]\n",
      "  [0 0 0 0 0]\n",
      "  [0 0 0 0 0]]\n",
      "\n",
      " [[0 0 0 0 0]\n",
      "  [0 0 0 0 0]\n",
      "  [0 0 0 0 0]\n",
      "  [0 0 0 0 0]\n",
      "  [0 0 0 0 0]]\n",
      "\n",
      " [[0 0 0 0 0]\n",
      "  [0 0 0 0 0]\n",
      "  [0 0 0 0 0]\n",
      "  [0 0 0 0 0]\n",
      "  [0 0 0 0 0]]]\n"
     ]
    }
   ],
   "source": [
    "a=np.zeros((5,5,5),dtype=\"int8\")\n",
    "print(a)"
   ]
  },
  {
   "cell_type": "markdown",
   "metadata": {},
   "source": [
    "Now, let's take a look at an all 1s matrix using ones function. \n",
    "\n",
    "We can also specify datatypes in each of these like when defining"
   ]
  },
  {
   "cell_type": "code",
   "execution_count": 36,
   "metadata": {},
   "outputs": [
    {
     "name": "stdout",
     "output_type": "stream",
     "text": [
      "[[1 1 1 1 1]\n",
      " [1 1 1 1 1]\n",
      " [1 1 1 1 1]\n",
      " [1 1 1 1 1]\n",
      " [1 1 1 1 1]]\n"
     ]
    }
   ],
   "source": [
    "a=np.ones((5,5),dtype=\"int8\")\n",
    "print(a)"
   ]
  },
  {
   "cell_type": "markdown",
   "metadata": {},
   "source": [
    "If you want any other number, there are 2 ways. You can multiply a ones array by that no. or use the np.full function"
   ]
  },
  {
   "cell_type": "code",
   "execution_count": 37,
   "metadata": {},
   "outputs": [
    {
     "name": "stdout",
     "output_type": "stream",
     "text": [
      "a = [[5. 5. 5. 5. 5.]\n",
      " [5. 5. 5. 5. 5.]\n",
      " [5. 5. 5. 5. 5.]\n",
      " [5. 5. 5. 5. 5.]\n",
      " [5. 5. 5. 5. 5.]]\n",
      "b = [[5 5 5 5 5]\n",
      " [5 5 5 5 5]\n",
      " [5 5 5 5 5]\n",
      " [5 5 5 5 5]\n",
      " [5 5 5 5 5]]\n"
     ]
    }
   ],
   "source": [
    "a=5*np.ones((5,5))\n",
    "b=np.full((5,5),5)\n",
    "print(\"a = \"+str(a)+\"\\nb = \"+str(b))\n",
    "assert np.array_equal(a,b)"
   ]
  },
  {
   "cell_type": "markdown",
   "metadata": {},
   "source": [
    "There is another function named full_like which takes another array as input and assigns all nos the same value"
   ]
  },
  {
   "cell_type": "code",
   "execution_count": 38,
   "metadata": {},
   "outputs": [
    {
     "name": "stdout",
     "output_type": "stream",
     "text": [
      "Original array:[[ 1  2  3  4  5  6  7]\n",
      " [ 8  9 10 11 12 13 14]]\n",
      "\n",
      "After full_like:[[5 5 5 5 5 5 5]\n",
      " [5 5 5 5 5 5 5]]\n"
     ]
    }
   ],
   "source": [
    "a=np.array([[1,2,3,4,5,6,7],[8,9,10,11,12,13,14]])\n",
    "print(\"Original array:\"+str(a))\n",
    "a=np.full_like(a,5)\n",
    "print(\"\\nAfter full_like:\"+str(a))"
   ]
  },
  {
   "cell_type": "markdown",
   "metadata": {},
   "source": [
    "Or you can just use the a.shape property with the full function"
   ]
  },
  {
   "cell_type": "code",
   "execution_count": 39,
   "metadata": {},
   "outputs": [
    {
     "name": "stdout",
     "output_type": "stream",
     "text": [
      "Original array:[[ 1  2  3  4  5  6  7]\n",
      " [ 8  9 10 11 12 13 14]]\n",
      "\n",
      "After full_like:[[5 5 5 5 5 5 5]\n",
      " [5 5 5 5 5 5 5]]\n"
     ]
    }
   ],
   "source": [
    "a=np.array([[1,2,3,4,5,6,7],[8,9,10,11,12,13,14]])\n",
    "print(\"Original array:\"+str(a))\n",
    "a=np.full(a.shape,5)\n",
    "print(\"\\nAfter full_like:\"+str(a))"
   ]
  },
  {
   "cell_type": "markdown",
   "metadata": {},
   "source": [
    "You will need to generate random nos. later on in machine learning as setting it all to 0 or 1 is not good enough. You can use the numpy.random.rand(generates samples from a uniform distribution (in the range [0,1)). and numpy.random.randn(generates samples from the normal distribution) function for that\n",
    "\n",
    "This is how they look link\n",
    "<img src=\"randvsrandn.png\">"
   ]
  },
  {
   "cell_type": "code",
   "execution_count": 40,
   "metadata": {},
   "outputs": [
    {
     "name": "stdout",
     "output_type": "stream",
     "text": [
      "[[0.17398503 0.88824055 0.76628661]\n",
      " [0.38719241 0.49153998 0.99837073]]\n"
     ]
    }
   ],
   "source": [
    "a=np.random.rand(2,3)\n",
    "print(a)"
   ]
  },
  {
   "cell_type": "code",
   "execution_count": 41,
   "metadata": {},
   "outputs": [
    {
     "name": "stdout",
     "output_type": "stream",
     "text": [
      "[[-1.06330097 -0.73158693 -1.46685323]\n",
      " [-0.22090452 -1.28561888 -0.54978944]]\n"
     ]
    }
   ],
   "source": [
    "a=np.random.randn(2,3)\n",
    "print(a)"
   ]
  },
  {
   "cell_type": "markdown",
   "metadata": {},
   "source": [
    "Now the thing to remember is that in random functions you dont pass in tuples so if you want to use a tuple (like shaoe of a matrix) the you will have to either manually pass in the dimensions or use np.random.random_samples function"
   ]
  },
  {
   "cell_type": "code",
   "execution_count": 42,
   "metadata": {},
   "outputs": [
    {
     "name": "stdout",
     "output_type": "stream",
     "text": [
      "Shape of a = (2, 7)\n",
      "\n",
      "b(with randn)= [[-0.4417382   0.19353968 -0.73147385  1.5844313   0.78626688 -1.08971302\n",
      "   1.77074155]\n",
      " [-1.11608753  0.41533084  0.97514621  1.81895245  0.36978065 -0.22701105\n",
      "   1.37679962]]\n",
      "\n",
      "b(with random_sample)= [[0.70425723 0.75975535 0.50529044 0.75689667 0.25463554 0.22810717\n",
      "  0.02583974]\n",
      " [0.34646878 0.09064522 0.6052767  0.02320914 0.94409759 0.72301302\n",
      "  0.38662015]]\n"
     ]
    }
   ],
   "source": [
    "a=np.array([[1,2,3,4,5,6,7],[8,9,10,11,12,13,14]])\n",
    "print(\"Shape of a = \"+str(a.shape))\n",
    "# b=np.random.randn(a.shape) #Won't work. will give error\n",
    "b=np.random.randn(a.shape[0],a.shape[1])\n",
    "print(\"\\nb(with randn)= \"+str(b))\n",
    "b=np.random.random_sample(a.shape)\n",
    "print(\"\\nb(with random_sample)= \"+str(b))"
   ]
  },
  {
   "cell_type": "markdown",
   "metadata": {},
   "source": [
    "We can also get random integers with the np.random.randint function."
   ]
  },
  {
   "cell_type": "code",
   "execution_count": 43,
   "metadata": {},
   "outputs": [
    {
     "data": {
      "text/plain": [
       "array([[9, 9, 9],\n",
       "       [2, 9, 4],\n",
       "       [7, 2, 8]])"
      ]
     },
     "execution_count": 43,
     "metadata": {},
     "output_type": "execute_result"
    }
   ],
   "source": [
    "np.random.randint(1,10,size=(3,3)) #gives nos between 1 and 10(10 not inclusive) with array size of 3x3"
   ]
  },
  {
   "cell_type": "markdown",
   "metadata": {},
   "source": [
    "You can also use the identity matrix which is a matrix of 0s with 1s at the diagonal"
   ]
  },
  {
   "cell_type": "code",
   "execution_count": 44,
   "metadata": {},
   "outputs": [
    {
     "data": {
      "text/plain": [
       "array([[1., 0., 0., 0., 0.],\n",
       "       [0., 1., 0., 0., 0.],\n",
       "       [0., 0., 1., 0., 0.],\n",
       "       [0., 0., 0., 1., 0.],\n",
       "       [0., 0., 0., 0., 1.]])"
      ]
     },
     "execution_count": 44,
     "metadata": {},
     "output_type": "execute_result"
    }
   ],
   "source": [
    "np.identity(5)#needs only 1 param as identity matrux is a sq matrix i.e. height=width"
   ]
  },
  {
   "cell_type": "markdown",
   "metadata": {},
   "source": [
    "You can also repeat the array across different axes."
   ]
  },
  {
   "cell_type": "code",
   "execution_count": 45,
   "metadata": {},
   "outputs": [
    {
     "name": "stdout",
     "output_type": "stream",
     "text": [
      "Repeat across X axes : [[1 2 3]\n",
      " [1 2 3]\n",
      " [1 2 3]]\n",
      "\n",
      "Repeat across Y axes : [[1 1 1 2 2 2 3 3 3]]\n"
     ]
    }
   ],
   "source": [
    "a=np.array([[1,2,3]])\n",
    "print(\"Repeat across X axes : \"+str(np.repeat(a,3,axis=0)))\n",
    "print(\"\\nRepeat across Y axes : \"+str(np.repeat(a,3,axis=1)))"
   ]
  },
  {
   "cell_type": "markdown",
   "metadata": {},
   "source": [
    "## Copying Arrays Problem\n",
    "\n",
    "As you all know Python is built on C, so arrays are referenced by pointers. So when you want to assign something to another array you have to be careful or they'll point to the same array. Here is an example to show that:"
   ]
  },
  {
   "cell_type": "code",
   "execution_count": 46,
   "metadata": {},
   "outputs": [
    {
     "name": "stdout",
     "output_type": "stream",
     "text": [
      "b = [[4 2 3]]\n",
      "a = [[1 2 3]]\n"
     ]
    }
   ],
   "source": [
    "a=np.array([[1,2,3]])\n",
    "# b=a #copy a to b(uses pointers and so both point to same value)\n",
    "b=a.copy() #use copy function to make a copy of a and save to b\n",
    "b[0,0]=4\n",
    "print(\"b = \"+str(b))\n",
    "print(\"a = \"+str(a))"
   ]
  },
  {
   "cell_type": "markdown",
   "metadata": {},
   "source": [
    "## Mathematical functions in Numpy\n",
    "\n",
    "Let's first take a look at element-wise mathematics that you can do with numpy."
   ]
  },
  {
   "cell_type": "code",
   "execution_count": 47,
   "metadata": {},
   "outputs": [
    {
     "name": "stdout",
     "output_type": "stream",
     "text": [
      "[[3 4 5 6]]\n"
     ]
    }
   ],
   "source": [
    "a=np.array([[1,2,3,4]])\n",
    "a=a+[[2,2,2,2]]\n",
    "print(a)"
   ]
  },
  {
   "cell_type": "markdown",
   "metadata": {},
   "source": [
    "This time a was a 4 dim vector. Now think if a was a 100x100 dim matrix or worse a 1000x1000 dim vector. How would you add 2 to it? \n",
    "\n",
    "Yes, you can use the full function and do with that but don't you think that you have to check the shapes every time you want to do anything with matrices. This lowers its simplicity adn Python is all about simplicity. So here is where Broadcasting comes into play.\n",
    "\n",
    "If you use element wise operations to 2 matrices with different shapes ut they have same shape in at least 1 axis, Python repeats the,atrix along the other axis and makes them equal shape and then does the operation.\n",
    "\n",
    "ex: if a=[[1,2,3,4]] and you add 2 to it. [[1,2,3,4]] has shape (1,4) and 2 as shape (1,1) as the x axes shape is the same, plython replicates it along the y axis and makes 2 to [[2,2,2,2]] and adds resulting in the same output"
   ]
  },
  {
   "cell_type": "code",
   "execution_count": 48,
   "metadata": {},
   "outputs": [
    {
     "name": "stdout",
     "output_type": "stream",
     "text": [
      "[[3 4 5 6]]\n"
     ]
    }
   ],
   "source": [
    "a=np.array([[1,2,3,4]])\n",
    "a=a+2\n",
    "print(a)"
   ]
  },
  {
   "cell_type": "markdown",
   "metadata": {},
   "source": [
    "The same is applicable for all other element wise operations like -,*,/,exponential(2 asteriks), etc."
   ]
  },
  {
   "cell_type": "code",
   "execution_count": 49,
   "metadata": {},
   "outputs": [
    {
     "name": "stdout",
     "output_type": "stream",
     "text": [
      "[[-1  0  1  2]]\n"
     ]
    }
   ],
   "source": [
    "a=np.array([[1,2,3,4]])\n",
    "a-=2\n",
    "print(a)"
   ]
  },
  {
   "cell_type": "code",
   "execution_count": 50,
   "metadata": {},
   "outputs": [
    {
     "name": "stdout",
     "output_type": "stream",
     "text": [
      "[[2 4 6 8]]\n"
     ]
    }
   ],
   "source": [
    "a=np.array([[1,2,3,4]])\n",
    "a*=2\n",
    "print(a)"
   ]
  },
  {
   "cell_type": "markdown",
   "metadata": {},
   "source": [
    "Now let's take a look at trignometrical functions"
   ]
  },
  {
   "cell_type": "code",
   "execution_count": 51,
   "metadata": {},
   "outputs": [
    {
     "name": "stdout",
     "output_type": "stream",
     "text": [
      "Sin of a = [[ 0.84147098  0.90929743  0.14112001 -0.7568025 ]]\n",
      "Cos of a = [[ 0.54030231 -0.41614684 -0.9899925  -0.65364362]]\n"
     ]
    }
   ],
   "source": [
    "a=np.array([[1,2,3,4]])\n",
    "print(\"Sin of a = \"+str(np.sin(a))+\"\\nCos of a = \"+str(np.cos(a)))"
   ]
  },
  {
   "cell_type": "markdown",
   "metadata": {},
   "source": [
    "#### Matrix Multiplication\n",
    "Now let's take a look at some of the linear algebra stuff"
   ]
  },
  {
   "cell_type": "code",
   "execution_count": 52,
   "metadata": {},
   "outputs": [
    {
     "name": "stdout",
     "output_type": "stream",
     "text": [
      "a=[[1. 1.]\n",
      " [1. 1.]\n",
      " [1. 1.]]\n",
      "\n",
      "b=[[2 2 2]\n",
      " [2 2 2]]\n",
      "\n",
      "a.b=[[4. 4. 4.]\n",
      " [4. 4. 4.]\n",
      " [4. 4. 4.]]\n"
     ]
    }
   ],
   "source": [
    "a=np.ones((3,2))\n",
    "b=np.full((2,3),2)\n",
    "print(\"a=\"+str(a)+\"\\n\\nb=\"+str(b))\n",
    "print(\"\\na.b=\"+str(np.matmul(a,b)))"
   ]
  },
  {
   "cell_type": "markdown",
   "metadata": {},
   "source": [
    "To find the determinant of a matrix, use np.linalg.det() function"
   ]
  },
  {
   "cell_type": "code",
   "execution_count": 53,
   "metadata": {},
   "outputs": [
    {
     "data": {
      "text/plain": [
       "1.0"
      ]
     },
     "execution_count": 53,
     "metadata": {},
     "output_type": "execute_result"
    }
   ],
   "source": [
    "c=np.identity(10)\n",
    "np.linalg.det(c)# det of any identity mat is 1"
   ]
  },
  {
   "cell_type": "markdown",
   "metadata": {},
   "source": [
    "To find the transpose of mat use mat.T"
   ]
  },
  {
   "cell_type": "code",
   "execution_count": 54,
   "metadata": {},
   "outputs": [
    {
     "data": {
      "text/plain": [
       "array([[1],\n",
       "       [2],\n",
       "       [3]])"
      ]
     },
     "execution_count": 54,
     "metadata": {},
     "output_type": "execute_result"
    }
   ],
   "source": [
    "a=np.array([[1,2,3]])\n",
    "a.T"
   ]
  },
  {
   "cell_type": "markdown",
   "metadata": {},
   "source": [
    "For higher level of matrix manipulation like trace of a matrix, eigen values, etc. visit this link for documentation of numpy linear algebra library<br>\n",
    "<a href=\"https://docs.scipy.org/doc/numpy/reference/routines.linalg.html\">Numpy Linear Algebra Docs Link</a>"
   ]
  },
  {
   "cell_type": "markdown",
   "metadata": {},
   "source": [
    "## Statistics with Numpy\n",
    "\n",
    "- Min\n",
    "- Max\n",
    "- Avg\n"
   ]
  },
  {
   "cell_type": "code",
   "execution_count": 55,
   "metadata": {},
   "outputs": [
    {
     "name": "stdout",
     "output_type": "stream",
     "text": [
      "[[1 2]\n",
      " [3 4]\n",
      " [5 6]]\n"
     ]
    }
   ],
   "source": [
    "data=np.array([[1,2],[3,4],[5,6]])\n",
    "print(data)"
   ]
  },
  {
   "cell_type": "code",
   "execution_count": 56,
   "metadata": {},
   "outputs": [
    {
     "data": {
      "text/plain": [
       "1"
      ]
     },
     "execution_count": 56,
     "metadata": {},
     "output_type": "execute_result"
    }
   ],
   "source": [
    "np.min(data)"
   ]
  },
  {
   "cell_type": "code",
   "execution_count": 57,
   "metadata": {},
   "outputs": [
    {
     "data": {
      "text/plain": [
       "6"
      ]
     },
     "execution_count": 57,
     "metadata": {},
     "output_type": "execute_result"
    }
   ],
   "source": [
    "np.max(data)"
   ]
  },
  {
   "cell_type": "markdown",
   "metadata": {},
   "source": [
    "We can also use the axis attriblue to decide along which axis to find the min/max/etc."
   ]
  },
  {
   "cell_type": "code",
   "execution_count": 58,
   "metadata": {},
   "outputs": [
    {
     "data": {
      "text/plain": [
       "array([1, 2])"
      ]
     },
     "execution_count": 58,
     "metadata": {},
     "output_type": "execute_result"
    }
   ],
   "source": [
    "np.min(data,axis=0)"
   ]
  },
  {
   "cell_type": "code",
   "execution_count": 59,
   "metadata": {},
   "outputs": [
    {
     "data": {
      "text/plain": [
       "array([1, 3, 5])"
      ]
     },
     "execution_count": 59,
     "metadata": {},
     "output_type": "execute_result"
    }
   ],
   "source": [
    "np.min(data,axis=1)"
   ]
  },
  {
   "cell_type": "code",
   "execution_count": 60,
   "metadata": {},
   "outputs": [
    {
     "name": "stdout",
     "output_type": "stream",
     "text": [
      "Sum : 21\n",
      "Sum(along axis 0) : [ 9 12]\n",
      "Sum(along axis 1) : [ 3  7 11]\n"
     ]
    }
   ],
   "source": [
    "print(\"Sum : \"+str(np.sum(data))+\"\\nSum(along axis 0) : \"+str(np.sum(data,axis=0))+\"\\nSum(along axis 1) : \"+str(np.sum(data,axis=1)))"
   ]
  },
  {
   "cell_type": "markdown",
   "metadata": {},
   "source": [
    "## Reorganizing Arrays\n",
    "\n",
    "1.Reshape: You can use reshape top reshape an array as long as the multiplication of all dimensions in that array are equal to the size of that array"
   ]
  },
  {
   "cell_type": "code",
   "execution_count": 61,
   "metadata": {},
   "outputs": [
    {
     "name": "stdout",
     "output_type": "stream",
     "text": [
      "(4, 2)\n",
      "\n",
      " a(after reshape) = [[1]\n",
      " [2]\n",
      " [3]\n",
      " [4]\n",
      " [5]\n",
      " [6]\n",
      " [7]\n",
      " [8]]\n",
      "\n",
      " a(after reshape) = [[1 2 3 4 5 6 7 8]]\n"
     ]
    }
   ],
   "source": [
    "a=np.array([[1,2],[3,4],[5,6],[7,8]])\n",
    "print(a.shape)\n",
    "a=a.reshape((8,1))\n",
    "print(\"\\n a(after reshape) = \"+str(a))\n",
    "a=a.reshape((1,8))\n",
    "print(\"\\n a(after reshape) = \"+str(a))\n",
    "\n",
    "# a=a.reshape((4,4)) #can't do this as 4*4!=4*2\n",
    "# print(\"\\n a(after reshape) = \"+str(a))"
   ]
  },
  {
   "cell_type": "markdown",
   "metadata": {},
   "source": [
    "We can also reshape it into 3 dimensions as long as it has the same value as size when all dims are multiplied together"
   ]
  },
  {
   "cell_type": "code",
   "execution_count": 62,
   "metadata": {},
   "outputs": [
    {
     "name": "stdout",
     "output_type": "stream",
     "text": [
      "a = [[[1 2]\n",
      "  [3 4]]\n",
      "\n",
      " [[5 6]\n",
      "  [7 8]]]\n"
     ]
    }
   ],
   "source": [
    "assert 2*2*2==a.size\n",
    "a=a.reshape((2,2,2))\n",
    "print(\"a = \"+str(a))"
   ]
  },
  {
   "cell_type": "markdown",
   "metadata": {},
   "source": [
    "2.vstack:To vertically any nos. of matrices then you can use the np.vstack(). It takes a list of arrays and stacks them up vertically"
   ]
  },
  {
   "cell_type": "code",
   "execution_count": 63,
   "metadata": {},
   "outputs": [
    {
     "data": {
      "text/plain": [
       "array([[1, 2, 3, 4],\n",
       "       [5, 6, 7, 8],\n",
       "       [1, 2, 3, 4],\n",
       "       [5, 6, 7, 8]])"
      ]
     },
     "execution_count": 63,
     "metadata": {},
     "output_type": "execute_result"
    }
   ],
   "source": [
    "a=[1,2,3,4]\n",
    "b=[5,6,7,8]\n",
    "np.vstack([a,b,a,b])"
   ]
  },
  {
   "cell_type": "markdown",
   "metadata": {},
   "source": [
    "3.hstack: Same as vstack but stacks them horizontally"
   ]
  },
  {
   "cell_type": "code",
   "execution_count": 64,
   "metadata": {},
   "outputs": [
    {
     "data": {
      "text/plain": [
       "array([1, 2, 3, 4, 5, 6, 7, 8, 1, 2, 3, 4, 5, 6, 7, 8])"
      ]
     },
     "execution_count": 64,
     "metadata": {},
     "output_type": "execute_result"
    }
   ],
   "source": [
    "np.hstack([a,b,a,b])"
   ]
  },
  {
   "cell_type": "markdown",
   "metadata": {},
   "source": [
    "## Miscellaneous Functions\n",
    "\n",
    "#### Load files from a file\n",
    "\n",
    "If you don't want to use pandas, etc. you can use the genfromtxt function in numpy to make arrays from data"
   ]
  },
  {
   "cell_type": "code",
   "execution_count": 65,
   "metadata": {},
   "outputs": [
    {
     "data": {
      "text/plain": [
       "array([[  1.,  13.,  21.,  11., 196.,  75.,   4.,   3.,  34.,   6.,   7.,\n",
       "          8.,   0.,   1.,   2.,   3.,   4.,   5.],\n",
       "       [  3.,  42.,  12.,  33., 766.,  75.,   4.,  55.,   6.,   4.,   3.,\n",
       "          4.,   5.,   6.,   7.,   0.,  11.,  12.],\n",
       "       [  1.,  22.,  33.,  11., 999.,  11.,   2.,   1.,  78.,   0.,   1.,\n",
       "          2.,   9.,   8.,   7.,   1.,  76.,  88.]])"
      ]
     },
     "execution_count": 65,
     "metadata": {},
     "output_type": "execute_result"
    }
   ],
   "source": [
    "data=np.genfromtxt('data.txt',delimiter=\",\")\n",
    "data"
   ]
  },
  {
   "cell_type": "code",
   "execution_count": 66,
   "metadata": {},
   "outputs": [
    {
     "data": {
      "text/plain": [
       "array([[  1,  13,  21,  11, 196,  75,   4,   3,  34,   6,   7,   8,   0,\n",
       "          1,   2,   3,   4,   5],\n",
       "       [  3,  42,  12,  33, 766,  75,   4,  55,   6,   4,   3,   4,   5,\n",
       "          6,   7,   0,  11,  12],\n",
       "       [  1,  22,  33,  11, 999,  11,   2,   1,  78,   0,   1,   2,   9,\n",
       "          8,   7,   1,  76,  88]])"
      ]
     },
     "execution_count": 66,
     "metadata": {},
     "output_type": "execute_result"
    }
   ],
   "source": [
    "data=data.astype('int32')#to take in data as integer instead\n",
    "data"
   ]
  },
  {
   "cell_type": "markdown",
   "metadata": {},
   "source": [
    "## Boolean Masking\n",
    "\n",
    "Suppose you have an array and you want to turn all the elements that are greater than a value to 0 then you will need a boolean mask of the array. Let's see how to do that"
   ]
  },
  {
   "cell_type": "code",
   "execution_count": 67,
   "metadata": {},
   "outputs": [
    {
     "data": {
      "text/plain": [
       "array([[ True,  True, False,  True, False, False,  True,  True, False,\n",
       "         True,  True,  True,  True,  True,  True,  True,  True,  True],\n",
       "       [ True, False,  True, False, False, False,  True, False,  True,\n",
       "         True,  True,  True,  True,  True,  True,  True,  True,  True],\n",
       "       [ True, False, False,  True, False,  True,  True,  True, False,\n",
       "         True,  True,  True,  True,  True,  True,  True, False, False]])"
      ]
     },
     "execution_count": 67,
     "metadata": {},
     "output_type": "execute_result"
    }
   ],
   "source": [
    "mask=data<20 #gives a boolean mask that is true if less than 20 and false if greater than 20\n",
    "mask"
   ]
  },
  {
   "cell_type": "markdown",
   "metadata": {},
   "source": [
    "You can now pass this mask into the index and you get only the values that are true."
   ]
  },
  {
   "cell_type": "code",
   "execution_count": 68,
   "metadata": {},
   "outputs": [
    {
     "data": {
      "text/plain": [
       "array([ 1, 13, 11,  4,  3,  6,  7,  8,  0,  1,  2,  3,  4,  5,  3, 12,  4,\n",
       "        6,  4,  3,  4,  5,  6,  7,  0, 11, 12,  1, 11, 11,  2,  1,  0,  1,\n",
       "        2,  9,  8,  7,  1])"
      ]
     },
     "execution_count": 68,
     "metadata": {},
     "output_type": "execute_result"
    }
   ],
   "source": [
    "data[mask]"
   ]
  },
  {
   "cell_type": "markdown",
   "metadata": {},
   "source": [
    "To apply this ,mask just turn the boolean mask to integer and then multiply it element wise"
   ]
  },
  {
   "cell_type": "code",
   "execution_count": 69,
   "metadata": {},
   "outputs": [
    {
     "data": {
      "text/plain": [
       "array([[1, 1, 0, 1, 0, 0, 1, 1, 0, 1, 1, 1, 1, 1, 1, 1, 1, 1],\n",
       "       [1, 0, 1, 0, 0, 0, 1, 0, 1, 1, 1, 1, 1, 1, 1, 1, 1, 1],\n",
       "       [1, 0, 0, 1, 0, 1, 1, 1, 0, 1, 1, 1, 1, 1, 1, 1, 0, 0]])"
      ]
     },
     "execution_count": 69,
     "metadata": {},
     "output_type": "execute_result"
    }
   ],
   "source": [
    "mask=mask.astype('int32')\n",
    "mask"
   ]
  },
  {
   "cell_type": "code",
   "execution_count": 70,
   "metadata": {},
   "outputs": [
    {
     "data": {
      "text/plain": [
       "array([[ 1, 13,  0, 11,  0,  0,  4,  3,  0,  6,  7,  8,  0,  1,  2,  3,\n",
       "         4,  5],\n",
       "       [ 3,  0, 12,  0,  0,  0,  4,  0,  6,  4,  3,  4,  5,  6,  7,  0,\n",
       "        11, 12],\n",
       "       [ 1,  0,  0, 11,  0, 11,  2,  1,  0,  0,  1,  2,  9,  8,  7,  1,\n",
       "         0,  0]])"
      ]
     },
     "execution_count": 70,
     "metadata": {},
     "output_type": "execute_result"
    }
   ],
   "source": [
    "data_masked=data*mask\n",
    "data_masked"
   ]
  },
  {
   "cell_type": "markdown",
   "metadata": {},
   "source": [
    "You can also use bitwise operations to do bitwise operations to the mask"
   ]
  },
  {
   "cell_type": "code",
   "execution_count": 71,
   "metadata": {},
   "outputs": [
    {
     "data": {
      "text/plain": [
       "array([[False, False,  True, False, False,  True, False, False,  True,\n",
       "        False, False, False, False, False, False, False, False, False],\n",
       "       [False,  True, False,  True, False,  True, False,  True, False,\n",
       "        False, False, False, False, False, False, False, False, False],\n",
       "       [False,  True,  True, False, False, False, False, False,  True,\n",
       "        False, False, False, False, False, False, False,  True,  True]])"
      ]
     },
     "execution_count": 71,
     "metadata": {},
     "output_type": "execute_result"
    }
   ],
   "source": [
    "((data>20)&(data<100))# a map of data that is >20 and <100"
   ]
  },
  {
   "cell_type": "markdown",
   "metadata": {},
   "source": [
    "## Advanced Indexing\n",
    "\n",
    "Did you know that you can index a numpy array with lists? If not, let's take a look at that"
   ]
  },
  {
   "cell_type": "code",
   "execution_count": 72,
   "metadata": {},
   "outputs": [
    {
     "data": {
      "text/plain": [
       "array([2, 3, 6, 9])"
      ]
     },
     "execution_count": 72,
     "metadata": {},
     "output_type": "execute_result"
    }
   ],
   "source": [
    "a=np.array([1,2,3,4,5,6,7,8,9])\n",
    "a[[1,2,5,8]]"
   ]
  },
  {
   "cell_type": "markdown",
   "metadata": {},
   "source": [
    "To select it along an axis you can use the function np.any"
   ]
  },
  {
   "cell_type": "code",
   "execution_count": 73,
   "metadata": {},
   "outputs": [
    {
     "data": {
      "text/plain": [
       "array([False, False, False, False,  True,  True, False,  True,  True,\n",
       "       False, False, False, False, False, False, False,  True,  True])"
      ]
     },
     "execution_count": 73,
     "metadata": {},
     "output_type": "execute_result"
    }
   ],
   "source": [
    "np.any(data>50,axis=0)"
   ]
  },
  {
   "cell_type": "code",
   "execution_count": 74,
   "metadata": {},
   "outputs": [
    {
     "data": {
      "text/plain": [
       "array([ True,  True,  True])"
      ]
     },
     "execution_count": 74,
     "metadata": {},
     "output_type": "execute_result"
    }
   ],
   "source": [
    "np.any(data>50,axis=1)"
   ]
  },
  {
   "cell_type": "markdown",
   "metadata": {},
   "source": [
    "## Vectorization"
   ]
  },
  {
   "cell_type": "markdown",
   "metadata": {},
   "source": [
    "Vectorization is used to speed up the Python code without using loop. Using such a function can help in minimizing the running time of code efficiently. Various operations are being performed over vector such as dot product of vectors which is also known as scalar product as it produces single output, outer products which results in square matrix of dimension equal to length X length of the vectors, Element wise multiplication which products the element of same indexes and dimension of the matrix remain unchanged."
   ]
  },
  {
   "cell_type": "code",
   "execution_count": 75,
   "metadata": {},
   "outputs": [
    {
     "name": "stdout",
     "output_type": "stream",
     "text": [
      "Time taken using basic for loops : 711.5030288696289ms\n",
      "Time taken using Vectorized version : 0.9763240814208984ms\n"
     ]
    }
   ],
   "source": [
    "import time\n",
    "n=1000000\n",
    "a=np.random.randn(n)\n",
    "b=np.random.randn(n)\n",
    "\n",
    "tic=time.time()\n",
    "c1=0\n",
    "for i in range(n):\n",
    "    c1+=a[i]*b[i]\n",
    "toc=time.time()\n",
    "print(\"Time taken using basic for loops : \"+str(1000*(toc-tic))+\"ms\")\n",
    "\n",
    "tic=time.time()\n",
    "c2=np.dot(a,b)\n",
    "toc=time.time()\n",
    "print(\"Time taken using Vectorized version : \"+str(1000*(toc-tic))+\"ms\")\n",
    "\n",
    "assert int(c1)==int(c2)"
   ]
  },
  {
   "cell_type": "markdown",
   "metadata": {},
   "source": [
    "Vectorization is just using in built functions in numpy instead of for loops. You should avoid for loops wherever you can, except if necessary. As for loops take up time and are less efficient then vectorized versions. \n",
    "\n",
    "The difference in the finctions is that they directly do operations on the lists instead element by element. That is the magic of Python and why we should embrace it and use it in out projects"
   ]
  }
 ],
 "metadata": {
  "kernelspec": {
   "display_name": "Python 3",
   "language": "python",
   "name": "python3"
  },
  "language_info": {
   "codemirror_mode": {
    "name": "ipython",
    "version": 3
   },
   "file_extension": ".py",
   "mimetype": "text/x-python",
   "name": "python",
   "nbconvert_exporter": "python",
   "pygments_lexer": "ipython3",
   "version": "3.8.1"
  }
 },
 "nbformat": 4,
 "nbformat_minor": 4
}
