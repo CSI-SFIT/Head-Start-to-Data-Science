{
  "nbformat": 4,
  "nbformat_minor": 0,
  "metadata": {
    "colab": {
      "name": "Numpy Final.ipynb",
      "provenance": [],
      "collapsed_sections": []
    },
    "kernelspec": {
      "display_name": "Python 3",
      "language": "python",
      "name": "python3"
    },
    "language_info": {
      "codemirror_mode": {
        "name": "ipython",
        "version": 3
      },
      "file_extension": ".py",
      "mimetype": "text/x-python",
      "name": "python",
      "nbconvert_exporter": "python",
      "pygments_lexer": "ipython3",
      "version": "3.9.1"
    }
  },
  "cells": [
    {
      "cell_type": "markdown",
      "metadata": {
        "id": "EaDsv-sSfPkx"
      },
      "source": [
        "# NUMPY\n",
        "- Author:Varun Anand Patkar\n",
        "- Created On:14 Nov 2020\n",
        "\n",
        "<a href = \"https://colab.research.google.com/drive/1lt1w-wB7gAAROdnw-UZ7qGX_Gw0XAhdu?usp=sharing\">Collab Notebook Link</a>\n",
        "\n",
        "## So why are Lists slow and Numpy fast?\n",
        "- **Numpy uses fixed types**: Each element in an array in numpy is only represented by default by a 32 bit size value(You can make it less). Whereas lists have to store 4 values for each element in a list. Object value(different for each type), Object Type(type of element), Reference Count(No of times it is referenced) and size of the element. This makes it faster to access and put data into numpy than for lists\n",
        "\n",
        "- **No typechecking when iterating through objects**: When we are iterating through a Numpy array, you don't have to do type checking for each element as all are the same type. But in lists you have to check type of each element.\n",
        "\n",
        "- **Numpy uses contiguous memory**: Lists don't use contiguous memory whereas Numpy uses contiguous memory like arrays in C. So accessing each element is faster in Numpy as you can just go one step forward. Whereas in Lists you have to map each element to it's memory and then access each memory location.(There are also further benefits like being able to use SIMD Vector Processing elements in the CPU but they are not in the scope of today's workshop).\n",
        "\n",
        "- **Numpy allows usage of Broadcasting**: Numpy allows use of broadcasting which means that we can do operations with incompatible array sizes. We will get back to this later as this is an important aspect of numpy.\n",
        "\n",
        "- **Numpy allows element wise operations**: Numpy allows us to do element by element operations whereas lists give errors. Ex: [1,2,3]+[4,5,6] gives error in lists but gives [5,7,9] in Numpy. This is also an important aspect of Numpy.\n",
        "\n",
        "- **Numpy supports vectorization**: Numpy allows us to use vectorization which significantly boost the performance of arrays. We'll take a look at this later.\n",
        "\n",
        "**Now, What do I mean by multidimensional data?. It's multiple data arranged in orderly manner. A good analogy is Cupboard. Multiple rows and columns that you can take and save data from and to. This is for 2 dimensional. 3 dimensional is a library. And so on.**\n",
        "\n",
        "2D array<br>\n",
        "<img src=\"https://drive.google.com/uc?id=1gOc9hY8F_Dvzc8J2YRBPj-XJqzRhZwO8\" height=350 width=350></img>"
      ]
    },
    {
      "cell_type": "code",
      "metadata": {
        "id": "6a9O0adKYzFx"
      },
      "source": [
        "import numpy as np"
      ],
      "execution_count": null,
      "outputs": []
    },
    {
      "cell_type": "markdown",
      "metadata": {
        "id": "7gOX_6nb1WmF"
      },
      "source": [
        "Before anything else let's take a look at the efficiency of numpy arrays over python lists\n",
        "\n",
        "First let's look at the time gained"
      ]
    },
    {
      "cell_type": "code",
      "metadata": {
        "id": "k7CLuhsVYzF1"
      },
      "source": [
        "import time \n",
        "\n",
        "n = 10000000 #10 million/1 Crore\n",
        "l1 = list(range(n)) #2 python lists\n",
        "l2 = list(range(n)) \n",
        "arr1 = np.arange(n) #2 numpy 1D arrays with same values as l1 and l2\n",
        "arr2 = np.arange(n) \n",
        "\n",
        "#Calculate time for Lists\n",
        "tic = time.time() \n",
        "\n",
        "sqlist = [(i*j) for i,j in zip(l1, l2)] \n",
        "\n",
        "print(\"Time taken by Lists to perform multiplication:\",(time.time()-tic),\"seconds\") \n",
        "\n",
        "#Calculate time for numpy arrays   \n",
        "tic = time.time() \n",
        "\n",
        "sqarray = arr1 * arr2 \n",
        " \n",
        "print(\"Time taken by NumPy Arrays to perform multiplication:\",(time.time()-tic),\"seconds\")\n",
        "print(\"Is sqlist==sqarray? :\",np.array_equal(l1,arr1))"
      ],
      "execution_count": null,
      "outputs": []
    },
    {
      "cell_type": "markdown",
      "metadata": {
        "id": "aSaQx_RVNlYz"
      },
      "source": [
        "**Results may vary by your hardware specs**\n",
        "\n",
        "Now let's take a look at the space taken side of things"
      ]
    },
    {
      "cell_type": "code",
      "metadata": {
        "id": "9-sJi7KCYzF5"
      },
      "source": [
        "import sys \n",
        "\n",
        "S=list(range(1000)) \n",
        "\n",
        "print(\"Size of each element of list in bytes: \",sys.getsizeof(S)) \n",
        "\n",
        "print(\"Size of the whole list in bytes: \",sys.getsizeof(S)*len(S)) \n",
        "\n",
        "D= np.arange(1000) \n",
        "\n",
        "print(\"Size of each element of the Numpy array in bytes: \",D.itemsize) \n",
        "\n",
        "print(\"Size of the whole Numpy array in bytes: \",D.size*D.itemsize) "
      ],
      "execution_count": null,
      "outputs": []
    },
    {
      "cell_type": "markdown",
      "metadata": {
        "id": "ZUjgeUEpYzF7"
      },
      "source": [
        "## Basics\n",
        "\n",
        "- Defining arrays\n",
        "- Array Functions"
      ]
    },
    {
      "cell_type": "code",
      "metadata": {
        "id": "tx0g_QsDYzF8"
      },
      "source": [
        "a=np.array([1,2,3])\n",
        "a # it can be seen that the type of numpy arrays is array"
      ],
      "execution_count": null,
      "outputs": []
    },
    {
      "cell_type": "code",
      "metadata": {
        "id": "2x58aIBGYzGB"
      },
      "source": [
        "b=np.array([[1.0,2.0,3.0],[4.0,5.0,6.0],[7.0,8.0,9.0]]) # a complex 2D array of floats. Numpy represents 2.0 as 2.\n",
        "b"
      ],
      "execution_count": null,
      "outputs": []
    },
    {
      "cell_type": "markdown",
      "metadata": {
        "id": "_NZQ1SOz1WmH"
      },
      "source": [
        "Now let's take a look at some functions of the arrays to find the no. of dimensions, shape of the array, etc."
      ]
    },
    {
      "cell_type": "code",
      "metadata": {
        "id": "_ZfrUWocYzGF"
      },
      "source": [
        "print(\"No. of Dims in a : \"+str(a.ndim)+\"\\nNo. of Dims in b : \"+str(b.ndim))"
      ],
      "execution_count": null,
      "outputs": []
    },
    {
      "cell_type": "code",
      "metadata": {
        "id": "BWB6BD56YzGH"
      },
      "source": [
        "print(\"Shape of a : \"+str(a.shape)+\"\\nShape of b\"+str(b.shape))"
      ],
      "execution_count": null,
      "outputs": []
    },
    {
      "cell_type": "markdown",
      "metadata": {
        "id": "mECNELZcYzGK"
      },
      "source": [
        "**Now I would like to point something out here.** Look at the shape of a. It gives (3,). This means that a is a vector. This is dangerous as it can cause errors in your code. So don't use these types of arrays. Instead use (3,1) arrays which is a column array.\n",
        "\n",
        "Now consider you have this array and you take it's transpose. It gives a (1,3) array in your mind but it gives a (,3) array. Now you try to use matrix multiplication. Now by the rules, a (3,1) array mult by (1,3) will give a (3,3) array. Watch what happens with this one."
      ]
    },
    {
      "cell_type": "code",
      "metadata": {
        "id": "lIeoBu5iYzGL"
      },
      "source": [
        "c=a.T #taking a transpose\n",
        "c.shape"
      ],
      "execution_count": null,
      "outputs": []
    },
    {
      "cell_type": "code",
      "metadata": {
        "id": "4fufnNSWYzGN"
      },
      "source": [
        "np.dot(a,c)#taking matrix multiplication"
      ],
      "execution_count": null,
      "outputs": []
    },
    {
      "cell_type": "markdown",
      "metadata": {
        "id": "0LkM0u1lYzGP"
      },
      "source": [
        "It gives a number. Instead let's redefine a and try this again"
      ]
    },
    {
      "cell_type": "code",
      "metadata": {
        "id": "1QZ-mx9BYzGQ"
      },
      "source": [
        "a=np.array([[1],[2],[3]])\n",
        "a.shape"
      ],
      "execution_count": null,
      "outputs": []
    },
    {
      "cell_type": "markdown",
      "metadata": {
        "id": "N-wSFCg61WmI"
      },
      "source": [
        "Now lets apply the same operations:"
      ]
    },
    {
      "cell_type": "code",
      "metadata": {
        "id": "bb_sIAeRYzGT"
      },
      "source": [
        "c=a.T\n",
        "c.shape"
      ],
      "execution_count": null,
      "outputs": []
    },
    {
      "cell_type": "code",
      "metadata": {
        "id": "a85iPTHIYzGV"
      },
      "source": [
        "np.dot(a,c)"
      ],
      "execution_count": null,
      "outputs": []
    },
    {
      "cell_type": "markdown",
      "metadata": {
        "id": "PzMXpZzqYzGY"
      },
      "source": [
        "Hence even later when using the random library of numpy, **don't use vectors. Instead use column arrays.**\n",
        "\n",
        "Now let's get back to it. To find the data type of an array:"
      ]
    },
    {
      "cell_type": "code",
      "metadata": {
        "id": "nlulZoTkYzGY"
      },
      "source": [
        "print(\"Data Type of a : \"+str(a.dtype)+\"\\nData Type of b : \"+str(b.dtype))"
      ],
      "execution_count": null,
      "outputs": []
    },
    {
      "cell_type": "markdown",
      "metadata": {
        "id": "arTqVSaF1WmJ"
      },
      "source": [
        "You can also change the type when defining the array.\n",
        "Ex:"
      ]
    },
    {
      "cell_type": "code",
      "metadata": {
        "id": "CCcHwZQdYzGb"
      },
      "source": [
        "a=np.array([[1],[2],[3]],dtype='int16')\n",
        "a.dtype\n",
        "#float8 does not exist. only int8,int16,int64,float16,float64"
      ],
      "execution_count": null,
      "outputs": []
    },
    {
      "cell_type": "code",
      "metadata": {
        "id": "EF9enr1DYzGe"
      },
      "source": [
        "# Ex 1\n",
        "# Try to define ans1 as int8 value with the same values in it [[1],[2],[3]]\n",
        "ans1=0\n",
        "#ADD YOUR CODE HERE\n",
        "\n",
        "#END CODE HERE\n",
        "!pip install gdown\n",
        "!gdown https://drive.google.com/uc?id=1poiO99Ebtz0OHQd4qxKa7tNBj7aiPDRo\n",
        "import grader_numpy as g\n",
        "print(\"\\n\\n\")\n",
        "g.grader1(ans1)"
      ],
      "execution_count": null,
      "outputs": []
    },
    {
      "cell_type": "markdown",
      "metadata": {
        "id": "FLKQAQ7X1WmK"
      },
      "source": [
        "We can also find the size of each item in the array(in bytes)"
      ]
    },
    {
      "cell_type": "code",
      "metadata": {
        "id": "Av0JpquyYzGg"
      },
      "source": [
        "a.itemsize#8 bits from \"int8\" is 1 byte"
      ],
      "execution_count": null,
      "outputs": []
    },
    {
      "cell_type": "code",
      "metadata": {
        "id": "I02DFBarYzGj"
      },
      "source": [
        "b.itemsize#float 64 bits is 8 bytes as 64/8 is 8"
      ],
      "execution_count": null,
      "outputs": []
    },
    {
      "cell_type": "code",
      "metadata": {
        "id": "frDwqADgYzGm"
      },
      "source": [
        "#Ex 2\n",
        "#Find total size of a using a single property and store it in ans1 and find total size by multiplying length of a*size of each element and save that in ans2\n",
        "#Use Google to find what property for all 3 operations\n",
        "ans1=ans2=0\n",
        "#ADD YOUR CODE HERE\n",
        "\n",
        "#END CODE HERE\n",
        "!pip install gdown\n",
        "!gdown https://drive.google.com/uc?id=1poiO99Ebtz0OHQd4qxKa7tNBj7aiPDRo\n",
        "import grader_numpy as g\n",
        "print(\"\\n\\n\")\n",
        "g.grader2(ans1,ans2)"
      ],
      "execution_count": null,
      "outputs": []
    },
    {
      "cell_type": "markdown",
      "metadata": {
        "id": "HdEuq6VLYzGo"
      },
      "source": [
        "## Accesing/Changing some elements in rows, columns\n",
        "Now let's see how we access elements, rows, colums etc."
      ]
    },
    {
      "cell_type": "code",
      "metadata": {
        "id": "pii4cbcPYzGo"
      },
      "source": [
        "d=np.array([[1,2,3,4,5,6,7],[8,9,10,11,12,13,14]])\n",
        "d.shape"
      ],
      "execution_count": null,
      "outputs": []
    },
    {
      "cell_type": "code",
      "metadata": {
        "id": "SOgcmODAYzGt"
      },
      "source": [
        "d[1,5]#you can access elements by using d[i,j,k,...] just like normal arrays"
      ],
      "execution_count": null,
      "outputs": []
    },
    {
      "cell_type": "code",
      "metadata": {
        "id": "l2SAMsBTYzGv"
      },
      "source": [
        "d[1,:]#you can access a row by setting the y dim as all(:)"
      ],
      "execution_count": null,
      "outputs": []
    },
    {
      "cell_type": "code",
      "metadata": {
        "id": "pk__ywcvYzGx"
      },
      "source": [
        "d[:,2]#access a column by setting x as all(:)"
      ],
      "execution_count": null,
      "outputs": []
    },
    {
      "cell_type": "code",
      "metadata": {
        "id": "wIluQ0xIYzGz"
      },
      "source": [
        "d[1,-2]#we can also use negative indices to reference from the back"
      ],
      "execution_count": null,
      "outputs": []
    },
    {
      "cell_type": "markdown",
      "metadata": {
        "id": "8883a60E1WmL"
      },
      "source": [
        "You can also cut slices by using start index and end index. Remember that the end index is not inclusive\n",
        "\n",
        "We can use the array_equal function in numpy to check if both are equal or not"
      ]
    },
    {
      "cell_type": "code",
      "metadata": {
        "id": "myySNrY6YzG3"
      },
      "source": [
        "#Ex 3\n",
        "#Extract [9,10,11,12] from d and put that in ans1\n",
        "ans1=0\n",
        "#ADD CODE HERE\n",
        "\n",
        "#END CODE HERE\n",
        "!pip install gdown\n",
        "!gdown https://drive.google.com/uc?id=1poiO99Ebtz0OHQd4qxKa7tNBj7aiPDRo\n",
        "import grader_numpy as g\n",
        "print(\"\\n\\n\")\n",
        "g.grader3(ans1)"
      ],
      "execution_count": null,
      "outputs": []
    },
    {
      "cell_type": "markdown",
      "metadata": {
        "id": "hk5f-w6Y1WmL"
      },
      "source": [
        "Also you can change the step size between the nos."
      ]
    },
    {
      "cell_type": "code",
      "metadata": {
        "id": "L_VZrCTiYzG_"
      },
      "source": [
        "d[1,1:-1:2]"
      ],
      "execution_count": null,
      "outputs": []
    },
    {
      "cell_type": "markdown",
      "metadata": {
        "id": "-cCST9Yf1WmM"
      },
      "source": [
        "Also we can assign nos., rown and colums using this"
      ]
    },
    {
      "cell_type": "code",
      "metadata": {
        "id": "95HWpQc3YzHB"
      },
      "source": [
        "d[1,:]=[9, 10, 11, 12, 13, 14,15]\n",
        "d"
      ],
      "execution_count": null,
      "outputs": []
    },
    {
      "cell_type": "markdown",
      "metadata": {
        "id": "wTkneZuOYzHD"
      },
      "source": [
        "Let's try with a 3d array"
      ]
    },
    {
      "cell_type": "code",
      "metadata": {
        "id": "Ho5dtmmEYzHD"
      },
      "source": [
        "b=np.array([[[1,2],[3,4]],[[5,6],[7,8]]])\n",
        "b"
      ],
      "execution_count": null,
      "outputs": []
    },
    {
      "cell_type": "code",
      "metadata": {
        "id": "2ckFZTSOYzHF"
      },
      "source": [
        "b[1]"
      ],
      "execution_count": null,
      "outputs": []
    },
    {
      "cell_type": "code",
      "metadata": {
        "id": "KRcY-goXYzHH"
      },
      "source": [
        "b[1][0]"
      ],
      "execution_count": null,
      "outputs": []
    },
    {
      "cell_type": "code",
      "metadata": {
        "id": "qfaZMOq4YzHI"
      },
      "source": [
        "b[1,0,1]"
      ],
      "execution_count": null,
      "outputs": []
    },
    {
      "cell_type": "code",
      "metadata": {
        "id": "RNBb2kGpYzHK"
      },
      "source": [
        "b[1]=[[9,10],[11,12]]\n",
        "b"
      ],
      "execution_count": null,
      "outputs": []
    },
    {
      "cell_type": "markdown",
      "metadata": {
        "id": "scqxjaHtYzHM"
      },
      "source": [
        "## Different Types of Inbuilt Arrays\n",
        "\n",
        "Numpy allows us to be able to define some common arrays used like the all zeros, all ones, etc. array. Let's take a look at some of them.\n",
        "\n",
        "As i said earlier,dont pass values like 3 in the shape fo these arrays as that will mess up your code.\n",
        "\n",
        "First let's look at the zeros function in numpy"
      ]
    },
    {
      "cell_type": "code",
      "metadata": {
        "id": "d-ExW5nWYzHM"
      },
      "source": [
        "a=np.zeros(5) #Don't do this as it becomes a vector and we have discussed this earlier\n",
        "a.shape"
      ],
      "execution_count": null,
      "outputs": []
    },
    {
      "cell_type": "code",
      "metadata": {
        "id": "VIIpfbUyYzHO"
      },
      "source": [
        "# a=np.zeros(5,1) #also dont do this. as this will give an error. We pass a tuple that is the shape \n",
        "#                   into the function so there will be 2 paranthesis"
      ],
      "execution_count": null,
      "outputs": []
    },
    {
      "cell_type": "code",
      "metadata": {
        "id": "-qNtkmj5YzHQ"
      },
      "source": [
        "a=np.zeros((5,5)) #a correct example of zeros\n",
        "print(a)"
      ],
      "execution_count": null,
      "outputs": []
    },
    {
      "cell_type": "code",
      "metadata": {
        "id": "5hyLIboeYzHS"
      },
      "source": [
        "a=np.zeros((5,5,5),dtype=\"int8\")\n",
        "print(a)"
      ],
      "execution_count": null,
      "outputs": []
    },
    {
      "cell_type": "markdown",
      "metadata": {
        "id": "v0Z-TrhL1WmO"
      },
      "source": [
        "Now, let's take a look at an all 1s matrix using ones function. \n",
        "\n",
        "We can also specify datatypes in each of these like when defining"
      ]
    },
    {
      "cell_type": "code",
      "metadata": {
        "id": "c2h_zi-ZYzHU"
      },
      "source": [
        "a=np.ones((5,5),dtype=\"int8\")\n",
        "print(a)"
      ],
      "execution_count": null,
      "outputs": []
    },
    {
      "cell_type": "markdown",
      "metadata": {
        "id": "jNaO99F01WmO"
      },
      "source": [
        "If you want any other number, there are 2 ways. You can multiply a ones array by that no. or use the np.full function"
      ]
    },
    {
      "cell_type": "code",
      "metadata": {
        "id": "x6SZKo7bYzHW"
      },
      "source": [
        "a=5*np.ones((5,5))\n",
        "b=np.full((5,5),5)\n",
        "print(\"a = \"+str(a)+\"\\nb = \"+str(b))\n",
        "assert np.array_equal(a,b)"
      ],
      "execution_count": null,
      "outputs": []
    },
    {
      "cell_type": "markdown",
      "metadata": {
        "id": "uWquJNeR1WmO"
      },
      "source": [
        "There is another function named full_like which takes another array as input and assigns all nos the same value"
      ]
    },
    {
      "cell_type": "code",
      "metadata": {
        "id": "dD0yt9vdYzHY"
      },
      "source": [
        "a=np.array([[1,2,3,4,5,6,7],[8,9,10,11,12,13,14]])\n",
        "print(\"Original array:\"+str(a))\n",
        "a=np.full_like(a,5)\n",
        "print(\"\\nAfter full_like:\"+str(a))"
      ],
      "execution_count": null,
      "outputs": []
    },
    {
      "cell_type": "markdown",
      "metadata": {
        "id": "R8n9Qf7C1WmO"
      },
      "source": [
        "Or you can just use the a.shape property with the full function"
      ]
    },
    {
      "cell_type": "code",
      "metadata": {
        "id": "aPAnUg_oYzHb"
      },
      "source": [
        "a=np.array([[1,2,3,4,5,6,7],[8,9,10,11,12,13,14]])\n",
        "print(\"Original array:\"+str(a))\n",
        "a=np.full(a.shape,5)\n",
        "print(\"\\nAfter full_like:\"+str(a))"
      ],
      "execution_count": null,
      "outputs": []
    },
    {
      "cell_type": "code",
      "metadata": {
        "id": "6nTQSf3dYzHm"
      },
      "source": [
        "np.identity(5)#needs only 1 param as identity matrux is a sq matrix i.e. height=width"
      ],
      "execution_count": null,
      "outputs": []
    },
    {
      "cell_type": "code",
      "metadata": {
        "id": "_yh4nF8hP3c6"
      },
      "source": [
        "#Ex 4\n",
        "a=np.array([[1,2,3],[4,5,6],[7,8,9]])\n",
        "ans1=ans2=ans3=0\n",
        "#Create array of size (3,3) that has 6 in all elements using ones function and put it in ans1\n",
        "#ADD YOUR CODE HERE\n",
        "\n",
        "#END CODE HERE\n",
        "#Create array of size (3,3) that has 6 in all elements using full function(use a) and put it in ans2\n",
        "#ADD YOUR CODE HERE\n",
        "\n",
        "#END CODE HERE\n",
        "#Create array of size (3,3) that has 6 in all elements using full_like function(use a) and put it in ans3\n",
        "#ADD YOUR CODE HERE\n",
        "\n",
        "#END CODE HERE\n",
        "!pip install gdown\n",
        "!gdown https://drive.google.com/uc?id=1poiO99Ebtz0OHQd4qxKa7tNBj7aiPDRo\n",
        "import grader_numpy as g\n",
        "print(\"\\n\\n\")\n",
        "g.grader4(ans1,ans2,ans3)"
      ],
      "execution_count": null,
      "outputs": []
    },
    {
      "cell_type": "markdown",
      "metadata": {
        "id": "ITC0EcM_YzHd"
      },
      "source": [
        "You will need to generate random nos. later on in machine learning as setting it all to 0 or 1 is not good enough. You can use the numpy.random.rand(generates samples from a uniform distribution (in the range [0,1)). and numpy.random.randn(generates samples from the normal distribution) function for that\n",
        "\n",
        "This is how they look like<br>\n",
        "<img src=\"https://drive.google.com/uc?id=1gwjeWNDoY8JUf8orFJLKvI59tbbehp65\">"
      ]
    },
    {
      "cell_type": "code",
      "metadata": {
        "id": "kdQPVzZiYzHd"
      },
      "source": [
        "a=np.random.rand(2,3)\n",
        "print(a)"
      ],
      "execution_count": null,
      "outputs": []
    },
    {
      "cell_type": "code",
      "metadata": {
        "id": "bb9_SAc7YzHf"
      },
      "source": [
        "a=np.random.randn(2,3)\n",
        "print(a)"
      ],
      "execution_count": null,
      "outputs": []
    },
    {
      "cell_type": "markdown",
      "metadata": {
        "id": "ogSGuQcf1WmQ"
      },
      "source": [
        "Now the thing to remember is that in random functions you dont pass in tuples so if you want to use a tuple (like shaoe of a matrix) the you will have to either manually pass in the dimensions or use np.random.random_samples function"
      ]
    },
    {
      "cell_type": "code",
      "metadata": {
        "id": "CbVvOLPVYzHi"
      },
      "source": [
        "a=np.array([[1,2,3,4,5,6,7],[8,9,10,11,12,13,14]])\n",
        "print(\"Shape of a = \"+str(a.shape))\n",
        "# b=np.random.randn(a.shape) #Won't work. will give error\n",
        "b=np.random.randn(a.shape[0],a.shape[1])\n",
        "print(\"\\nb(with randn)= \"+str(b))\n",
        "b=np.random.random_sample(a.shape)\n",
        "print(\"\\nb(with random_sample)= \"+str(b))"
      ],
      "execution_count": null,
      "outputs": []
    },
    {
      "cell_type": "markdown",
      "metadata": {
        "id": "FYXgrWHu1WmQ"
      },
      "source": [
        "We can also get random integers with the np.random.randint function."
      ]
    },
    {
      "cell_type": "code",
      "metadata": {
        "id": "pAZOgmG2YzHk"
      },
      "source": [
        "np.random.randint(1,10,size=(3,3)) #gives nos between 1 and 10(10 not inclusive) with array size of 3x3"
      ],
      "execution_count": null,
      "outputs": []
    },
    {
      "cell_type": "markdown",
      "metadata": {
        "id": "45e7aTh81WmQ"
      },
      "source": [
        "You can also repeat the array across different axes.\r\n",
        "\r\n",
        "Here is for **axis=0**:\r\n",
        "\r\n",
        "<img src=\"https://drive.google.com/uc?id=10Kn1Grv9nHTtvsMTIiuRP_gqGHq6I66Q\" width=500></img>\r\n",
        "\r\n",
        "Here is for **axis=1**:\r\n",
        "\r\n",
        "<img src=\"https://drive.google.com/uc?id=1aAYIoO4m9YJTFBT8m4DVkSsV645epY1V\" width=500></img>"
      ]
    },
    {
      "cell_type": "code",
      "metadata": {
        "id": "8EY2LxUDYzHn"
      },
      "source": [
        "a=np.array([[1,2,3]])\n",
        "print(\"Repeat across X axes : \"+str(np.repeat(a,3,axis=0)))\n",
        "print(\"\\nRepeat across Y axes : \"+str(np.repeat(a,3,axis=1)))"
      ],
      "execution_count": null,
      "outputs": []
    },
    {
      "cell_type": "markdown",
      "metadata": {
        "id": "yn6vJgHVYzHp"
      },
      "source": [
        "## Copying Arrays Problem\n",
        "\n",
        "As you all know Python is built on C, so arrays are referenced by pointers. So when you want to assign something to another array you have to be careful or they'll point to the same array. Here is an example to show that:"
      ]
    },
    {
      "cell_type": "code",
      "metadata": {
        "id": "xRF9BYSUYzHp"
      },
      "source": [
        "a=np.array([[1,2,3]])\n",
        "# b=a #copy a to b(uses pointers and so both point to same value)\n",
        "b=a.copy() #use copy function to make a copy of a and save to b\n",
        "b[0,0]=4\n",
        "print(\"b = \"+str(b))\n",
        "print(\"a = \"+str(a))"
      ],
      "execution_count": null,
      "outputs": []
    },
    {
      "cell_type": "markdown",
      "metadata": {
        "id": "h_HNu7nLYzHr"
      },
      "source": [
        "## Mathematical functions in Numpy\n",
        "\n",
        "Let's first take a look at element-wise mathematics that you can do with numpy."
      ]
    },
    {
      "cell_type": "code",
      "metadata": {
        "id": "h-ZPqTJGYzHr"
      },
      "source": [
        "#Elementwise\n",
        "a=np.array([[1,2,3,4]])\n",
        "a=a+[[2,2,2,2]]\n",
        "print(a)"
      ],
      "execution_count": null,
      "outputs": []
    },
    {
      "cell_type": "markdown",
      "metadata": {
        "id": "8eCbXBER1WmR"
      },
      "source": [
        "This time a was a 4 dim vector. Now think if a was a 100x100 dim matrix or worse a 1000x1000 dim vector. How would you add 2 to it? \n",
        "\n",
        "Yes, you can use the full function and do with that but don't you think that you have to check the shapes every time you want to do anything with matrices. This lowers its simplicity adn Python is all about simplicity. So here is where Broadcasting comes into play.\n",
        "\n",
        "If you use element wise operations to 2 matrices with different shapes ut they have same shape in at least 1 axis, Python repeats the,atrix along the other axis and makes them equal shape and then does the operation.\n",
        "\n",
        "ex: if a=[[1,2,3,4]] and you add 2 to it. [[1,2,3,4]] has shape (1,4) and 2 as shape (1,1) as the x axes shape is the same, plython replicates it along the y axis and makes 2 to [[2,2,2,2]] and adds resulting in the same output"
      ]
    },
    {
      "cell_type": "code",
      "metadata": {
        "id": "FdQTTzciYzHv"
      },
      "source": [
        "a=np.array([[1,2,3,4]])\n",
        "a=a+2\n",
        "print(a)"
      ],
      "execution_count": null,
      "outputs": []
    },
    {
      "cell_type": "markdown",
      "metadata": {
        "id": "o8B1rlLn1WmS"
      },
      "source": [
        "The same is applicable for all other element wise operations like -,*,/,exponential(2 asteriks), etc."
      ]
    },
    {
      "cell_type": "code",
      "metadata": {
        "id": "T0_pLNs7YzHx"
      },
      "source": [
        "a=np.array([[1,2,3,4]])\n",
        "a-=2\n",
        "print(a)"
      ],
      "execution_count": null,
      "outputs": []
    },
    {
      "cell_type": "code",
      "metadata": {
        "id": "y8ke1AgBYzHz"
      },
      "source": [
        "a=np.array([[1,2,3,4]])\n",
        "a*=2\n",
        "print(a)"
      ],
      "execution_count": null,
      "outputs": []
    },
    {
      "cell_type": "markdown",
      "metadata": {
        "id": "6m95weBR1WmS"
      },
      "source": [
        "Now let's take a look at trignometrical functions"
      ]
    },
    {
      "cell_type": "code",
      "metadata": {
        "id": "AWb3qeSCYzH0"
      },
      "source": [
        "a=np.array([[1,2,3,4]])\n",
        "print(\"Sin of a = \"+str(np.sin(a))+\"\\nCos of a = \"+str(np.cos(a)))"
      ],
      "execution_count": null,
      "outputs": []
    },
    {
      "cell_type": "markdown",
      "metadata": {
        "id": "S3Y19salYzH3"
      },
      "source": [
        "#### Matrix Multiplication"
      ]
    },
    {
      "cell_type": "code",
      "metadata": {
        "id": "eKgSxgTuYzH3"
      },
      "source": [
        "a=np.ones((3,2))\n",
        "b=np.full((2,3),2)\n",
        "print(\"a=\"+str(a)+\"\\n\\nb=\"+str(b))\n",
        "print(\"\\na.b=\"+str(np.matmul(a,b)))"
      ],
      "execution_count": null,
      "outputs": []
    },
    {
      "cell_type": "markdown",
      "metadata": {
        "id": "Twjri9Tj1WmT"
      },
      "source": [
        "To find the determinant of a matrix, use np.linalg.det() function"
      ]
    },
    {
      "cell_type": "code",
      "metadata": {
        "id": "94EBmh7hYzH5"
      },
      "source": [
        "c=np.identity(10)\n",
        "np.linalg.det(c)# det of any identity mat is 1"
      ],
      "execution_count": null,
      "outputs": []
    },
    {
      "cell_type": "code",
      "metadata": {
        "id": "994ZdBoRRIPn"
      },
      "source": [
        "# Ex 5\n",
        "#Create an array a [[1,2,3],[4,5,6],[7,8,9]] and calculate it's determiant and put it in ans1\n",
        "ans1=-1\n",
        "#ADD YOUR CODE HERE\n",
        "\n",
        "#END CODE HERE\n",
        "!pip install gdown\n",
        "!gdown https://drive.google.com/uc?id=1poiO99Ebtz0OHQd4qxKa7tNBj7aiPDRo\n",
        "import grader_numpy as g\n",
        "print(\"\\n\\n\")\n",
        "g.grader5(ans1)"
      ],
      "execution_count": null,
      "outputs": []
    },
    {
      "cell_type": "code",
      "metadata": {
        "id": "kAtT3bPeYzH8"
      },
      "source": [
        "a=np.array([[1,2,3]])\n",
        "a.T"
      ],
      "execution_count": null,
      "outputs": []
    },
    {
      "cell_type": "markdown",
      "metadata": {
        "id": "vPn6s7o4YzH-"
      },
      "source": [
        "## Statistics with Numpy\n",
        "\n",
        "- Min\n",
        "- Max\n",
        "- Avg\n"
      ]
    },
    {
      "cell_type": "code",
      "metadata": {
        "id": "tHsg1LQ1YzH-"
      },
      "source": [
        "data=np.array([[1,2],[3,4],[5,6]])\n",
        "print(data)"
      ],
      "execution_count": null,
      "outputs": []
    },
    {
      "cell_type": "code",
      "metadata": {
        "id": "MhkHLMfNYzH_"
      },
      "source": [
        "np.min(data)"
      ],
      "execution_count": null,
      "outputs": []
    },
    {
      "cell_type": "code",
      "metadata": {
        "id": "vzNHQb9pYzIB"
      },
      "source": [
        "np.max(data)"
      ],
      "execution_count": null,
      "outputs": []
    },
    {
      "cell_type": "code",
      "metadata": {
        "id": "LV6tZCo5YzID"
      },
      "source": [
        "np.min(data,axis=0)"
      ],
      "execution_count": null,
      "outputs": []
    },
    {
      "cell_type": "code",
      "metadata": {
        "id": "QBMCE10jYzIF"
      },
      "source": [
        "np.min(data,axis=1)"
      ],
      "execution_count": null,
      "outputs": []
    },
    {
      "cell_type": "code",
      "metadata": {
        "id": "zAAf0AzzYzIG"
      },
      "source": [
        "print(\"Sum : \"+str(np.sum(data))+\"\\nSum(along axis 0) : \"+str(np.sum(data,axis=0))+\"\\nSum(along axis 1) : \"+str(np.sum(data,axis=1)))"
      ],
      "execution_count": null,
      "outputs": []
    },
    {
      "cell_type": "markdown",
      "metadata": {
        "id": "fmoRlB5JYzIH"
      },
      "source": [
        "## Reorganizing Arrays\n",
        "\n",
        "1.Reshape: You can use reshape top reshape an array as long as the multiplication of all dimensions in that array are equal to the size of that array\n"
      ]
    },
    {
      "cell_type": "code",
      "metadata": {
        "id": "Qhk8CUqrYzII"
      },
      "source": [
        "a=np.array([[1,2],[3,4],[5,6],[7,8]])\n",
        "print(a.shape)\n",
        "a=a.reshape((8,1))\n",
        "print(\"\\n a(after reshape) = \"+str(a))\n",
        "a=a.reshape((1,8))\n",
        "print(\"\\n a(after reshape) = \"+str(a))\n",
        "\n",
        "# a=a.reshape((4,4)) #can't do this as 4*4!=4*2\n",
        "# print(\"\\n a(after reshape) = \"+str(a))"
      ],
      "execution_count": null,
      "outputs": []
    },
    {
      "cell_type": "markdown",
      "metadata": {
        "id": "bAMbscYs1WmU"
      },
      "source": [
        "We can also reshape it into 3 dimensions as long as it has the same value as size when all dims are multiplied together"
      ]
    },
    {
      "cell_type": "code",
      "metadata": {
        "id": "s_4x8HiMYzIJ"
      },
      "source": [
        "assert 2*2*2==a.size\n",
        "#Ex 6\n",
        "#Try to predict the (2,2,2) reshaped array without coding and answer in chat.Then try it by coding and save it in ans1\n",
        "#ADD YOUR CODE HERE\n",
        "\n",
        "#END CODE HERE\n",
        "!pip install gdown\n",
        "!gdown https://drive.google.com/uc?id=1poiO99Ebtz0OHQd4qxKa7tNBj7aiPDRo\n",
        "import grader_numpy as g\n",
        "print(\"\\n\\n\")\n",
        "g.grader6(ans1)"
      ],
      "execution_count": null,
      "outputs": []
    },
    {
      "cell_type": "markdown",
      "metadata": {
        "id": "a5g10kZC1WmV"
      },
      "source": [
        "2.vstack:To vertically any nos. of matrices then you can use the np.vstack(). It takes a list of arrays and stacks them up vertically"
      ]
    },
    {
      "cell_type": "code",
      "metadata": {
        "id": "VnNhj3cqYzIL"
      },
      "source": [
        "a=[1,2,3,4]\n",
        "b=[5,6,7,8]\n",
        "np.vstack([a,b,a,b])"
      ],
      "execution_count": null,
      "outputs": []
    },
    {
      "cell_type": "markdown",
      "metadata": {
        "id": "kRKGDSr31WmV"
      },
      "source": [
        "3.hstack: Same as vstack but stacks them horizontally"
      ]
    },
    {
      "cell_type": "code",
      "metadata": {
        "id": "eWOk_bqWYzIN"
      },
      "source": [
        "np.hstack([a,b,a,b])"
      ],
      "execution_count": null,
      "outputs": []
    },
    {
      "cell_type": "markdown",
      "metadata": {
        "id": "YhTqgtC7YzIg"
      },
      "source": [
        "## Vectorization\n",
        "\n",
        "Vectorization is used to speed up the Python code without using loop. Using such a function can help in minimizing the running time of code efficiently. Various operations are being performed over vector such as dot product of vectors which is also known as scalar product as it produces single output, outer products which results in square matrix of dimension equal to length X length of the vectors, Element wise multiplication which products the element of same indexes and dimension of the matrix remain unchanged."
      ]
    },
    {
      "cell_type": "code",
      "metadata": {
        "id": "R0aKQghcYzIg"
      },
      "source": [
        "import time\n",
        "n=1000000\n",
        "a=np.random.randn(n)\n",
        "b=np.random.randn(n)\n",
        "\n",
        "tic=time.time()\n",
        "c1=0\n",
        "for i in range(n):\n",
        "    c1+=a[i]*b[i]\n",
        "toc=time.time()\n",
        "print(\"Time taken using basic for loops : \"+str(1000*(toc-tic))+\"ms\")\n",
        "\n",
        "tic=time.time()\n",
        "c2=np.dot(a,b)\n",
        "toc=time.time()\n",
        "print(\"Time taken using Vectorized version : \"+str(1000*(toc-tic))+\"ms\")\n",
        "\n",
        "assert int(c1)==int(c2)"
      ],
      "execution_count": null,
      "outputs": []
    },
    {
      "cell_type": "markdown",
      "metadata": {
        "id": "ZrY_tI0l1WmW"
      },
      "source": [
        "Vectorization is just using in built functions in numpy instead of for loops. You should avoid for loops wherever you can, except if necessary. As for loops take up time and are less efficient then vectorized versions. \n",
        "\n",
        "The difference in the finctions is that they directly do operations on the lists instead element by element. That is the magic of Python and why we should embrace it and use it in out projects"
      ]
    },
    {
      "cell_type": "markdown",
      "metadata": {
        "id": "qpmtAuMsSI-T"
      },
      "source": [
        "**Go over to <a href=\"https://zzi.sh\">zzi.sh</a> and write the code that I give you**"
      ]
    }
  ]
}