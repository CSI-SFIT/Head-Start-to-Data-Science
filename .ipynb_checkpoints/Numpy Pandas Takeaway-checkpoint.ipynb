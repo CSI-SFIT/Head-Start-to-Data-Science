{
 "cells": [
  {
   "cell_type": "markdown",
   "id": "dynamic-geneva",
   "metadata": {},
   "source": [
    "The goal of this notebook is to try out some things that we didnt cover in the workshop or some things that were too advanced for the workshop. You can take as much time as you want and solve all the problems. \n",
    "# NUMPY\n",
    "### Don't change code outside of the ADD CODE HERE and END CODE HERE tags"
   ]
  },
  {
   "cell_type": "code",
   "execution_count": 1,
   "id": "backed-philosophy",
   "metadata": {},
   "outputs": [],
   "source": [
    "import numpy as np"
   ]
  },
  {
   "cell_type": "code",
   "execution_count": null,
   "id": "continent-baghdad",
   "metadata": {},
   "outputs": [],
   "source": [
    "#Ex 1\n",
    "ans1=np.array([0,1,2,3,4,5,6,7,8,9])\n",
    "#Replace all the odd values by -1 in the array using just 1 line of code\n",
    "#ADD CODE HERE\n",
    "ans1[ans1 % 2 == 1] = -1\n",
    "#END CODE HERE"
   ]
  },
  {
   "cell_type": "code",
   "execution_count": null,
   "id": "disturbed-range",
   "metadata": {},
   "outputs": [],
   "source": [
    "#Ex 2\n",
    "ans2=np.array([0,1,2,3,4,5,6,7,8,9])\n",
    "a=np.array([7,15,63,96,5,3,26,15,2])\n",
    "#Find all the common elements in ans2 and a using just 1 function call and save it in ans2\n",
    "#ADD CODE HERE\n",
    "ans2=np.intersect1d(ans2,a)\n",
    "#END CODE HERE"
   ]
  },
  {
   "cell_type": "code",
   "execution_count": null,
   "id": "familiar-gamma",
   "metadata": {},
   "outputs": [],
   "source": [
    "#Ex 3\n",
    "ans3=np.array([1,2,3 ,2,3,4,3,4,5,6])\n",
    "a=   np.array([7,2,10,2,7,4,9,4,9,8])\n",
    "#Get only the positions where elements in ans3 and a match and save that in ans3\n",
    "#ADD CODE HERE\n",
    "ans3=np.where(ans3==a)\n",
    "#END CODE HERE"
   ]
  },
  {
   "cell_type": "code",
   "execution_count": 3,
   "id": "thrown-warren",
   "metadata": {},
   "outputs": [
    {
     "data": {
      "text/plain": [
       "array([[3, 4, 5],\n",
       "       [0, 1, 2],\n",
       "       [6, 7, 8]])"
      ]
     },
     "execution_count": 3,
     "metadata": {},
     "output_type": "execute_result"
    }
   ],
   "source": [
    "#Ex 4\n",
    "ans4=np.arange(9).reshape(3,3)\n",
    "#Swap row 0 and 1 and put it back in ans4\n",
    "#ADD CODE HERE\n",
    "ans4=ans4[[1,0,2], :]\n",
    "#END CODE HERE"
   ]
  },
  {
   "cell_type": "code",
   "execution_count": null,
   "id": "subject-aberdeen",
   "metadata": {},
   "outputs": [],
   "source": [
    "#Run this cell to run the grader. Run this only after you have run all the 4 exercise cells\n",
    "#Doesn't Matter if they are solved or unsolved, just run them.\n",
    "error=False\n",
    "try:\n",
    "    ans1\n",
    "except NameError:\n",
    "    print(\"Run Ex 1 before running this cell\")\n",
    "    error=True\n",
    "try:\n",
    "    ans2\n",
    "except NameError:\n",
    "    print(\"Run Ex 2 before running this cell\")\n",
    "    error=True\n",
    "try:\n",
    "    ans3\n",
    "except NameError:\n",
    "    print(\"Run Ex 3 before running this cell\")\n",
    "    error=True\n",
    "try:\n",
    "    ans4\n",
    "except NameError:\n",
    "    print(\"Run Ex 4 before running this cell\")\n",
    "    error=True\n",
    "if(not error):\n",
    "    !pip install gdown\n",
    "    !gdown https://drive.google.com/uc?id=1poiO99Ebtz0OHQd4qxKa7tNBj7aiPDRo\n",
    "    import grader_numpy_takeaway as g\n",
    "    g.grader(ans1,ans2,ans3,ans4)"
   ]
  },
  {
   "cell_type": "code",
   "execution_count": null,
   "id": "spatial-marijuana",
   "metadata": {},
   "outputs": [],
   "source": []
  }
 ],
 "metadata": {
  "kernelspec": {
   "display_name": "Python 3",
   "language": "python",
   "name": "python3"
  },
  "language_info": {
   "codemirror_mode": {
    "name": "ipython",
    "version": 3
   },
   "file_extension": ".py",
   "mimetype": "text/x-python",
   "name": "python",
   "nbconvert_exporter": "python",
   "pygments_lexer": "ipython3",
   "version": "3.9.1"
  }
 },
 "nbformat": 4,
 "nbformat_minor": 5
}
