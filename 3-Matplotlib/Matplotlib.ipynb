{
  "nbformat": 4,
  "nbformat_minor": 0,
  "metadata": {
    "kernelspec": {
      "display_name": "Python 3",
      "language": "python",
      "name": "python3"
    },
    "language_info": {
      "codemirror_mode": {
        "name": "ipython",
        "version": 3
      },
      "file_extension": ".py",
      "mimetype": "text/x-python",
      "name": "python",
      "nbconvert_exporter": "python",
      "pygments_lexer": "ipython3",
      "version": "3.7.6"
    },
    "colab": {
      "name": "Matplotlib.ipynb",
      "provenance": [],
      "collapsed_sections": [
        "AnG1Uo2XBPLL",
        "VlEBmpuBBPLS",
        "bYSnlLSWBPLZ",
        "qrA2FjYUBPLc",
        "bc_4tf0YBPLe",
        "PbE2Nqz8BPLj",
        "R66uMpQ-BPLl",
        "pq29q-8FBPLn",
        "Ed70l77bBPLw"
      ]
    }
  },
  "cells": [
    {
      "cell_type": "markdown",
      "metadata": {
        "id": "CRv5SD5ABPKl"
      },
      "source": [
        "# Matplotlib\r\n",
        "Colab Link: [**Link**](https://colab.research.google.com/drive/1Oneno6TP6i_DgsCQ506oXj9uQnPrPfdj?usp=sharing)"
      ]
    },
    {
      "cell_type": "markdown",
      "metadata": {
        "id": "MwX--1ooBPK5"
      },
      "source": [
        "## Introduction"
      ]
    },
    {
      "cell_type": "markdown",
      "metadata": {
        "id": "vUKg1NvHBPK7"
      },
      "source": [
        "Matplotlib is the \"grandfather\" library of data visualization with Python. It was created by John Hunter. \n",
        "\n",
        "* Most Popular plotting library for python\n",
        "* Control over every aspect of the figure\n",
        "* Similar to Matlab’s graphical plotting\n",
        "* Goes well with numpy and pandas\n",
        "\n",
        "It is an excellent 2D and 3D graphics library for generating scientific figures.\n",
        "\n",
        "Official Matplotlib web page: http://matplotlib.org/\n",
        "\n",
        "##2D Plots\n",
        "\n",
        "<img src=\"https://encrypted-tbn0.gstatic.com/images?q=tbn:ANd9GcQ38VnNK8HyU5kdbhe_LP_gfFylAZGJkAxW1w&usqp=CAU\" width=350 height=250>\n",
        "\n",
        "<img src=\"https://encrypted-tbn0.gstatic.com/images?q=tbn:ANd9GcSJeHVdeMER6wElbk7DcQuo4CdKFZID-jpY8A&usqp=CAU\" width=350 height=250>\n",
        "\n",
        "##3D Plots\n",
        "\n",
        "<img src=\"https://encrypted-tbn0.gstatic.com/images?q=tbn:ANd9GcTzu-_4r-WqFiy9Xjg-K_GQkwCQnUKtCpllvw&usqp=CAU\" width=350 height=250>\n",
        "\n",
        "<img src=\"https://encrypted-tbn0.gstatic.com/images?q=tbn:ANd9GcSL7cx5syT7-sjiUF33_CqC5e0QdFrk03Tcig&usqp=CAU\" width=300 height=200>\n",
        "\n",
        "<img src=\"data:image/jpeg;base64,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\" width=350 height=250>\n",
        "\n",
        "## Installation \n",
        "\n",
        "You'll need to install matplotlib first with either:\n",
        "\n",
        "    conda install matplotlib\n",
        "or\n",
        "    pip install matplotlib\n",
        "    \n",
        "## Importing\n"
      ]
    },
    {
      "cell_type": "code",
      "metadata": {
        "id": "ylZpbHnEBPK8"
      },
      "source": [
        "import matplotlib.pyplot as plt"
      ],
      "execution_count": null,
      "outputs": []
    },
    {
      "cell_type": "code",
      "metadata": {
        "id": "Gf2zkPgmBPK-"
      },
      "source": [
        "%matplotlib inline\n",
        "# This line is only for jupyter notebooks"
      ],
      "execution_count": null,
      "outputs": []
    },
    {
      "cell_type": "markdown",
      "metadata": {
        "id": "FgRKhbekBPLA"
      },
      "source": [
        "In case of other editors, use **plt.show()** at the end of your code"
      ]
    },
    {
      "cell_type": "markdown",
      "metadata": {
        "id": "z7aYBBLVBPLB"
      },
      "source": [
        "## Data"
      ]
    },
    {
      "cell_type": "code",
      "metadata": {
        "id": "b0XpF0IpBPLC"
      },
      "source": [
        "import numpy as np\n",
        "import pandas as pd"
      ],
      "execution_count": null,
      "outputs": []
    },
    {
      "cell_type": "code",
      "metadata": {
        "id": "CLQ6pHkVBPLD"
      },
      "source": [
        "x = np.linspace(0, 5, 11)"
      ],
      "execution_count": null,
      "outputs": []
    },
    {
      "cell_type": "code",
      "metadata": {
        "id": "vkhezFfpBPLD"
      },
      "source": [
        "x"
      ],
      "execution_count": null,
      "outputs": []
    },
    {
      "cell_type": "code",
      "metadata": {
        "id": "uLQs0NcJBPLG"
      },
      "source": [
        "y = x ** 2\n",
        "z = x ** 3"
      ],
      "execution_count": null,
      "outputs": []
    },
    {
      "cell_type": "code",
      "metadata": {
        "id": "OTS-tPqEBPLH"
      },
      "source": [
        "y"
      ],
      "execution_count": null,
      "outputs": []
    },
    {
      "cell_type": "code",
      "metadata": {
        "id": "NVQLXrn7BPLH"
      },
      "source": [
        "z"
      ],
      "execution_count": null,
      "outputs": []
    },
    {
      "cell_type": "markdown",
      "metadata": {
        "id": "9y6UZ87sBPLJ"
      },
      "source": [
        "## Basic Matplotlib Commands"
      ]
    },
    {
      "cell_type": "code",
      "metadata": {
        "id": "YPZuodaeBPLJ"
      },
      "source": [
        "plt.plot(x, y)"
      ],
      "execution_count": null,
      "outputs": []
    },
    {
      "cell_type": "code",
      "metadata": {
        "id": "X3vShGQrBPLK"
      },
      "source": [
        "plt.plot(x, z, 'g') # 'g' = green\n",
        "plt.xlabel('X Axis')\n",
        "plt.ylabel('Y Axis')\n",
        "plt.title('Title')\n",
        "plt.show()"
      ],
      "execution_count": null,
      "outputs": []
    },
    {
      "cell_type": "markdown",
      "metadata": {
        "id": "AnG1Uo2XBPLL"
      },
      "source": [
        "## Creating Multiple Plots on Same Canvas"
      ]
    },
    {
      "cell_type": "code",
      "metadata": {
        "id": "rgX9AjkABPLM"
      },
      "source": [
        "# plt.subplot(nrows, ncols, plot_num)\n",
        "ax1 = plt.subplot(1, 2, 1)\n",
        "ax1.plot(x, y, 'r')\n",
        "plt.xlabel('X')\n",
        "ax2 = plt.subplot(1, 2, 2)\n",
        "ax2.plot(x, z, 'g')"
      ],
      "execution_count": null,
      "outputs": []
    },
    {
      "cell_type": "markdown",
      "metadata": {
        "id": "hFCDQEZXBPLN"
      },
      "source": [
        "# Matplotlib Object Oriented Method\n",
        "We will instantiate figure objects and then call methods or attributes from that object."
      ]
    },
    {
      "cell_type": "code",
      "metadata": {
        "id": "UqhndlTABPLN"
      },
      "source": [
        "# Create Figure\n",
        "fig = plt.figure()\n",
        "# Add axes\n",
        "axes = fig.add_axes([0.1, 0.1, 0.8, 0.8]) # add_axes([left, bottom, width, height])\n",
        "# Plot on the axes\n",
        "axes.plot(x, y, 'b')\n",
        "axes.set_xlabel('X')\n",
        "axes.set_ylabel('X squared')\n",
        "axes.set_title('Square Plot')"
      ],
      "execution_count": null,
      "outputs": []
    },
    {
      "cell_type": "code",
      "metadata": {
        "id": "tAzohv0_BPLO"
      },
      "source": [
        "# Display the figure object\n",
        "fig"
      ],
      "execution_count": null,
      "outputs": []
    },
    {
      "cell_type": "code",
      "metadata": {
        "id": "_-EB6oMHBPLP"
      },
      "source": [
        "fig = plt.figure()\n",
        "# Larger Axis\n",
        "ax1 = fig.add_axes([0.1, 0.1, 0.8, 0.8])\n",
        "ax1.plot(x, y)\n",
        "# Smaller Axis\n",
        "ax2 = fig.add_axes([0.1, 0.5, 0.3, 0.2])\n",
        "ax2.plot(x, z)"
      ],
      "execution_count": null,
      "outputs": []
    },
    {
      "cell_type": "markdown",
      "metadata": {
        "id": "VlEBmpuBBPLS"
      },
      "source": [
        "## subplots()\n",
        "\n",
        "Use similar to plt.figure() except use tuple unpacking to grab fig and axes"
      ]
    },
    {
      "cell_type": "code",
      "metadata": {
        "id": "pdY9MnaTBPLT"
      },
      "source": [
        "fig, axes = plt.subplots(2, 2)\n",
        "axes[0][0].plot(x, y, 'y')\n",
        "axes[0][0].set_xlabel('X')\n",
        "axes[0][0].set_ylabel('X square')\n",
        "\n",
        "axes[0][1].plot(y, x, 'r')\n",
        "axes[0][1].set_xlabel('X square')\n",
        "axes[0][1].set_ylabel('X')\n",
        "\n",
        "axes[1][0].plot(x, z, 'b')\n",
        "axes[1][0].set_xlabel('X')\n",
        "axes[1][0].set_ylabel('X cube')\n",
        "\n",
        "axes[1][1].plot(z, x, 'g')\n",
        "axes[1][1].set_xlabel('X cube')\n",
        "axes[1][1].set_ylabel('X')\n",
        "plt.tight_layout()"
      ],
      "execution_count": null,
      "outputs": []
    },
    {
      "cell_type": "markdown",
      "metadata": {
        "id": "4RV1ruZlBPLV"
      },
      "source": [
        "**fig.tight_layout()** or **plt.tight_layout()** method automatically gives padding to the subplots on the figure canvas so that they don't overlap"
      ]
    },
    {
      "cell_type": "markdown",
      "metadata": {
        "id": "MexShN3IBPLW"
      },
      "source": [
        "Axes is an array of axes to plot on. This array is iterable"
      ]
    },
    {
      "cell_type": "code",
      "metadata": {
        "id": "Is-l01OyBPLX"
      },
      "source": [
        "fig, axes = plt.subplots(1, 2)\n",
        "for ax in axes:\n",
        "    ax.plot(x, y)\n",
        "    ax.set_title(\"Square\")"
      ],
      "execution_count": null,
      "outputs": []
    },
    {
      "cell_type": "markdown",
      "metadata": {
        "id": "bYSnlLSWBPLZ"
      },
      "source": [
        "## Figure size and DPI"
      ]
    },
    {
      "cell_type": "markdown",
      "metadata": {
        "id": "Zl4DDCK8BPLZ"
      },
      "source": [
        "Matplotlib allows the DPI and figure size to be specified when the Figure object is created.\n",
        "\n",
        "* **figsize** is a tuple of the width and height of the figure in inches\n",
        "* **dpi** is the dots-per-inch (pixel per inch). "
      ]
    },
    {
      "cell_type": "code",
      "metadata": {
        "id": "ivoyZ45nBPLb"
      },
      "source": [
        "fig, axes = plt.subplots(figsize=(8, 5), dpi=100)\n",
        "axes.plot(x, y)\n",
        "axes.plot(x, z)"
      ],
      "execution_count": null,
      "outputs": []
    },
    {
      "cell_type": "markdown",
      "metadata": {
        "id": "qrA2FjYUBPLc"
      },
      "source": [
        "## Saving figures\n",
        "Matplotlib can generate high-quality output in a number formats, including PNG, JPG, EPS, SVG, PGF and PDF.\n",
        "\n",
        "To save a figure use **savefig()** of Figure class"
      ]
    },
    {
      "cell_type": "code",
      "metadata": {
        "id": "2lNcKuUvBPLd"
      },
      "source": [
        "fig.savefig(\"filename.png\")"
      ],
      "execution_count": null,
      "outputs": []
    },
    {
      "cell_type": "code",
      "metadata": {
        "id": "NTOJWdtoBPLe"
      },
      "source": [
        "fig.savefig(\"filename.png\", dpi=100)"
      ],
      "execution_count": null,
      "outputs": []
    },
    {
      "cell_type": "markdown",
      "metadata": {
        "id": "bc_4tf0YBPLe"
      },
      "source": [
        "## Legends"
      ]
    },
    {
      "cell_type": "code",
      "metadata": {
        "id": "B8WPaZZnBPLf"
      },
      "source": [
        "fig, axes = plt.subplots(figsize=(12, 5))\n",
        "axes.plot(x, y, label=\"x square\")\n",
        "axes.plot(x, z, label=\"x cube\")\n",
        "axes.legend()"
      ],
      "execution_count": null,
      "outputs": []
    },
    {
      "cell_type": "code",
      "metadata": {
        "id": "HQzQaIMVBPLg"
      },
      "source": [
        "# ax.legend(loc=1) upper right corner\n",
        "# ax.legend(loc=2) upper left corner\n",
        "# ax.legend(loc=3) lower left corner\n",
        "# ax.legend(loc=4) lower right corner"
      ],
      "execution_count": null,
      "outputs": []
    },
    {
      "cell_type": "markdown",
      "metadata": {
        "id": "UpCQ313QBPLi"
      },
      "source": [
        "many more options are available\n",
        "\n",
        "Most common to choose"
      ]
    },
    {
      "cell_type": "code",
      "metadata": {
        "id": "WQzYw3GCBPLj"
      },
      "source": [
        "# ax.legend(loc=0) let matplotlib decide the optimal location"
      ],
      "execution_count": null,
      "outputs": []
    },
    {
      "cell_type": "markdown",
      "metadata": {
        "id": "PbE2Nqz8BPLj"
      },
      "source": [
        "## Text annotation\n",
        "\n",
        "Annotating text in matplotlib figures can be done using the **text()** function."
      ]
    },
    {
      "cell_type": "code",
      "metadata": {
        "id": "GpqjG1wFBPLk"
      },
      "source": [
        "fig, ax = plt.subplots()\n",
        "ax.plot(x, y, x, z)\n",
        "ax.text(x=4, y=30, s=r\"$y=x^2$\", fontsize=20, color='blue')\n",
        "ax.text(x=3.5, y=100, s=r\"$y=x^3$\", fontsize=20, color='orange');"
      ],
      "execution_count": null,
      "outputs": []
    },
    {
      "cell_type": "markdown",
      "metadata": {
        "id": "R66uMpQ-BPLl"
      },
      "source": [
        "## Setting colors, linewidths, linetypes\n",
        "\n",
        "Matplotlib gives you *a lot* of options for customizing colors, linewidths, and linetypes. "
      ]
    },
    {
      "cell_type": "code",
      "metadata": {
        "id": "mqCZvctbBPLl"
      },
      "source": [
        "fig, ax = plt.subplots()\n",
        "# alpha arguement indicates opacity\n",
        "ax.plot(x, x+1, color=\"blue\", alpha=0.5) # half-transparant\n",
        "ax.plot(x, x, color=\"blue\", alpha=1) # opaque\n",
        "ax.plot(x, x+2, color=\"#8B008B\")        # RGB hex code\n",
        "ax.plot(x, x+3, color=\"#FF8C00\")        # RGB hex code "
      ],
      "execution_count": null,
      "outputs": []
    },
    {
      "cell_type": "code",
      "metadata": {
        "id": "QFH24xaYBPLm"
      },
      "source": [
        "fig, axes = plt.subplots(figsize=(12, 6))\n",
        "# linewidth or lw\n",
        "axes.plot(x, x+1, color='green', linewidth=1)\n",
        "axes.plot(x, x+2, color='green', linewidth=2)\n",
        "axes.plot(x, x+3, color='green', linewidth=3)\n",
        "# linestyle or ls (-, -., :)\n",
        "axes.plot(x, x+4, color='red', lw=2, ls='--')\n",
        "axes.plot(x, x+5, color='red', lw=2, ls='-.')\n",
        "axes.plot(x, x+6, color='red', lw=2, ls=':')\n",
        "# custom dash\n",
        "line, = axes.plot(x, x+7, color='black', lw=2)\n",
        "line.set_dashes([5, 10, 15, 10])\n",
        "# marker  ('+', '*', 's', 'o', ',', '.', '1', '2', '3', '4', ........)\n",
        "axes.plot(x, x+8, color='blue', lw=2, marker='s',markersize=10, markeredgewidth=5, markeredgecolor='red', markerfacecolor='yellow')\n",
        "axes.plot(x, x+9, color='blue', lw=2, marker='o')\n",
        "axes.plot(x, x+10, color='blue', lw=2, marker='1', markersize=10)\n",
        "axes.plot(x, x+11, color='blue', lw=2, marker='4', markersize=20)"
      ],
      "execution_count": null,
      "outputs": []
    },
    {
      "cell_type": "markdown",
      "metadata": {
        "id": "pq29q-8FBPLn"
      },
      "source": [
        "## Plot Range"
      ]
    },
    {
      "cell_type": "markdown",
      "metadata": {
        "id": "R3tPN40-BPLn"
      },
      "source": [
        "We can configure the ranges of the axes using the **set_ylim()** and **set_xlim()** methods in the axis object, or **axis('tight')** for automatically getting \"tightly fitted\" axes ranges:"
      ]
    },
    {
      "cell_type": "code",
      "metadata": {
        "id": "R1hv1thgBPLo"
      },
      "source": [
        "fig, axes = plt.subplots(1, 3, figsize=(8, 4))\n",
        "\n",
        "axes[0].plot(x, x**2, x, x**3)\n",
        "axes[0].set_title(\"default axes ranges\")\n",
        "\n",
        "axes[1].plot(x, x**2, x, x**3)\n",
        "axes[1].axis('tight')\n",
        "axes[1].set_title(\"tight axes\")\n",
        "\n",
        "axes[2].plot(x, x**2, x, x**3)\n",
        "axes[2].set_ylim([0, 60])\n",
        "axes[2].set_xlim([2, 5])\n",
        "axes[2].set_title(\"custom axes range\");"
      ],
      "execution_count": null,
      "outputs": []
    },
    {
      "cell_type": "markdown",
      "metadata": {
        "id": "SCEQ7C6jBPLp"
      },
      "source": [
        "# Other Plot Types\n",
        "There are many specialized plots we can create, such as barplots, histograms, scatter plots, and much more.\n",
        "Here are a few examples of these type of plots:"
      ]
    },
    {
      "cell_type": "code",
      "metadata": {
        "id": "UwwL3-fCBPLr"
      },
      "source": [
        "fig, axes = plt.subplots(1, 4, figsize=(12,3), dpi=90)\n",
        "\n",
        "axes[0].scatter(x, y)\n",
        "axes[0].set_title(\"scatter\")\n",
        "\n",
        "axes[1].step(x, y, lw=2)\n",
        "axes[1].set_xticks([0, 1, 2, 3, 4, 5])\n",
        "axes[1].set_title(\"step\")\n",
        "\n",
        "axes[2].bar(x, y, align=\"center\", width=0.5, alpha=0.5)\n",
        "axes[2].set_title(\"bar\")\n",
        "\n",
        "axes[3].fill_between(x, y, z, color=\"green\", alpha=1);\n",
        "axes[3].set_title(\"fill_between\");"
      ],
      "execution_count": null,
      "outputs": []
    },
    {
      "cell_type": "code",
      "metadata": {
        "id": "HYj5yODIBPLs"
      },
      "source": [
        "from random import sample\n",
        "data = sample(range(1, 1000), 10)"
      ],
      "execution_count": null,
      "outputs": []
    },
    {
      "cell_type": "code",
      "metadata": {
        "id": "vic13a1xBPLu"
      },
      "source": [
        "plt.hist(data, bins=50)"
      ],
      "execution_count": null,
      "outputs": []
    },
    {
      "cell_type": "code",
      "metadata": {
        "id": "SfqGShSzBPLv"
      },
      "source": [
        "data = [np.random.normal(0, std, 100) for std in range(1, 4)]\n",
        "plt.boxplot(data, vert=True, patch_artist=True)"
      ],
      "execution_count": null,
      "outputs": []
    },
    {
      "cell_type": "markdown",
      "metadata": {
        "id": "Ed70l77bBPLw"
      },
      "source": [
        "## Important Links"
      ]
    },
    {
      "cell_type": "markdown",
      "metadata": {
        "id": "yj9eyqU4BPLy"
      },
      "source": [
        "* http://www.matplotlib.org - The project web page for matplotlib.\n",
        "* http://matplotlib.org/gallery.html - A large gallery showcaseing various types of plots matplotlib can create. Highly recommended! \n",
        "* http://www.loria.fr/~rougier/teaching/matplotlib - A good matplotlib tutorial.\n"
      ]
    },
    {
      "cell_type": "code",
      "metadata": {
        "id": "vMb9dHchBPLz"
      },
      "source": [
        ""
      ],
      "execution_count": null,
      "outputs": []
    }
  ]
}