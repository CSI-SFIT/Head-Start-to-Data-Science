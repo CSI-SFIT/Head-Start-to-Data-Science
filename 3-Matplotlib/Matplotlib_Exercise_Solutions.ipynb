{
  "nbformat": 4,
  "nbformat_minor": 0,
  "metadata": {
    "kernelspec": {
      "display_name": "Python 3",
      "language": "python",
      "name": "python3"
    },
    "language_info": {
      "codemirror_mode": {
        "name": "ipython",
        "version": 3
      },
      "file_extension": ".py",
      "mimetype": "text/x-python",
      "name": "python",
      "nbconvert_exporter": "python",
      "pygments_lexer": "ipython3",
      "version": "3.7.6"
    },
    "colab": {
      "name": "Matplotib Exercise Solutions.ipynb",
      "provenance": []
    }
  },
  "cells": [
    {
      "cell_type": "markdown",
      "metadata": {
        "id": "XdHN-evHERqX"
      },
      "source": [
        "# Exercise\r\n",
        "Colab Link: <a href='https://colab.research.google.com/drive/14r8N8raoAHImD1Jy2f-yPhOs0cxrvPcv?usp=sharing'>Link</a>"
      ]
    },
    {
      "cell_type": "markdown",
      "metadata": {
        "id": "s9qwFyVwERqh"
      },
      "source": [
        "## Data"
      ]
    },
    {
      "cell_type": "code",
      "metadata": {
        "id": "DtcA_fHtERqi"
      },
      "source": [
        "import numpy as np\n",
        "x = np.arange(0,100)\n",
        "y = x*2\n",
        "z = x**2"
      ],
      "execution_count": null,
      "outputs": []
    },
    {
      "cell_type": "code",
      "metadata": {
        "id": "aWPeZ-SsERqj",
        "outputId": "0b39d23b-510b-44be-d51d-b2663a6ad467"
      },
      "source": [
        "x"
      ],
      "execution_count": null,
      "outputs": [
        {
          "output_type": "execute_result",
          "data": {
            "text/plain": [
              "array([ 0,  1,  2,  3,  4,  5,  6,  7,  8,  9, 10, 11, 12, 13, 14, 15, 16,\n",
              "       17, 18, 19, 20, 21, 22, 23, 24, 25, 26, 27, 28, 29, 30, 31, 32, 33,\n",
              "       34, 35, 36, 37, 38, 39, 40, 41, 42, 43, 44, 45, 46, 47, 48, 49, 50,\n",
              "       51, 52, 53, 54, 55, 56, 57, 58, 59, 60, 61, 62, 63, 64, 65, 66, 67,\n",
              "       68, 69, 70, 71, 72, 73, 74, 75, 76, 77, 78, 79, 80, 81, 82, 83, 84,\n",
              "       85, 86, 87, 88, 89, 90, 91, 92, 93, 94, 95, 96, 97, 98, 99])"
            ]
          },
          "metadata": {
            "tags": []
          },
          "execution_count": 2
        }
      ]
    },
    {
      "cell_type": "code",
      "metadata": {
        "id": "3QJYR3NDERqk",
        "outputId": "157ef806-fc67-4307-f21d-139575edd881"
      },
      "source": [
        "y"
      ],
      "execution_count": null,
      "outputs": [
        {
          "output_type": "execute_result",
          "data": {
            "text/plain": [
              "array([  0,   2,   4,   6,   8,  10,  12,  14,  16,  18,  20,  22,  24,\n",
              "        26,  28,  30,  32,  34,  36,  38,  40,  42,  44,  46,  48,  50,\n",
              "        52,  54,  56,  58,  60,  62,  64,  66,  68,  70,  72,  74,  76,\n",
              "        78,  80,  82,  84,  86,  88,  90,  92,  94,  96,  98, 100, 102,\n",
              "       104, 106, 108, 110, 112, 114, 116, 118, 120, 122, 124, 126, 128,\n",
              "       130, 132, 134, 136, 138, 140, 142, 144, 146, 148, 150, 152, 154,\n",
              "       156, 158, 160, 162, 164, 166, 168, 170, 172, 174, 176, 178, 180,\n",
              "       182, 184, 186, 188, 190, 192, 194, 196, 198])"
            ]
          },
          "metadata": {
            "tags": []
          },
          "execution_count": 3
        }
      ]
    },
    {
      "cell_type": "code",
      "metadata": {
        "id": "HhUQ0ykfERql",
        "outputId": "b46333b2-91ac-4fdc-b759-0d3ef87adaf8"
      },
      "source": [
        "z"
      ],
      "execution_count": null,
      "outputs": [
        {
          "output_type": "execute_result",
          "data": {
            "text/plain": [
              "array([   0,    1,    4,    9,   16,   25,   36,   49,   64,   81,  100,\n",
              "        121,  144,  169,  196,  225,  256,  289,  324,  361,  400,  441,\n",
              "        484,  529,  576,  625,  676,  729,  784,  841,  900,  961, 1024,\n",
              "       1089, 1156, 1225, 1296, 1369, 1444, 1521, 1600, 1681, 1764, 1849,\n",
              "       1936, 2025, 2116, 2209, 2304, 2401, 2500, 2601, 2704, 2809, 2916,\n",
              "       3025, 3136, 3249, 3364, 3481, 3600, 3721, 3844, 3969, 4096, 4225,\n",
              "       4356, 4489, 4624, 4761, 4900, 5041, 5184, 5329, 5476, 5625, 5776,\n",
              "       5929, 6084, 6241, 6400, 6561, 6724, 6889, 7056, 7225, 7396, 7569,\n",
              "       7744, 7921, 8100, 8281, 8464, 8649, 8836, 9025, 9216, 9409, 9604,\n",
              "       9801], dtype=int32)"
            ]
          },
          "metadata": {
            "tags": []
          },
          "execution_count": 4
        }
      ]
    },
    {
      "cell_type": "code",
      "metadata": {
        "id": "uSaecd42ERql"
      },
      "source": [
        "import matplotlib.pyplot as plt\n",
        "%matplotlib inline"
      ],
      "execution_count": null,
      "outputs": []
    },
    {
      "cell_type": "markdown",
      "metadata": {
        "id": "LrBuowaoERqm"
      },
      "source": [
        "## Exercise 1\n",
        "* Create a figure object called fig using plt.figure()\n",
        "* Add an axis to the figure canvas at [0, 0, 1, 1].\n",
        "* Plot (x,y) on that axes and set labels and titles"
      ]
    },
    {
      "cell_type": "code",
      "metadata": {
        "id": "bdi3R4pGERqm",
        "outputId": "c1216233-576e-4222-c66b-5280fa24293b"
      },
      "source": [
        "fig = plt.figure()\n",
        "ax = fig.add_axes([0, 0, 1, 1])\n",
        "ax.plot(x, y)\n",
        "ax.set_xlabel('X')\n",
        "ax.set_ylabel('Y')\n",
        "ax.set_title('X times 2')"
      ],
      "execution_count": null,
      "outputs": [
        {
          "output_type": "execute_result",
          "data": {
            "text/plain": [
              "Text(0.5, 1.0, 'X times 2')"
            ]
          },
          "metadata": {
            "tags": []
          },
          "execution_count": 6
        },
        {
          "output_type": "display_data",
          "data": {
            "image/png": "[encoded data removed]",
            "text/plain": [
              "<Figure size 432x288 with 1 Axes>"
            ]
          },
          "metadata": {
            "tags": [],
            "needs_background": "light"
          }
        }
      ]
    },
    {
      "cell_type": "markdown",
      "metadata": {
        "id": "RiGcXO_rERqn"
      },
      "source": [
        "## Exercise 2\n",
        "Create a figure object and put two axes on it, ax1 and ax2.\n",
        "\n",
        "Located at\n",
        "\n",
        "ax1:\n",
        "* 0% from left and bottom\n",
        "* 100% width and height.\n",
        "\n",
        "ax2:\n",
        "* 20% from left, 50% from bottom\n",
        "* 20% width and height"
      ]
    },
    {
      "cell_type": "code",
      "metadata": {
        "id": "EFDZlJW_ERqn",
        "outputId": "180ec250-1d7d-4755-f29d-68a8abf0812e"
      },
      "source": [
        "fig = plt.figure()\n",
        "ax1 = fig.add_axes([0, 0, 1, 1])\n",
        "ax2 = fig.add_axes([0.2, 0.5, 0.2, 0.2])"
      ],
      "execution_count": null,
      "outputs": [
        {
          "output_type": "display_data",
          "data": {
            "image/png": "[encoded data removed]",
            "text/plain": [
              "<Figure size 432x288 with 2 Axes>"
            ]
          },
          "metadata": {
            "tags": [],
            "needs_background": "light"
          }
        }
      ]
    },
    {
      "cell_type": "markdown",
      "metadata": {
        "id": "dQ20EEqgERqo"
      },
      "source": [
        "**Now plot (x,y) on both axes. And call your figure object to show it.**"
      ]
    },
    {
      "cell_type": "code",
      "metadata": {
        "id": "11FbOBkHERqo",
        "outputId": "66c00917-39e0-4722-bccb-0244aae29fdc"
      },
      "source": [
        "ax1.plot(x, y)\n",
        "ax2.plot(x, y)\n",
        "fig"
      ],
      "execution_count": null,
      "outputs": [
        {
          "output_type": "execute_result",
          "data": {
            "image/png": "[encoded data removed]",
            "text/plain": [
              "<Figure size 432x288 with 2 Axes>"
            ]
          },
          "metadata": {
            "tags": []
          },
          "execution_count": 8
        }
      ]
    },
    {
      "cell_type": "markdown",
      "metadata": {
        "id": "rFuO9-AiERqo"
      },
      "source": [
        "## Exercise 3\n",
        "\n",
        "**Create the plot below by adding two axes to a figure object at [0,0,1,1] and [0.2,0.5,0.4,0.4]**"
      ]
    },
    {
      "cell_type": "code",
      "metadata": {
        "id": "1PQbcuAHERqp",
        "outputId": "bb924262-8292-4b5e-db4c-ddab5e84bab9"
      },
      "source": [
        "fig = plt.figure()\n",
        "ax1 = fig.add_axes([0, 0, 1, 1])\n",
        "ax2 = fig.add_axes([0.2, 0.5, 0.4, 0.4])"
      ],
      "execution_count": null,
      "outputs": [
        {
          "output_type": "display_data",
          "data": {
            "image/png": "[encoded data removed]",
            "text/plain": [
              "<Figure size 432x288 with 2 Axes>"
            ]
          },
          "metadata": {
            "tags": [],
            "needs_background": "light"
          }
        }
      ]
    },
    {
      "cell_type": "markdown",
      "metadata": {
        "id": "iGds6BCOERqp"
      },
      "source": [
        "**Now use x,y, and z arrays to recreate the plot below. Notice the xlimits and y limits on the inserted plot:**"
      ]
    },
    {
      "cell_type": "code",
      "metadata": {
        "id": "vy4EzrHFERqp"
      },
      "source": [
        ""
      ],
      "execution_count": null,
      "outputs": []
    },
    {
      "cell_type": "code",
      "metadata": {
        "id": "aS1Ll_oCERqq",
        "outputId": "34644be4-39cf-40a3-a54d-4131177786fd"
      },
      "source": [
        "ax1.plot(x, z, 'b')\n",
        "ax2.plot(x, y, 'b')\n",
        "ax2.set_xlim([20, 22])\n",
        "ax2.set_ylim([30, 50])\n",
        "fig"
      ],
      "execution_count": null,
      "outputs": [
        {
          "output_type": "execute_result",
          "data": {
            "image/png": "[encoded data removed]",
            "text/plain": [
              "<Figure size 432x288 with 2 Axes>"
            ]
          },
          "metadata": {
            "tags": []
          },
          "execution_count": 10
        }
      ]
    },
    {
      "cell_type": "markdown",
      "metadata": {
        "id": "nU-5Xq0mERqq"
      },
      "source": [
        "## Exercise 4\n",
        "\n",
        "**Use plt.subplots(nrows=1, ncols=2) to create a plot.**\n",
        "\n",
        "**Now plot (x,y) and (x,z) on the axes. Choose a suitable linewidth and style for the plots**\n",
        "\n",
        "**See if you can resize the plot by adding the figsize() argument in plt.subplots()**"
      ]
    },
    {
      "cell_type": "code",
      "metadata": {
        "id": "9GXs8yGsERqq",
        "outputId": "0d885298-3aa6-4fe5-acd7-985949011dfe"
      },
      "source": [
        "fig, axes = plt.subplots(nrows=1, ncols=2, figsize=(8, 4))\n",
        "axes[0].plot(x, y, lw=2, ls='-.')\n",
        "axes[1].plot(x, z, lw=3, ls='--')"
      ],
      "execution_count": null,
      "outputs": [
        {
          "output_type": "execute_result",
          "data": {
            "text/plain": [
              "[<matplotlib.lines.Line2D at 0x1d51ed24ec8>]"
            ]
          },
          "metadata": {
            "tags": []
          },
          "execution_count": 11
        },
        {
          "output_type": "display_data",
          "data": {
            "image/png": "[encoded data removed]",
            "text/plain": [
              "<Figure size 576x288 with 2 Axes>"
            ]
          },
          "metadata": {
            "tags": [],
            "needs_background": "light"
          }
        }
      ]
    },
    {
      "cell_type": "markdown",
      "metadata": {
        "id": "7tSpvxjYERqr"
      },
      "source": [
        "# Done!"
      ]
    },
    {
      "cell_type": "code",
      "metadata": {
        "id": "AzDN1Z9fERqr"
      },
      "source": [
        ""
      ],
      "execution_count": null,
      "outputs": []
    }
  ]
}
