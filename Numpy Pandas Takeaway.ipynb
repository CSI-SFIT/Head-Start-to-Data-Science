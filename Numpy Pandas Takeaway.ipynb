{
  "nbformat": 4,
  "nbformat_minor": 5,
  "metadata": {
    "kernelspec": {
      "display_name": "Python 3",
      "language": "python",
      "name": "python3"
    },
    "language_info": {
      "codemirror_mode": {
        "name": "ipython",
        "version": 3
      },
      "file_extension": ".py",
      "mimetype": "text/x-python",
      "name": "python",
      "nbconvert_exporter": "python",
      "pygments_lexer": "ipython3",
      "version": "3.9.1"
    },
    "colab": {
      "name": "Numpy Pandas Takeaway.ipynb",
      "provenance": [],
      "collapsed_sections": []
    }
  },
  "cells": [
    {
      "cell_type": "markdown",
      "metadata": {
        "id": "dynamic-geneva"
      },
      "source": [
        "The goal of this notebook is to try out some things that we didnt cover in the workshop or some things that were too advanced for the workshop. You can take as much time as you want and solve all the problems. \n",
        "# NUMPY\n",
        "### Don't change code outside of the ADD CODE HERE and END CODE HERE tags"
      ],
      "id": "dynamic-geneva"
    },
    {
      "cell_type": "code",
      "metadata": {
        "id": "backed-philosophy"
      },
      "source": [
        "import numpy as np"
      ],
      "id": "backed-philosophy",
      "execution_count": null,
      "outputs": []
    },
    {
      "cell_type": "code",
      "metadata": {
        "id": "continent-baghdad"
      },
      "source": [
        "#Ex 1\n",
        "ans1=np.array([0,1,2,3,4,5,6,7,8,9])\n",
        "#Replace all the odd values by -1 in the array using just 1 line of code\n",
        "#ADD CODE HERE\n",
        "\n",
        "#END CODE HERE"
      ],
      "id": "continent-baghdad",
      "execution_count": null,
      "outputs": []
    },
    {
      "cell_type": "code",
      "metadata": {
        "id": "disturbed-range"
      },
      "source": [
        "#Ex 2\n",
        "ans2=np.array([0,1,2,3,4,5,6,7,8,9])\n",
        "a=np.array([7,15,63,96,5,3,26,15,2])\n",
        "#Find all the common elements in ans2 and a using just 1 function call and save it in ans2\n",
        "#ADD CODE HERE\n",
        "\n",
        "#END CODE HERE"
      ],
      "id": "disturbed-range",
      "execution_count": null,
      "outputs": []
    },
    {
      "cell_type": "code",
      "metadata": {
        "id": "familiar-gamma"
      },
      "source": [
        "#Ex 3\n",
        "ans3=np.array([1,2,3 ,2,3,4,3,4,5,6])\n",
        "a=   np.array([7,2,10,2,7,4,9,4,9,8])\n",
        "#Get only the positions where elements in ans3 and a match and save that in ans3\n",
        "#ADD CODE HERE\n",
        "\n",
        "#END CODE HERE"
      ],
      "id": "familiar-gamma",
      "execution_count": null,
      "outputs": []
    },
    {
      "cell_type": "code",
      "metadata": {
        "id": "thrown-warren"
      },
      "source": [
        "#Ex 4\n",
        "ans4=np.arange(9).reshape(3,3)\n",
        "#Swap row 0 and 1 and put it back in ans4\n",
        "#ADD CODE HERE\n",
        "\n",
        "#END CODE HERE"
      ],
      "id": "thrown-warren",
      "execution_count": null,
      "outputs": []
    },
    {
      "cell_type": "code",
      "metadata": {
        "id": "subject-aberdeen"
      },
      "source": [
        "#Run this cell to run the grader. Run this only after you have run all the 4 exercise cells\n",
        "#Doesn't Matter if they are solved or unsolved, just run them.\n",
        "error=False\n",
        "try:\n",
        "    ans1\n",
        "except NameError:\n",
        "    print(\"Run Ex 1 before running this cell\")\n",
        "    error=True\n",
        "try:\n",
        "    ans2\n",
        "except NameError:\n",
        "    print(\"Run Ex 2 before running this cell\")\n",
        "    error=True\n",
        "try:\n",
        "    ans3\n",
        "except NameError:\n",
        "    print(\"Run Ex 3 before running this cell\")\n",
        "    error=True\n",
        "try:\n",
        "    ans4\n",
        "except NameError:\n",
        "    print(\"Run Ex 4 before running this cell\")\n",
        "    error=True\n",
        "if(not error):\n",
        "    !pip install gdown\n",
        "    !gdown https://drive.google.com/uc?id=1Udl0bkzjfivdpo7gB8Ybitvb0aiK3sZ_\n",
        "    import grader_numpy_takeaway as g\n",
        "    g.grader(ans1,ans2,ans3,ans4)"
      ],
      "id": "subject-aberdeen",
      "execution_count": null,
      "outputs": []
    },
    {
      "cell_type": "markdown",
      "metadata": {
        "id": "dV9Yr48Goeid"
      },
      "source": [
        "# PANDAS\r\n",
        "### Don't change code outside of the ADD CODE HERE and END CODE HERE tags"
      ],
      "id": "dV9Yr48Goeid"
    },
    {
      "cell_type": "code",
      "metadata": {
        "id": "TEN_AeXDoeUt"
      },
      "source": [
        "import pandas as pd\r\n",
        "import numpy as np\r\n",
        "!rm -rdf *\r\n",
        "!pip install gdown\r\n",
        "!gdown https://drive.google.com/uc?id=1dfGerWeWkcyQ9GX9x20rdSGj7WtEpzBB\r\n",
        "!unzip developer_survey_2020.zip\r\n",
        "!rm developer_survey_2020.zip README_2020.txt so_survey_2020.pdf\r\n",
        "df=pd.read_csv('survey_results_public.csv',index_col=\"Respondent\")\r\n",
        "df#load in dataset"
      ],
      "id": "TEN_AeXDoeUt",
      "execution_count": null,
      "outputs": []
    },
    {
      "cell_type": "code",
      "metadata": {
        "id": "FfZP080V4SOE"
      },
      "source": [
        "#Only 1 question here\r\n",
        "#Find out the percentage of Windows, Linux and Android users that know python(No steps told. Figure it out)[Don't Consider mixed/other platforms]\r\n",
        "#Save the percentages in windows_pct,ios_pct,android_pct as integers(not dataframes)\r\n",
        "windows_pct=0\r\n",
        "ios_pct=0\r\n",
        "android_pct=0\r\n",
        "#ADD CODE HERE\r\n",
        "\r\n",
        "#END CODE HERE\r\n",
        "!pip install gdown\r\n",
        "!gdown https://drive.google.com/uc?id=1qRPBUDjh4fI1RTLxwnpJHhEc3-orkyWE\r\n",
        "import grader_pandas_takeaway as g\r\n",
        "print(\"\\n\\n\")\r\n",
        "g.grader(windows_pct,ios_pct,android_pct)"
      ],
      "id": "FfZP080V4SOE",
      "execution_count": null,
      "outputs": []
    },
    {
      "cell_type": "code",
      "metadata": {
        "id": "0gQbYsUD40No"
      },
      "source": [
        ""
      ],
      "id": "0gQbYsUD40No",
      "execution_count": null,
      "outputs": []
    }
  ]
}