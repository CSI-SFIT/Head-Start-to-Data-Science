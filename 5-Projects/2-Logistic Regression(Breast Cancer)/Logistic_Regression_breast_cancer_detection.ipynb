{
  "nbformat": 4,
  "nbformat_minor": 0,
  "metadata": {
    "colab": {
      "name": "Logistic_Regression_breast_cancer_detection.ipynb",
      "provenance": [],
      "collapsed_sections": [
        "9HBANkzIiJwY",
        "Ywrw7eTZiJwb"
      ]
    },
    "kernelspec": {
      "display_name": "Python 3",
      "language": "python",
      "name": "python3"
    },
    "language_info": {
      "codemirror_mode": {
        "name": "ipython",
        "version": 3
      },
      "file_extension": ".py",
      "mimetype": "text/x-python",
      "name": "python",
      "nbconvert_exporter": "python",
      "pygments_lexer": "ipython3",
      "version": "3.8.0"
    }
  },
  "cells": [
    {
      "cell_type": "markdown",
      "metadata": {
        "id": "fNnYnaYrivgc"
      },
      "source": [
        "**<a href=\"https://colab.research.google.com/drive/10HrpnUadW0TxOO56Xtbka8llhvdcTeJi?usp=sharing\">Collab Notebook Link</a>**"
      ]
    },
    {
      "cell_type": "code",
      "metadata": {
        "id": "FNGJr64NiLol"
      },
      "source": [
        "#downloads files for collab users\n",
        "!rm -rdf *\n",
        "!pip install gdown\n",
        "!gdown https://drive.google.com/uc?id=1LKzbV5LXv-kEZhVG5u3Fzu22gG9iU19R"
      ],
      "execution_count": null,
      "outputs": []
    },
    {
      "cell_type": "code",
      "metadata": {
        "id": "9VXNg5n3iJwO"
      },
      "source": [
        "#importing the libraries\n",
        "import numpy as np\n",
        "import matplotlib.pyplot as plt\n",
        "import pandas as pd\n",
        "import seaborn as sns\n"
      ],
      "execution_count": null,
      "outputs": []
    },
    {
      "cell_type": "markdown",
      "metadata": {
        "id": "OvmgksXpiJwR"
      },
      "source": [
        "## The Dataset\n",
        "\n",
        "Features are computed from a digitized image of a fine needle aspirate (FNA) of a breast mass. They describe characteristics of the cell nuclei present in the image.\n",
        "n the 3-dimensional space is that described in: [K. P. Bennett and O. L. Mangasarian: \"Robust Linear Programming Discrimination of Two Linearly Inseparable Sets\", Optimization Methods and Software 1, 1992, 23-34].\n",
        "\n",
        "This database is also available through the UW CS ftp server:\n",
        "ftp ftp.cs.wisc.edu\n",
        "cd math-prog/cpo-dataset/machine-learn/WDBC/\n",
        "\n",
        "Also can be found on UCI Machine Learning Repository: https://archive.ics.uci.edu/ml/datasets/Breast+Cancer+Wisconsin+%28Diagnostic%29\n",
        "\n",
        "Attribute Information:\n",
        "\n",
        "1) ID number\n",
        "\n",
        "2) Diagnosis (M = malignant, B = benign)\n",
        "\n",
        "\n",
        "Ten real-valued features are computed for each cell nucleus:\n",
        "\n",
        "a) radius (mean of distances from center to points on the perimeter)\n",
        "\n",
        "b) texture (standard deviation of gray-scale values)\n",
        "\n",
        "c) perimeter\n",
        "\n",
        "d) area\n",
        "\n",
        "e) smoothness (local variation in radius lengths)\n",
        "\n",
        "f) compactness (perimeter^2 / area - 1.0)\n",
        "\n",
        "g) concavity (severity of concave portions of the contour)\n",
        "\n",
        "h) concave points (number of concave portions of the contour)\n",
        "\n",
        "i) symmetry\n",
        "\n",
        "j) fractal dimension (\"coastline approximation\" - 1)\n",
        "\n",
        "The mean, standard error and \"worst\" or largest (mean of the three\n",
        "largest values) of these features were computed for each image,\n",
        "resulting in 30 features. For instance, field 3 is Mean Radius, field\n",
        "13 is Radius SE, field 23 is Worst Radius.\n",
        "\n",
        "All feature values are recoded with four significant digits.\n",
        "\n",
        "Missing attribute values: none\n",
        "\n",
        "Class distribution: 357 benign, 212 malignant"
      ]
    },
    {
      "cell_type": "code",
      "metadata": {
        "id": "cRQRtsEdiJwS"
      },
      "source": [
        "#read the dataset from the desired directory\n",
        "df = pd.read_csv('data.csv')"
      ],
      "execution_count": null,
      "outputs": []
    },
    {
      "cell_type": "code",
      "metadata": {
        "id": "Wd4rwlGdiJwS"
      },
      "source": [
        "\n",
        "\n",
        "#The problem with this dataset is it has lots of columns and hence some get hidden."
      ],
      "execution_count": null,
      "outputs": []
    },
    {
      "cell_type": "code",
      "metadata": {
        "id": "is48H-6QiJwU"
      },
      "source": [
        ""
      ],
      "execution_count": null,
      "outputs": []
    },
    {
      "cell_type": "code",
      "metadata": {
        "id": "cli2CjNbiJwU"
      },
      "source": [
        "#see all the columns\n"
      ],
      "execution_count": null,
      "outputs": []
    },
    {
      "cell_type": "code",
      "metadata": {
        "id": "fU54ZJ-2iJwU"
      },
      "source": [
        "df.head()"
      ],
      "execution_count": null,
      "outputs": []
    },
    {
      "cell_type": "code",
      "metadata": {
        "id": "cDmciE1ZiJwV"
      },
      "source": [
        ""
      ],
      "execution_count": null,
      "outputs": []
    },
    {
      "cell_type": "code",
      "metadata": {
        "id": "GShwI4tmiJwV"
      },
      "source": [
        ""
      ],
      "execution_count": null,
      "outputs": []
    },
    {
      "cell_type": "code",
      "metadata": {
        "id": "_OfIGJ8hiJwW"
      },
      "source": [
        ""
      ],
      "execution_count": null,
      "outputs": []
    },
    {
      "cell_type": "code",
      "metadata": {
        "id": "4BQEwGrQiJwW"
      },
      "source": [
        ""
      ],
      "execution_count": null,
      "outputs": []
    },
    {
      "cell_type": "code",
      "metadata": {
        "id": "i0c7Y2u1iJwW"
      },
      "source": [
        ""
      ],
      "execution_count": null,
      "outputs": []
    },
    {
      "cell_type": "markdown",
      "metadata": {
        "id": "I_VTp5M1iJwX"
      },
      "source": [
        "### Drop unnecessary columns that won't contribute to the Machine learning model"
      ]
    },
    {
      "cell_type": "code",
      "metadata": {
        "id": "ySrXSCMDiJwX"
      },
      "source": [
        "#drop the columns that are not required\n"
      ],
      "execution_count": null,
      "outputs": []
    },
    {
      "cell_type": "code",
      "metadata": {
        "id": "SlkjSNeniJwX"
      },
      "source": [
        ""
      ],
      "execution_count": null,
      "outputs": []
    },
    {
      "cell_type": "code",
      "metadata": {
        "id": "fsAcEb2yiJwY"
      },
      "source": [
        ""
      ],
      "execution_count": null,
      "outputs": []
    },
    {
      "cell_type": "code",
      "metadata": {
        "id": "Bq6zmigBiJwY"
      },
      "source": [
        "# generate a scatter plot matrix with the \"mean\" columns\n",
        "cols = ['diagnosis',\n",
        "        'radius_mean', \n",
        "        'texture_mean', \n",
        "        'perimeter_mean', \n",
        "        'area_mean', \n",
        "        'smoothness_mean', \n",
        "        'compactness_mean', \n",
        "        'concavity_mean',\n",
        "        'concave points_mean', \n",
        "        'symmetry_mean', \n",
        "        'fractal_dimension_mean']\n",
        "\n",
        "#sns.pairplot(data=df[cols])\n",
        "# sns.pairplot(data=df[cols], hue='diagnosis', palette='RdBu')"
      ],
      "execution_count": null,
      "outputs": []
    },
    {
      "cell_type": "markdown",
      "metadata": {
        "id": "9HBANkzIiJwY"
      },
      "source": [
        "### Indexing"
      ]
    },
    {
      "cell_type": "code",
      "metadata": {
        "id": "_0N_uEl6iJwZ"
      },
      "source": [
        "#df.iloc[1:8]\n",
        "\n",
        "#df.iloc[:, 1:8]"
      ],
      "execution_count": null,
      "outputs": []
    },
    {
      "cell_type": "markdown",
      "metadata": {
        "id": "iX4bR7bRiJwZ"
      },
      "source": [
        "## Data Visualization"
      ]
    },
    {
      "cell_type": "code",
      "metadata": {
        "id": "jo46ROOZiJwZ"
      },
      "source": [
        "#Get a count of malignant and benign patients\n",
        "\n",
        "#sns.countplot(x=\"diagnosis\",data=df)"
      ],
      "execution_count": null,
      "outputs": []
    },
    {
      "cell_type": "code",
      "metadata": {
        "id": "ua1Z2NR7iJwa"
      },
      "source": [
        "#heatmap\n",
        "\n",
        "#plt.figure(figsize=(15, 8))\n"
      ],
      "execution_count": null,
      "outputs": []
    },
    {
      "cell_type": "code",
      "metadata": {
        "id": "J3bLHQdwiJwa"
      },
      "source": [
        ""
      ],
      "execution_count": null,
      "outputs": []
    },
    {
      "cell_type": "markdown",
      "metadata": {
        "id": "m3GcwLo-dqTc"
      },
      "source": [
        "### Seperate into features and Labels"
      ]
    },
    {
      "cell_type": "code",
      "metadata": {
        "id": "ZuGEVYD6iJwa"
      },
      "source": [
        ""
      ],
      "execution_count": null,
      "outputs": []
    },
    {
      "cell_type": "code",
      "metadata": {
        "id": "XqhCO7tMiJwa"
      },
      "source": [
        ""
      ],
      "execution_count": null,
      "outputs": []
    },
    {
      "cell_type": "code",
      "metadata": {
        "id": "TWWt4CIOiJwb"
      },
      "source": [
        "from sklearn.preprocessing import LabelEncoder\n",
        "\n",
        "\n",
        "#label_encoder = LabelEncoder()\n",
        "#integer_encoded = label_encoder.fit_transform()\n",
        "#print(integer_encoded)\n"
      ],
      "execution_count": null,
      "outputs": []
    },
    {
      "cell_type": "markdown",
      "metadata": {
        "id": "Ywrw7eTZiJwb"
      },
      "source": [
        "### Logistic regression model"
      ]
    },
    {
      "cell_type": "code",
      "metadata": {
        "id": "bT1fFN3SiJwb"
      },
      "source": [
        "#import\n",
        "from sklearn.model_selection import train_test_split\n",
        "from sklearn.linear_model import LogisticRegression"
      ],
      "execution_count": null,
      "outputs": []
    },
    {
      "cell_type": "code",
      "metadata": {
        "id": "R9UE76pqiJwc"
      },
      "source": [
        "#split the dataset\n",
        "#X_train, X_test, y_train, y_test = train_test_split()"
      ],
      "execution_count": null,
      "outputs": []
    },
    {
      "cell_type": "code",
      "metadata": {
        "id": "tZdHXxO7iJwc"
      },
      "source": [
        ""
      ],
      "execution_count": null,
      "outputs": []
    },
    {
      "cell_type": "code",
      "metadata": {
        "id": "H7n1HAlPiJwc"
      },
      "source": [
        "#predicting on test feature\n"
      ],
      "execution_count": null,
      "outputs": []
    },
    {
      "cell_type": "code",
      "metadata": {
        "id": "_iJKF8hRiJwd"
      },
      "source": [
        ""
      ],
      "execution_count": null,
      "outputs": []
    },
    {
      "cell_type": "markdown",
      "metadata": {
        "id": "PIKKrt2XiJwd"
      },
      "source": [
        "## Testing how well our model did on unseen data"
      ]
    },
    {
      "cell_type": "code",
      "metadata": {
        "id": "tnIHKGm6iJwd"
      },
      "source": [
        "#We will use two metrics for testing\n",
        "from sklearn.metrics import confusion_matrix, classification_report"
      ],
      "execution_count": null,
      "outputs": []
    },
    {
      "cell_type": "code",
      "metadata": {
        "id": "WVPhOHOtiJwd"
      },
      "source": [
        "#Confusion metrics"
      ],
      "execution_count": null,
      "outputs": []
    },
    {
      "cell_type": "code",
      "metadata": {
        "id": "DkUV8iHRiJwe"
      },
      "source": [
        "#classification report"
      ],
      "execution_count": null,
      "outputs": []
    },
    {
      "cell_type": "code",
      "metadata": {
        "id": "Oqy-yeA0iJwe"
      },
      "source": [
        ""
      ],
      "execution_count": null,
      "outputs": []
    },
    {
      "cell_type": "code",
      "metadata": {
        "id": "U2BAAogoiJwe"
      },
      "source": [
        ""
      ],
      "execution_count": null,
      "outputs": []
    },
    {
      "cell_type": "code",
      "metadata": {
        "id": "_Lizc4n0iJwe"
      },
      "source": [
        ""
      ],
      "execution_count": null,
      "outputs": []
    },
    {
      "cell_type": "code",
      "metadata": {
        "id": "9tZqHG9WiJwe"
      },
      "source": [
        ""
      ],
      "execution_count": null,
      "outputs": []
    },
    {
      "cell_type": "code",
      "metadata": {
        "id": "O-2T6pDjiJwf"
      },
      "source": [
        ""
      ],
      "execution_count": null,
      "outputs": []
    },
    {
      "cell_type": "code",
      "metadata": {
        "id": "8ChO7SnLiJwf"
      },
      "source": [
        ""
      ],
      "execution_count": null,
      "outputs": []
    },
    {
      "cell_type": "code",
      "metadata": {
        "id": "R_SsOiUwiJwf"
      },
      "source": [
        ""
      ],
      "execution_count": null,
      "outputs": []
    }
  ]
}