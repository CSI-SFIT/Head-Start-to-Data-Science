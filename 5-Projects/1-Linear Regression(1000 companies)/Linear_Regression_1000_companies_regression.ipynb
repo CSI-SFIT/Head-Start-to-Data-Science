{
  "nbformat": 4,
  "nbformat_minor": 0,
  "metadata": {
    "colab": {
      "name": "Linear_Regression_1000_companies_regression.ipynb",
      "provenance": [],
      "collapsed_sections": [
        "atzDhsXHw7ak",
        "1Z5ap80i4BvV"
      ]
    },
    "kernelspec": {
      "display_name": "Python 3",
      "language": "python",
      "name": "python3"
    },
    "language_info": {
      "codemirror_mode": {
        "name": "ipython",
        "version": 3
      },
      "file_extension": ".py",
      "mimetype": "text/x-python",
      "name": "python",
      "nbconvert_exporter": "python",
      "pygments_lexer": "ipython3",
      "version": "3.8.0"
    }
  },
  "cells": [
    {
      "cell_type": "markdown",
      "metadata": {
        "id": "-XovXmVdw7aC"
      },
      "source": [
        "# Regression model of 1000 companies"
      ]
    },
    {
      "cell_type": "markdown",
      "metadata": {
        "id": "BYTubV2Uw7aT"
      },
      "source": [
        "**<a href=\"https://colab.research.google.com/drive/1U-YrmtfbB3ZcdxuQBnyhxGoTtGD7Wvzc?usp=sharing\">Collab Notebook Link</a>**\n",
        "\n",
        "The dependent features are:\n",
        "\n",
        "1) R&D Spend (X1)\n",
        "\n",
        "2) Administration (X2)\n",
        "\n",
        "3) Marketing Spend (X3)\n",
        "\n",
        "The independent feature is:\n",
        "\n",
        "1) Profit (Y)\n",
        "\n",
        "Objective:\n",
        "\n",
        "To predict the profit of the company.\n"
      ]
    },
    {
      "cell_type": "code",
      "metadata": {
        "id": "3JbUDvCcgN6Q"
      },
      "source": [
        "#downloads files, for collab users\n",
        "!rm -rdf *\n",
        "!pip install gdown\n",
        "!gdown https://drive.google.com/uc?id=1fDHzphHijNnZNnwa3F3hEY90mB00sNGy"
      ],
      "execution_count": null,
      "outputs": []
    },
    {
      "cell_type": "code",
      "metadata": {
        "id": "EinMqOEcw7aV"
      },
      "source": [
        "#importing the libraries\n",
        "import pandas as pd\n",
        "import numpy as np\n",
        "import matplotlib.pyplot as plt\n",
        "import seaborn as sns\n",
        "\n",
        "%matplotlib inline"
      ],
      "execution_count": null,
      "outputs": []
    },
    {
      "cell_type": "code",
      "metadata": {
        "id": "ejRryc9hw7aW"
      },
      "source": [
        "#reading the csv file\n",
        "df=pd.read_csv(\"1000_Companies.csv\")"
      ],
      "execution_count": null,
      "outputs": []
    },
    {
      "cell_type": "code",
      "metadata": {
        "id": "PZjKVXYkw7aa"
      },
      "source": [
        "#printing the first 8 rows of the dataframe\n",
        "#print ending rows\n",
        "#print 8 to 25 rows"
      ],
      "execution_count": null,
      "outputs": []
    },
    {
      "cell_type": "code",
      "metadata": {
        "id": "aeq_nKflMrqW"
      },
      "source": [
        "#datatypes of columns\n"
      ],
      "execution_count": null,
      "outputs": []
    },
    {
      "cell_type": "code",
      "metadata": {
        "colab": {
          "base_uri": "https://localhost:8080/"
        },
        "id": "G4jzyxz7w7ab",
        "outputId": "50eee947-3080-4113-9aef-bd1808f2a646"
      },
      "source": [
        "#finding the no. of rows and columns\n",
        "\n",
        "\n",
        "#df.size"
      ],
      "execution_count": null,
      "outputs": [
        {
          "output_type": "execute_result",
          "data": {
            "text/plain": [
              "(1000, 5)"
            ]
          },
          "metadata": {
            "tags": []
          },
          "execution_count": 8
        }
      ]
    },
    {
      "cell_type": "code",
      "metadata": {
        "id": "yVYa6P8sw7ac"
      },
      "source": [
        "#finding the statistical overview of all features like mean, max, min,etc\n"
      ],
      "execution_count": null,
      "outputs": []
    },
    {
      "cell_type": "code",
      "metadata": {
        "id": "PDVtiUQxw7ae"
      },
      "source": [
        "#finding the information of the dataframe\n"
      ],
      "execution_count": null,
      "outputs": []
    },
    {
      "cell_type": "code",
      "metadata": {
        "id": "M16lC5aYw7af"
      },
      "source": [
        "#finding the names of columns\n"
      ],
      "execution_count": null,
      "outputs": []
    },
    {
      "cell_type": "code",
      "metadata": {
        "id": "ZZVF7aCAw7ah"
      },
      "source": [
        "# Checking if dataset in Empty\n"
      ],
      "execution_count": null,
      "outputs": []
    },
    {
      "cell_type": "code",
      "metadata": {
        "id": "sMzbaDRA0UWN"
      },
      "source": [
        "# Pairplot with seaborn\n"
      ],
      "execution_count": null,
      "outputs": []
    },
    {
      "cell_type": "markdown",
      "metadata": {
        "id": "atzDhsXHw7ak"
      },
      "source": [
        "### Heatmap allows us to find how closely different features are related to each other\n",
        "\n"
      ]
    },
    {
      "cell_type": "code",
      "metadata": {
        "id": "MvcyYkRew7am"
      },
      "source": [
        "#finding the correlation among the features with seaborn heatmap\n"
      ],
      "execution_count": null,
      "outputs": []
    },
    {
      "cell_type": "code",
      "metadata": {
        "id": "8SIFamkLddpB"
      },
      "source": [
        ""
      ],
      "execution_count": null,
      "outputs": []
    },
    {
      "cell_type": "code",
      "metadata": {
        "id": "fJD-edefddpB"
      },
      "source": [
        "# the state column has categorical values in object datatype\n"
      ],
      "execution_count": null,
      "outputs": []
    },
    {
      "cell_type": "code",
      "metadata": {
        "id": "P4CyLg3jQK8r"
      },
      "source": [
        "#Convert Categorical column of state which is in words to numbers\n",
        "\n",
        "from sklearn.preprocessing import LabelEncoder\n",
        "encoder = LabelEncoder()\n",
        "df[\"State\"] = encoder.fit_transform(df[\"State\"])\n"
      ],
      "execution_count": null,
      "outputs": []
    },
    {
      "cell_type": "code",
      "metadata": {
        "id": "N7jUms84QVKT",
        "outputId": "5af93494-a32f-46be-bc28-3dbaaba4f51f"
      },
      "source": [
        "\n",
        "\"\"\"\n",
        "\n",
        "def func(i):\n",
        "   if i == 'California':\n",
        "     return  0\n",
        "   elif i == 'New York':\n",
        "     return  1\n",
        "   else:\n",
        "     return  2\n",
        "   \n",
        "  \n",
        "     \n",
        "df['State'] = df['State'].apply(func) \n",
        "\n",
        "\"\"\"\n",
        "\n",
        " \n",
        "\n",
        "\n"
      ],
      "execution_count": null,
      "outputs": [
        {
          "output_type": "execute_result",
          "data": {
            "text/plain": [
              "\"\\n\\ndef func(i):\\n   if i == 'California':\\n     return  0\\n   elif i == 'New York':\\n     return  1\\n   else:\\n     return  2\\n   \\n  \\n     \\ndf['State'] = df['State'].apply(func) \\n\\n\""
            ]
          },
          "metadata": {
            "tags": []
          },
          "execution_count": 1
        }
      ]
    },
    {
      "cell_type": "markdown",
      "metadata": {
        "id": "7k6AWv8dddpC"
      },
      "source": [
        "### Imp step: Seperating data into features and labels"
      ]
    },
    {
      "cell_type": "code",
      "metadata": {
        "id": "VrJJyfcRw7an"
      },
      "source": [
        "#features \n"
      ],
      "execution_count": null,
      "outputs": []
    },
    {
      "cell_type": "code",
      "metadata": {
        "id": "C47cN9HLw7ao"
      },
      "source": [
        "#labels\n"
      ],
      "execution_count": null,
      "outputs": []
    },
    {
      "cell_type": "code",
      "metadata": {
        "id": "JIF1535Fw7ap"
      },
      "source": [
        "#features head\n",
        "#labels head"
      ],
      "execution_count": null,
      "outputs": []
    },
    {
      "cell_type": "markdown",
      "metadata": {
        "id": "sH1bHQBCw7aq"
      },
      "source": [
        "## Split features and labels into training data and test data"
      ]
    },
    {
      "cell_type": "code",
      "metadata": {
        "id": "Meu_XzUxw7ar"
      },
      "source": [
        "# 0.3 means splitting data into 70 and 30.\n",
        "from sklearn.model_selection import train_test_split\n",
        "\n",
        "#x_train,x_test,y_train,y_test=train_test_split(x,y,test_size= ,random_state= )"
      ],
      "execution_count": null,
      "outputs": []
    },
    {
      "cell_type": "code",
      "metadata": {
        "id": "Hry74oFHw7ar"
      },
      "source": [
        "x_train.shape\n",
        "x_test.shape"
      ],
      "execution_count": null,
      "outputs": []
    },
    {
      "cell_type": "code",
      "metadata": {
        "colab": {
          "base_uri": "https://localhost:8080/"
        },
        "id": "EBqfR5Imw7as",
        "outputId": "bd95823c-60b9-4203-85f5-8845ac1f4a4e"
      },
      "source": [
        "y_train.shape\n",
        "y_test.shape"
      ],
      "execution_count": null,
      "outputs": [
        {
          "output_type": "execute_result",
          "data": {
            "text/plain": [
              "(300,)"
            ]
          },
          "metadata": {
            "tags": []
          },
          "execution_count": 22
        }
      ]
    },
    {
      "cell_type": "markdown",
      "metadata": {
        "id": "kEVNjtZVw7as"
      },
      "source": [
        "# Training the model"
      ]
    },
    {
      "cell_type": "code",
      "metadata": {
        "id": "2FE0Ntllw7as"
      },
      "source": [
        "#import thelinear regression  algorithm\n",
        "from sklearn.linear_model import LinearRegression\n"
      ],
      "execution_count": null,
      "outputs": []
    },
    {
      "cell_type": "code",
      "metadata": {
        "id": "kxnE_sxT3Qhr"
      },
      "source": [
        "#call the linear regression function\n"
      ],
      "execution_count": null,
      "outputs": []
    },
    {
      "cell_type": "code",
      "metadata": {
        "id": "kKc_2vrPw7at"
      },
      "source": [
        "#train the model\n"
      ],
      "execution_count": null,
      "outputs": []
    },
    {
      "cell_type": "code",
      "metadata": {
        "id": "TF6lyXxkw7at"
      },
      "source": [
        "#predict the test data\n"
      ],
      "execution_count": null,
      "outputs": []
    },
    {
      "cell_type": "code",
      "metadata": {
        "id": "OWj4RGPSw7au"
      },
      "source": [
        "#values of y_pred\n",
        "#length of y_pred\n"
      ],
      "execution_count": null,
      "outputs": []
    },
    {
      "cell_type": "code",
      "metadata": {
        "id": "at-0Pb3Iw7au"
      },
      "source": [
        ""
      ],
      "execution_count": null,
      "outputs": []
    },
    {
      "cell_type": "code",
      "metadata": {
        "id": "YzpTgXrxw7av"
      },
      "source": [
        "#our own data points\n"
      ],
      "execution_count": null,
      "outputs": []
    },
    {
      "cell_type": "markdown",
      "metadata": {
        "id": "1Z5ap80i4BvV"
      },
      "source": [
        "### for one feature y= mx+c\n",
        "### printing the coefficients of y=m+ c1x1+ c2x2 + c3x3"
      ]
    },
    {
      "cell_type": "code",
      "metadata": {
        "id": "3edgN4iIw7aw"
      },
      "source": [
        "#coefficient\n",
        "#"
      ],
      "execution_count": null,
      "outputs": []
    },
    {
      "cell_type": "markdown",
      "metadata": {
        "id": "S0MihwEGw7ax"
      },
      "source": [
        "# Checking accuracy of the model"
      ]
    },
    {
      "cell_type": "code",
      "metadata": {
        "id": "L733vbJsw7ay"
      },
      "source": [
        "#Metrics we will use for accuracy prediction\n",
        "\n",
        "from sklearn.metrics import mean_squared_error, r2_score\n"
      ],
      "execution_count": null,
      "outputs": []
    },
    {
      "cell_type": "code",
      "metadata": {
        "id": "NA7f3K1gw7ay"
      },
      "source": [
        "#mean_squared_error()\n"
      ],
      "execution_count": null,
      "outputs": []
    },
    {
      "cell_type": "code",
      "metadata": {
        "id": "eb43DkqJ8dOw"
      },
      "source": [
        "#r2_score()"
      ],
      "execution_count": null,
      "outputs": []
    },
    {
      "cell_type": "code",
      "metadata": {
        "id": "zWJUqvBYddpF"
      },
      "source": [
        ""
      ],
      "execution_count": null,
      "outputs": []
    },
    {
      "cell_type": "code",
      "metadata": {
        "id": "Qta8x-VNddpF"
      },
      "source": [
        ""
      ],
      "execution_count": null,
      "outputs": []
    },
    {
      "cell_type": "code",
      "metadata": {
        "id": "D96CNaPhddpF"
      },
      "source": [
        ""
      ],
      "execution_count": null,
      "outputs": []
    }
  ]
}