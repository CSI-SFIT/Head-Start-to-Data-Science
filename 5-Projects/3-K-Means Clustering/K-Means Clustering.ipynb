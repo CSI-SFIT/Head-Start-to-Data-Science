{
  "nbformat": 4,
  "nbformat_minor": 0,
  "metadata": {
    "colab": {
      "name": "K-Means Clustering.ipynb",
      "provenance": [],
      "collapsed_sections": []
    },
    "kernelspec": {
      "display_name": "Python 3",
      "language": "python",
      "name": "python3"
    },
    "language_info": {
      "codemirror_mode": {
        "name": "ipython",
        "version": 3
      },
      "file_extension": ".py",
      "mimetype": "text/x-python",
      "name": "python",
      "nbconvert_exporter": "python",
      "pygments_lexer": "ipython3",
      "version": "3.8.0"
    }
  },
  "cells": [
    {
      "cell_type": "markdown",
      "metadata": {
        "id": "xmxgXjhRjlw0"
      },
      "source": [
        "# K Means Clustering\n",
        "**<a href=\"https://colab.research.google.com/drive/1MdchVxF6zN4ppghPvM5TG6ORKpIFaTjy?usp=sharing\">Collab Notebook Link</a>**\n",
        "\n",
        "We will use KMeans Clustering to cluster Universities into to two groups, Private and Public.\n",
        "\n",
        "___\n",
        "It is **very important to note, we actually have the labels for this data set, but we will NOT use them for the KMeans clustering algorithm, since that is an unsupervised learning algorithm.** \n",
        "\n",
        "When using the Kmeans algorithm under normal circumstances, it is because you don't have labels. In this case we will use the labels to try to get an idea of how well the algorithm performed, but you won't usually do this for Kmeans, so the classification report and confusion matrix at the end of this project, don't truly make sense in a real world setting!.\n",
        "___\n",
        "\n",
        "## The Data\n",
        "\n",
        "We will use a data frame with 777 observations on the following 18 variables.\n",
        "* Private - A factor with levels No and Yes indicating private or public university\n",
        "* Apps - Number of applications received\n",
        "* Accept - Number of applications accepted\n",
        "* Enroll - Number of new students enrolled\n",
        "* Top10perc - Pct. new students from top 10% of H.S. class\n",
        "* Top25perc - Pct. new students from top 25% of H.S. class\n",
        "* F.Undergrad - Number of fulltime undergraduates\n",
        "* P.Undergrad - Number of parttime undergraduates\n",
        "* Outstate - Out-of-state tuition\n",
        "* Room.Board - Room and board costs\n",
        "* Books - Estimated book costs\n",
        "* Personal - Estimated personal spending\n",
        "* PhD - Pct. of faculty with Ph.D.’s\n",
        "* Terminal - Pct. of faculty with terminal degree\n",
        "* S.F.Ratio - Student/faculty ratio\n",
        "* perc.alumni - Pct. alumni who donate\n",
        "* Expend - Instructional expenditure per student\n",
        "* Grad.Rate - Graduation rate"
      ]
    },
    {
      "cell_type": "markdown",
      "metadata": {
        "id": "QgUHxdEHjlw1"
      },
      "source": [
        "## Import Libraries\n",
        "\n",
        "** Import the libraries you usually use for data analysis.**"
      ]
    },
    {
      "cell_type": "code",
      "metadata": {
        "id": "q2Djj3NLjnpU"
      },
      "source": [
        "#downloads files for collab users\n",
        "!rm -rdf *\n",
        "!pip install gdown\n",
        "!gdown https://drive.google.com/uc?id=1j4hol4PCiaT5q5pKs3Ov1pLhrhza1LE1"
      ],
      "execution_count": null,
      "outputs": []
    },
    {
      "cell_type": "code",
      "metadata": {
        "id": "uSdymQ9Bjlw2"
      },
      "source": [
        "import pandas as pd\n",
        "import numpy as np\n",
        "import matplotlib.pyplot as plt\n",
        "import seaborn as sns\n",
        "\n",
        "%matplotlib inline"
      ],
      "execution_count": null,
      "outputs": []
    },
    {
      "cell_type": "markdown",
      "metadata": {
        "id": "HYViX9O2jlw2"
      },
      "source": [
        "## Get the Data"
      ]
    },
    {
      "cell_type": "markdown",
      "metadata": {
        "id": "NOgsVPROjlw2"
      },
      "source": [
        "** Read in the College_Data file using read_csv. Figure out how to set the first column as the index.**"
      ]
    },
    {
      "cell_type": "code",
      "metadata": {
        "id": "hNpDjdyyjlw3"
      },
      "source": [
        "df = pd.read_csv('College_Data', index_col=0)"
      ],
      "execution_count": null,
      "outputs": []
    },
    {
      "cell_type": "markdown",
      "metadata": {
        "id": "QVb2150pjlw3"
      },
      "source": [
        "**Check the head of the data**"
      ]
    },
    {
      "cell_type": "code",
      "metadata": {
        "id": "2ojuI7Tdjlw3"
      },
      "source": [
        "#head\n"
      ],
      "execution_count": null,
      "outputs": []
    },
    {
      "cell_type": "code",
      "metadata": {
        "id": "j0PW_uYyjlw4"
      },
      "source": [
        "#shape"
      ],
      "execution_count": null,
      "outputs": []
    },
    {
      "cell_type": "code",
      "metadata": {
        "id": "ZtO1zZ5Yjlw4"
      },
      "source": [
        ""
      ],
      "execution_count": null,
      "outputs": []
    },
    {
      "cell_type": "code",
      "metadata": {
        "id": "LzcZO2lcjlw4"
      },
      "source": [
        ""
      ],
      "execution_count": null,
      "outputs": []
    },
    {
      "cell_type": "markdown",
      "metadata": {
        "id": "XkkWSIsEjlw5"
      },
      "source": [
        " ### describe() method to get a statistical overview of data."
      ]
    },
    {
      "cell_type": "code",
      "metadata": {
        "id": "XSLNAHrEjlw5"
      },
      "source": [
        ""
      ],
      "execution_count": null,
      "outputs": []
    },
    {
      "cell_type": "code",
      "metadata": {
        "id": "LJMJGWpFjlw5"
      },
      "source": [
        "#heatmap\n"
      ],
      "execution_count": null,
      "outputs": []
    },
    {
      "cell_type": "markdown",
      "metadata": {
        "id": "WFMRdh80jlw5"
      },
      "source": [
        "."
      ]
    },
    {
      "cell_type": "code",
      "metadata": {
        "id": "cKPd8K85jlw6"
      },
      "source": [
        "#sns.scatterplot('Room.Board', 'Grad.Rate', data=df, hue='Private')"
      ],
      "execution_count": null,
      "outputs": []
    },
    {
      "cell_type": "markdown",
      "metadata": {
        "id": "0mJFZd2fjlw6"
      },
      "source": [
        "### Private colleges have higher Outstate tuitions than public colleges"
      ]
    },
    {
      "cell_type": "code",
      "metadata": {
        "id": "N7OCwoxDjlw6"
      },
      "source": [
        "#sns.scatterplot('Outstate', 'F.Undergrad', data=df, hue='Private')"
      ],
      "execution_count": null,
      "outputs": []
    },
    {
      "cell_type": "markdown",
      "metadata": {
        "id": "3bMtdO4Vd49g"
      },
      "source": [
        "### Observations"
      ]
    },
    {
      "cell_type": "markdown",
      "metadata": {
        "id": "c5uwSbqkd49g"
      },
      "source": [
        "."
      ]
    },
    {
      "cell_type": "markdown",
      "metadata": {
        "id": "_vmsqls9d49g"
      },
      "source": [
        "### Fixing errors in our dataset"
      ]
    },
    {
      "cell_type": "code",
      "metadata": {
        "id": "N0RceLKdjlw6"
      },
      "source": [
        "#df['Grad.Rate'].max()"
      ],
      "execution_count": null,
      "outputs": []
    },
    {
      "cell_type": "markdown",
      "metadata": {
        "id": "GFOckc6ojlw7"
      },
      "source": [
        "### Notice how there seems to be a private school with a graduation rate of higher than 100%.What is the name of that school?"
      ]
    },
    {
      "cell_type": "code",
      "metadata": {
        "id": "1S12pwHdjlw7"
      },
      "source": [
        ""
      ],
      "execution_count": null,
      "outputs": []
    },
    {
      "cell_type": "markdown",
      "metadata": {
        "id": "A4bItEIHjlw7"
      },
      "source": [
        "** Set that school's graduation rate to 100 so it makes sense. You may get a warning not an error) when doing this operation, so use dataframe operations or just re-do the histogram visualization to make sure it actually went through.**"
      ]
    },
    {
      "cell_type": "code",
      "metadata": {
        "id": "4m_IMLbejlw7",
        "outputId": "d9389c7f-3ac0-442d-c169-b9a7550725dd"
      },
      "source": [
        ""
      ],
      "execution_count": null,
      "outputs": [
        {
          "output_type": "stream",
          "text": [
            "<ipython-input-14-bc95ac68ab2d>:1: SettingWithCopyWarning: \n",
            "A value is trying to be set on a copy of a slice from a DataFrame\n",
            "\n",
            "See the caveats in the documentation: https://pandas.pydata.org/pandas-docs/stable/user_guide/indexing.html#returning-a-view-versus-a-copy\n",
            "  df['Grad.Rate']['Cazenovia College'] = 100\n"
          ],
          "name": "stderr"
        }
      ]
    },
    {
      "cell_type": "code",
      "metadata": {
        "id": "6wgVELpujlw7",
        "outputId": "088dd55e-4fa8-4e9f-b616-d4f87300517d"
      },
      "source": [
        ""
      ],
      "execution_count": null,
      "outputs": [
        {
          "output_type": "execute_result",
          "data": {
            "text/html": [
              "<div>\n",
              "<style scoped>\n",
              "    .dataframe tbody tr th:only-of-type {\n",
              "        vertical-align: middle;\n",
              "    }\n",
              "\n",
              "    .dataframe tbody tr th {\n",
              "        vertical-align: top;\n",
              "    }\n",
              "\n",
              "    .dataframe thead th {\n",
              "        text-align: right;\n",
              "    }\n",
              "</style>\n",
              "<table border=\"1\" class=\"dataframe\">\n",
              "  <thead>\n",
              "    <tr style=\"text-align: right;\">\n",
              "      <th></th>\n",
              "      <th>Private</th>\n",
              "      <th>Apps</th>\n",
              "      <th>Accept</th>\n",
              "      <th>Enroll</th>\n",
              "      <th>Top10perc</th>\n",
              "      <th>Top25perc</th>\n",
              "      <th>F.Undergrad</th>\n",
              "      <th>P.Undergrad</th>\n",
              "      <th>Outstate</th>\n",
              "      <th>Room.Board</th>\n",
              "      <th>Books</th>\n",
              "      <th>Personal</th>\n",
              "      <th>PhD</th>\n",
              "      <th>Terminal</th>\n",
              "      <th>S.F.Ratio</th>\n",
              "      <th>perc.alumni</th>\n",
              "      <th>Expend</th>\n",
              "      <th>Grad.Rate</th>\n",
              "    </tr>\n",
              "  </thead>\n",
              "  <tbody>\n",
              "  </tbody>\n",
              "</table>\n",
              "</div>"
            ],
            "text/plain": [
              "Empty DataFrame\n",
              "Columns: [Private, Apps, Accept, Enroll, Top10perc, Top25perc, F.Undergrad, P.Undergrad, Outstate, Room.Board, Books, Personal, PhD, Terminal, S.F.Ratio, perc.alumni, Expend, Grad.Rate]\n",
              "Index: []"
            ]
          },
          "metadata": {
            "tags": []
          },
          "execution_count": 15
        }
      ]
    },
    {
      "cell_type": "code",
      "metadata": {
        "id": "QOyFp232jlw8"
      },
      "source": [
        "#df[df['PhD']>100]"
      ],
      "execution_count": null,
      "outputs": []
    },
    {
      "cell_type": "code",
      "metadata": {
        "id": "6mcbFwXojlw8"
      },
      "source": [
        "\n",
        "\n"
      ],
      "execution_count": null,
      "outputs": []
    },
    {
      "cell_type": "markdown",
      "metadata": {
        "id": "XA4O77Otd49i"
      },
      "source": [
        "### Another way to tackle the above kind of errors is to drop the entire row which has the error\n"
      ]
    },
    {
      "cell_type": "code",
      "metadata": {
        "id": "44ZYBcosjlw8",
        "outputId": "0b8aff8c-a255-4b1f-9132-bb6f4b03cc3a"
      },
      "source": [
        "df[df['PhD']>100]"
      ],
      "execution_count": null,
      "outputs": [
        {
          "output_type": "execute_result",
          "data": {
            "text/html": [
              "<div>\n",
              "<style scoped>\n",
              "    .dataframe tbody tr th:only-of-type {\n",
              "        vertical-align: middle;\n",
              "    }\n",
              "\n",
              "    .dataframe tbody tr th {\n",
              "        vertical-align: top;\n",
              "    }\n",
              "\n",
              "    .dataframe thead th {\n",
              "        text-align: right;\n",
              "    }\n",
              "</style>\n",
              "<table border=\"1\" class=\"dataframe\">\n",
              "  <thead>\n",
              "    <tr style=\"text-align: right;\">\n",
              "      <th></th>\n",
              "      <th>Private</th>\n",
              "      <th>Apps</th>\n",
              "      <th>Accept</th>\n",
              "      <th>Enroll</th>\n",
              "      <th>Top10perc</th>\n",
              "      <th>Top25perc</th>\n",
              "      <th>F.Undergrad</th>\n",
              "      <th>P.Undergrad</th>\n",
              "      <th>Outstate</th>\n",
              "      <th>Room.Board</th>\n",
              "      <th>Books</th>\n",
              "      <th>Personal</th>\n",
              "      <th>PhD</th>\n",
              "      <th>Terminal</th>\n",
              "      <th>S.F.Ratio</th>\n",
              "      <th>perc.alumni</th>\n",
              "      <th>Expend</th>\n",
              "      <th>Grad.Rate</th>\n",
              "    </tr>\n",
              "  </thead>\n",
              "  <tbody>\n",
              "  </tbody>\n",
              "</table>\n",
              "</div>"
            ],
            "text/plain": [
              "Empty DataFrame\n",
              "Columns: [Private, Apps, Accept, Enroll, Top10perc, Top25perc, F.Undergrad, P.Undergrad, Outstate, Room.Board, Books, Personal, PhD, Terminal, S.F.Ratio, perc.alumni, Expend, Grad.Rate]\n",
              "Index: []"
            ]
          },
          "metadata": {
            "tags": []
          },
          "execution_count": 18
        }
      ]
    },
    {
      "cell_type": "markdown",
      "metadata": {
        "id": "RjcRc8Xpjlw8"
      },
      "source": [
        "### Drop the labels column because this is an unsupervised algorithm."
      ]
    },
    {
      "cell_type": "code",
      "metadata": {
        "id": "49MQL9pmjlw8"
      },
      "source": [
        "#df_without_labels = df.drop('Private', axis=1)"
      ],
      "execution_count": null,
      "outputs": []
    },
    {
      "cell_type": "markdown",
      "metadata": {
        "id": "2DcMCQI-jlw9"
      },
      "source": [
        "## K Means Cluster Creation\n",
        "\n",
        "Now it is time to create the Cluster labels!\n",
        "\n",
        "** Import KMeans from SciKit Learn.**"
      ]
    },
    {
      "cell_type": "code",
      "metadata": {
        "id": "EZ7UrSKTjlw9"
      },
      "source": [
        "from sklearn.cluster import KMeans"
      ],
      "execution_count": null,
      "outputs": []
    },
    {
      "cell_type": "code",
      "metadata": {
        "id": "5FE7xBskjlw9"
      },
      "source": [
        "# Call the Kmeans function"
      ],
      "execution_count": null,
      "outputs": []
    },
    {
      "cell_type": "markdown",
      "metadata": {
        "id": "d7SMJJS2jlw9"
      },
      "source": [
        "### Train the Model"
      ]
    },
    {
      "cell_type": "code",
      "metadata": {
        "id": "oymvz_Dnjlw9"
      },
      "source": [
        ""
      ],
      "execution_count": null,
      "outputs": []
    },
    {
      "cell_type": "markdown",
      "metadata": {
        "id": "DtKcPsnbjlw-"
      },
      "source": [
        "### Cluster Centres"
      ]
    },
    {
      "cell_type": "code",
      "metadata": {
        "id": "QwCCpS1njlw-"
      },
      "source": [
        "\n",
        "\n",
        "#cluster centres in high dimensional space"
      ],
      "execution_count": null,
      "outputs": []
    },
    {
      "cell_type": "code",
      "metadata": {
        "id": "WUABdm63d49k"
      },
      "source": [
        "#labels"
      ],
      "execution_count": null,
      "outputs": []
    },
    {
      "cell_type": "code",
      "metadata": {
        "id": "4NIXHc6xd49k"
      },
      "source": [
        "#predict"
      ],
      "execution_count": null,
      "outputs": []
    },
    {
      "cell_type": "markdown",
      "metadata": {
        "id": "Mn0LvW6Gjlw-"
      },
      "source": [
        "## Evaluation\n",
        "\n",
        "### Usually you cannot evaluate your model in Unsupervised algorithms because the labels are not given like in Supervised Algorithms."
      ]
    }
  ]
}