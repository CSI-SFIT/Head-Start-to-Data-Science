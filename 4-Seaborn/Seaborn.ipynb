{
  "nbformat": 4,
  "nbformat_minor": 0,
  "metadata": {
    "kernelspec": {
      "display_name": "Python 3",
      "language": "python",
      "name": "python3"
    },
    "language_info": {
      "codemirror_mode": {
        "name": "ipython",
        "version": 3
      },
      "file_extension": ".py",
      "mimetype": "text/x-python",
      "name": "python",
      "nbconvert_exporter": "python",
      "pygments_lexer": "ipython3",
      "version": "3.7.6"
    },
    "colab": {
      "name": "Seaborn.ipynb",
      "provenance": [],
      "collapsed_sections": []
    }
  },
  "cells": [
    {
      "cell_type": "markdown",
      "metadata": {
        "id": "64YK19QyE5JI"
      },
      "source": [
        "# Seaborn\r\n",
        "Colab Link: [**Link**](https://colab.research.google.com/drive/1iCQk8fbKxYIBD53vQrRj0ekJkvoQXOn9?usp=sharing)"
      ]
    },
    {
      "cell_type": "markdown",
      "metadata": {
        "id": "v7DTRoy0E5Jf"
      },
      "source": [
        "## Introduction\n",
        "Seaborn is a library for making statistical graphics in Python. It builds on top of matplotlib and integrates closely with pandas data structures.\n",
        "\n",
        "Seaborn helps you explore and understand your data. Its plotting functions operate on dataframes and arrays containing whole datasets and internally perform the necessary semantic mapping and statistical aggregation to produce informative plots.\n",
        "\n",
        "Its dataset-oriented, declarative API lets you focus on what the different elements of your plots mean, rather than on the details of how to draw them.\n",
        "\n",
        "<img src=\"data:image/png;base64,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\" width=350 height=300>\n",
        "<br>\n",
        "<img src=\"https://encrypted-tbn0.gstatic.com/images?q=tbn:ANd9GcRAZw9mdz1sWrvtdSF4siXlbZlJq6Gur300gg&usqp=CAU\" width=250 height=250>\n"
      ]
    },
    {
      "cell_type": "markdown",
      "metadata": {
        "id": "4_JVqGpvE5Jh"
      },
      "source": [
        "## Installation\n",
        "conda install seaborn\n",
        "\n",
        "or pip install seaborn\n",
        "## Importing\n",
        "import seaborn as sns\n",
        "\n",
        "% matplotlib inline"
      ]
    },
    {
      "cell_type": "markdown",
      "metadata": {
        "id": "jXwT4n5kE5Ji"
      },
      "source": [
        "The plotting functions in seaborn classified based ono the type of plotting:\n",
        "* Distribution plots\n",
        "* Categorical plots\n",
        "* Matrix plots\n",
        "* Grids\n",
        "* Regression plots"
      ]
    },
    {
      "cell_type": "markdown",
      "metadata": {
        "id": "2xycGt3yE5Ji"
      },
      "source": [
        "## Distribution plots\n",
        "These plots help us visualize distribution of data. There 5 plots:\n",
        "* distplot\n",
        "* jointplot\n",
        "* pairplot\n",
        "* rugplot\n",
        "* kdeplot\n",
        "\n",
        "Let's see them one by one"
      ]
    },
    {
      "cell_type": "markdown",
      "metadata": {
        "id": "GT0NaCCkE5Jj"
      },
      "source": [
        "## Data"
      ]
    },
    {
      "cell_type": "code",
      "metadata": {
        "id": "8PkO3DZhE5Jl"
      },
      "source": [
        "import numpy as np\n",
        "import matplotlib.pyplot as plt\n",
        "import seaborn as sns\n",
        "%matplotlib inline"
      ],
      "execution_count": null,
      "outputs": []
    },
    {
      "cell_type": "markdown",
      "metadata": {
        "id": "q18K4oUJE5Jn"
      },
      "source": [
        "seaborn has built-in datasets"
      ]
    },
    {
      "cell_type": "code",
      "metadata": {
        "id": "xq93Hg23E5Jo"
      },
      "source": [
        "tips = sns.load_dataset('tips')\n",
        "tips.info()\n",
        "tips.head()"
      ],
      "execution_count": null,
      "outputs": []
    },
    {
      "cell_type": "code",
      "metadata": {
        "id": "QMVFHkpqE5Js"
      },
      "source": [
        "flights = sns.load_dataset('flights')\n",
        "flights.info()\n",
        "flights.head()"
      ],
      "execution_count": null,
      "outputs": []
    },
    {
      "cell_type": "code",
      "metadata": {
        "id": "7zmbO5pLE5Js"
      },
      "source": [
        "iris = sns.load_dataset('iris')\n",
        "iris.info()\n",
        "iris.head()"
      ],
      "execution_count": null,
      "outputs": []
    },
    {
      "cell_type": "markdown",
      "metadata": {
        "id": "zbuASJIzCqym"
      },
      "source": [
        "info() gives information on the columns of the dataset.\r\n",
        "\r\n",
        "head() displays the first 5 rows of dataset."
      ]
    },
    {
      "cell_type": "markdown",
      "metadata": {
        "id": "ajd-zaANE5Jt"
      },
      "source": [
        "## distplot\n",
        "\n",
        "The distplot shows the distribution of a univariate set of observations."
      ]
    },
    {
      "cell_type": "code",
      "metadata": {
        "id": "-TNxmRe4E5Ju"
      },
      "source": [
        "sns.distplot(tips['total_bill'])"
      ],
      "execution_count": null,
      "outputs": []
    },
    {
      "cell_type": "code",
      "metadata": {
        "id": "CHm8Ogs9E5Jv"
      },
      "source": [
        "sns.distplot(tips['total_bill'], kde=False, bins=55)\n",
        "# kde=False only shows the histograms\n",
        "# bins used to increase or decrease the accuracy of plotting"
      ],
      "execution_count": null,
      "outputs": []
    },
    {
      "cell_type": "markdown",
      "metadata": {
        "id": "rknoRoweE5Jw"
      },
      "source": [
        "## jointplot\n",
        "\n",
        "jointplot() allows you to basically match up two distplots for bivariate data. With your choice of what **kind** parameter to compare with: \n",
        "* scatter\n",
        "* reg\n",
        "* resid\n",
        "* kde\n",
        "* hex"
      ]
    },
    {
      "cell_type": "code",
      "metadata": {
        "id": "GXoggOR4E5Jx"
      },
      "source": [
        "sns.jointplot(x='total_bill', y='tip', data=tips, kind='scatter')"
      ],
      "execution_count": null,
      "outputs": []
    },
    {
      "cell_type": "code",
      "metadata": {
        "id": "EkpxAUXeE5Jy"
      },
      "source": [
        "sns.jointplot(x='total_bill', y='tip', data=tips, kind='kde')"
      ],
      "execution_count": null,
      "outputs": []
    },
    {
      "cell_type": "code",
      "metadata": {
        "id": "iOvygqEWE5Jz"
      },
      "source": [
        "sns.jointplot(x='total_bill', y='tip', data=tips, kind='hex')"
      ],
      "execution_count": null,
      "outputs": []
    },
    {
      "cell_type": "markdown",
      "metadata": {
        "id": "syVF4x05E5J0"
      },
      "source": [
        "## pairplot\n",
        "\n",
        "pairplot will plot pairwise relationships across an entire dataframe (for the numerical columns) and supports a color hue argument (for categorical columns)."
      ]
    },
    {
      "cell_type": "code",
      "metadata": {
        "id": "E2ltwwShE5J0"
      },
      "source": [
        "sns.pairplot(tips)"
      ],
      "execution_count": null,
      "outputs": []
    },
    {
      "cell_type": "code",
      "metadata": {
        "id": "E0cxKdTcE5J2"
      },
      "source": [
        "sns.pairplot(tips, hue='sex', palette='coolwarm')\r\n",
        "# hue is used to categorize the plot based on the categorical column mentioned\r\n",
        "# palette gives a color scheme to your plot"
      ],
      "execution_count": null,
      "outputs": []
    },
    {
      "cell_type": "markdown",
      "metadata": {
        "id": "aYOvy9JfE5J2"
      },
      "source": [
        "## rugplot\n",
        "\n",
        "rugplots are actually a very simple concept, they just draw a dash mark for every point on a univariate distribution."
      ]
    },
    {
      "cell_type": "code",
      "metadata": {
        "id": "5NJwd8-HE5J3"
      },
      "source": [
        "sns.rugplot(tips['total_bill'])"
      ],
      "execution_count": null,
      "outputs": []
    },
    {
      "cell_type": "markdown",
      "metadata": {
        "id": "-BOSdhEYE5J4"
      },
      "source": [
        "## kdeplot\n",
        "\n",
        "kdeplots are Kernel Density Estimation plots. These KDE plots replace every single observation with a Gaussian (Normal) distribution centered around that value."
      ]
    },
    {
      "cell_type": "code",
      "metadata": {
        "id": "g9hXO29kE5J5"
      },
      "source": [
        "sns.kdeplot(tips['total_bill'])"
      ],
      "execution_count": null,
      "outputs": []
    },
    {
      "cell_type": "markdown",
      "metadata": {
        "id": "ZOZXFkTjE5J5"
      },
      "source": [
        "## Categorical plots\n",
        "\n",
        "Now let's discuss using seaborn to plot categorical data! There are a few main plot types for this:\n",
        "\n",
        "* factorplot/catplot\n",
        "* boxplot\n",
        "* violinplot\n",
        "* stripplot\n",
        "* swarmplot\n",
        "* barplot\n",
        "* countplot\n",
        "\n",
        "Let's go through examples of each!"
      ]
    },
    {
      "cell_type": "code",
      "metadata": {
        "id": "LPUVHwhNE5J6"
      },
      "source": [
        "tips.info()"
      ],
      "execution_count": null,
      "outputs": []
    },
    {
      "cell_type": "code",
      "metadata": {
        "id": "sMJ-gAX7E5J7"
      },
      "source": [
        "tips.head()"
      ],
      "execution_count": null,
      "outputs": []
    },
    {
      "cell_type": "markdown",
      "metadata": {
        "id": "B64nS9dXE5J8"
      },
      "source": [
        "## barplot and countplot\n",
        "\n",
        "These very similar plots allow you to get aggregate data off a categorical feature in your data."
      ]
    },
    {
      "cell_type": "markdown",
      "metadata": {
        "id": "g-VkR886E5J8"
      },
      "source": [
        "**barplot** is a general plot that allows you to aggregate the categorical data based off some function, by default the mean:"
      ]
    },
    {
      "cell_type": "code",
      "metadata": {
        "id": "42jr12-qE5J9"
      },
      "source": [
        "sns.barplot(x='smoker', y='total_bill', data=tips)"
      ],
      "execution_count": null,
      "outputs": []
    },
    {
      "cell_type": "code",
      "metadata": {
        "id": "wlxVo0mME5J-"
      },
      "source": [
        "sns.barplot(x='smoker', y='total_bill', data=tips, estimator=np.std)\r\n",
        "# estimator is used to specify the statistical function to be applied to y column while plotting barplot"
      ],
      "execution_count": null,
      "outputs": []
    },
    {
      "cell_type": "markdown",
      "metadata": {
        "id": "ynit5qN1E5J_"
      },
      "source": [
        "**countplot** is essentially the same as barplot except the estimator is explicitly counting the number of occurrences. Which is why we only pass the x value"
      ]
    },
    {
      "cell_type": "code",
      "metadata": {
        "id": "6JLvgQErE5J_"
      },
      "source": [
        "sns.countplot(x='smoker', data=tips)"
      ],
      "execution_count": null,
      "outputs": []
    },
    {
      "cell_type": "markdown",
      "metadata": {
        "id": "Fxwxn_RUE5KA"
      },
      "source": [
        "## boxplot and violinplot\n",
        "\n",
        "boxplots and violinplots are used to shown the distribution of categorical data.\n",
        "\n",
        "A **box plot** (or box-and-whisker plot) shows the distribution of quantitative data in a way that facilitates comparisons between variables or across levels of a categorical variable. The box shows the quartiles of the dataset while the whiskers extend to show the rest of the distribution, except for points that are determined to be “outliers” using a method that is a function of the inter-quartile range."
      ]
    },
    {
      "cell_type": "code",
      "metadata": {
        "id": "7pW4k2FjE5KB"
      },
      "source": [
        "sns.boxplot(x='day', y='total_bill', data=tips, palette='rainbow')"
      ],
      "execution_count": null,
      "outputs": []
    },
    {
      "cell_type": "code",
      "metadata": {
        "id": "TmC5xdMgE5KC"
      },
      "source": [
        "sns.boxplot(x='day', y='total_bill', data=tips, palette='coolwarm', hue='sex')"
      ],
      "execution_count": null,
      "outputs": []
    },
    {
      "cell_type": "code",
      "metadata": {
        "id": "tAGozqqvE5KC"
      },
      "source": [
        "sns.boxplot(data=tips, palette='rainbow', orient='h')\r\n",
        "# orient orients the boxplot in horizontal or vertical direction"
      ],
      "execution_count": null,
      "outputs": []
    },
    {
      "cell_type": "markdown",
      "metadata": {
        "id": "LhS6BdJfE5KE"
      },
      "source": [
        "A **violin plot** plays a similar role as a box and whisker plot. It shows the distribution of quantitative data across several levels of one (or more) categorical variables such that those distributions can be compared. Unlike a box plot, in which all of the plot components correspond to actual datapoints, the violin plot features a kernel density estimation of the underlying distribution."
      ]
    },
    {
      "cell_type": "code",
      "metadata": {
        "id": "XL7x8N1NE5KE"
      },
      "source": [
        "sns.violinplot(x='day', y='total_bill', data=tips, palette='rainbow')"
      ],
      "execution_count": null,
      "outputs": []
    },
    {
      "cell_type": "code",
      "metadata": {
        "id": "gLeAnHNIE5KF"
      },
      "source": [
        "sns.violinplot(x='day', y='total_bill', data=tips, palette='Set1', hue='sex')"
      ],
      "execution_count": null,
      "outputs": []
    },
    {
      "cell_type": "code",
      "metadata": {
        "id": "jdzpcIapE5KG"
      },
      "source": [
        "sns.violinplot(x='day', y='total_bill', data=tips, palette='Set1', hue='sex', split=True)\r\n",
        "# split splits the violin plot in 2 halves to categorize based on hue instead of 2 separate plots"
      ],
      "execution_count": null,
      "outputs": []
    },
    {
      "cell_type": "markdown",
      "metadata": {
        "id": "uMMUuCyDE5KH"
      },
      "source": [
        "## stripplot and swarmplot\n",
        "The **stripplot** will draw a scatterplot where one variable is categorical. A strip plot can be drawn on its own, but it is also a good complement to a box or violin plot in cases where you want to show all observations along with some representation of the underlying distribution."
      ]
    },
    {
      "cell_type": "code",
      "metadata": {
        "id": "tBfaE0KsE5KI"
      },
      "source": [
        "sns.stripplot(x=\"day\", y=\"total_bill\", data=tips)"
      ],
      "execution_count": null,
      "outputs": []
    },
    {
      "cell_type": "code",
      "metadata": {
        "id": "dWgq_wtEE5KI"
      },
      "source": [
        "sns.stripplot(x=\"day\", y=\"total_bill\", data=tips, hue='sex', palette='coolwarm', split=True)"
      ],
      "execution_count": null,
      "outputs": []
    },
    {
      "cell_type": "markdown",
      "metadata": {
        "id": "6ZvdQjppE5KJ"
      },
      "source": [
        "The **swarmplot** is similar to stripplot(), but the points are adjusted (only along the categorical axis) so that they don’t overlap. This gives a better representation of the distribution of values, although it does not scale as well to large numbers of observations (both in terms of the ability to show all the points and in terms of the computation needed to arrange them)."
      ]
    },
    {
      "cell_type": "code",
      "metadata": {
        "id": "G-PIBEnAE5KK"
      },
      "source": [
        "sns.swarmplot(x=\"day\", y=\"total_bill\", data=tips)"
      ],
      "execution_count": null,
      "outputs": []
    },
    {
      "cell_type": "code",
      "metadata": {
        "id": "UoTymtPzE5KM"
      },
      "source": [
        "sns.swarmplot(x=\"day\", y=\"total_bill\", data=tips, hue='smoker', dodge=True)\r\n",
        "# In newer version of Seaborn, split is renamed to dodge"
      ],
      "execution_count": null,
      "outputs": []
    },
    {
      "cell_type": "markdown",
      "metadata": {
        "id": "d-W9ZtN_E5KN"
      },
      "source": [
        "## factorplot/catplot\n",
        "\n",
        "factorplot or catplot is the most general form of a categorical plot. It can take in a **kind** parameter to adjust the plot type:"
      ]
    },
    {
      "cell_type": "code",
      "metadata": {
        "id": "IiI9i5q6E5KN"
      },
      "source": [
        "sns.factorplot(x='sex', y='total_bill', data=tips, kind='bar')\r\n",
        "# kind indicates type of plot to be plotted"
      ],
      "execution_count": null,
      "outputs": []
    },
    {
      "cell_type": "markdown",
      "metadata": {
        "id": "PpYcHt8wE5KO"
      },
      "source": [
        "## Combining 2 plots"
      ]
    },
    {
      "cell_type": "code",
      "metadata": {
        "id": "hOqvoqD5E5KO"
      },
      "source": [
        "sns.violinplot(x='tip', y='day', data=tips)\n",
        "sns.swarmplot(x='tip', y='day', data=tips, color='black', size=3)\n",
        "# size give size to the plotted points"
      ],
      "execution_count": null,
      "outputs": []
    },
    {
      "cell_type": "markdown",
      "metadata": {
        "id": "0I193jq8E5KQ"
      },
      "source": [
        "# Matrix Plots\n",
        "\n",
        "Matrix plots allow you to plot data as color-encoded matrices and can also be used to indicate clusters within the data\n",
        "\n",
        "There are 2 plots:\n",
        "* heatmap\n",
        "* clustermap"
      ]
    },
    {
      "cell_type": "code",
      "metadata": {
        "id": "1fub2qTKE5KQ"
      },
      "source": [
        "tips.info()"
      ],
      "execution_count": null,
      "outputs": []
    },
    {
      "cell_type": "code",
      "metadata": {
        "id": "E9hPQq8uE5KR"
      },
      "source": [
        "tips.head()"
      ],
      "execution_count": null,
      "outputs": []
    },
    {
      "cell_type": "code",
      "metadata": {
        "id": "jSn1QNddE5KS"
      },
      "source": [
        "flights.info()"
      ],
      "execution_count": null,
      "outputs": []
    },
    {
      "cell_type": "code",
      "metadata": {
        "id": "MbSk8yr1E5KT"
      },
      "source": [
        "flights.head()"
      ],
      "execution_count": null,
      "outputs": []
    },
    {
      "cell_type": "markdown",
      "metadata": {
        "id": "SCCixFEBE5KT"
      },
      "source": [
        "## Heatmap\n",
        "\n",
        "In order for a heatmap to work properly, your data should already be in a matrix form, the sns.heatmap function basically just colors it in for you."
      ]
    },
    {
      "cell_type": "code",
      "metadata": {
        "id": "pRFIene8E5KU"
      },
      "source": [
        "# Matrix form for correlation data\n",
        "tips.corr()"
      ],
      "execution_count": null,
      "outputs": []
    },
    {
      "cell_type": "code",
      "metadata": {
        "id": "tDlwDiwYE5KV"
      },
      "source": [
        "sns.heatmap(tips.corr())"
      ],
      "execution_count": null,
      "outputs": []
    },
    {
      "cell_type": "code",
      "metadata": {
        "id": "KhPTUFcvE5KW"
      },
      "source": [
        "sns.heatmap(tips.corr(), cmap='coolwarm', annot=True)\r\n",
        "# cmap is same as palette\r\n",
        "# annot gives annotation in heatmap"
      ],
      "execution_count": null,
      "outputs": []
    },
    {
      "cell_type": "code",
      "metadata": {
        "id": "rLXuw2MqE5KW"
      },
      "source": [
        "# When correlation is not possible, we use pivot table\r\n",
        "flights.pivot_table(values='passengers', index='month', columns='year')"
      ],
      "execution_count": null,
      "outputs": []
    },
    {
      "cell_type": "code",
      "metadata": {
        "id": "hnFpaICjE5KY"
      },
      "source": [
        "pvflights = flights.pivot_table(values='passengers', index='month', columns='year')\n",
        "sns.heatmap(pvflights)"
      ],
      "execution_count": null,
      "outputs": []
    },
    {
      "cell_type": "code",
      "metadata": {
        "id": "IVaxHeTOE5KY"
      },
      "source": [
        "sns.heatmap(pvflights, linewidth=1, linecolor='white', cmap='coolwarm')"
      ],
      "execution_count": null,
      "outputs": []
    },
    {
      "cell_type": "markdown",
      "metadata": {
        "id": "qQ7hc29dE5KZ"
      },
      "source": [
        "## clustermap\n",
        "\n",
        "The clustermap uses hierarchal clustering to produce a clustered version of the heatmap."
      ]
    },
    {
      "cell_type": "code",
      "metadata": {
        "id": "_pgYa_vFE5Ka"
      },
      "source": [
        "sns.clustermap(pvflights, cmap='coolwarm')"
      ],
      "execution_count": null,
      "outputs": []
    },
    {
      "cell_type": "code",
      "metadata": {
        "id": "2UaaegRFE5Kb"
      },
      "source": [
        "sns.clustermap(pvflights, cmap='coolwarm', standard_scale=1)\r\n",
        "# To get a standardized scale from 0 to 1, use standard_scale"
      ],
      "execution_count": null,
      "outputs": []
    },
    {
      "cell_type": "markdown",
      "metadata": {
        "id": "c70pHW3hE5Kb"
      },
      "source": [
        "# Grids\n",
        "\n",
        "Grids are general types of plots that allow you to map plot types to rows and columns of a grid, this helps you create similar plots separated by features.\n",
        "\n",
        "There are 3 types of grids:\n",
        "* Pairgrid\n",
        "* Facetgrid\n",
        "* Jointgrid"
      ]
    },
    {
      "cell_type": "code",
      "metadata": {
        "id": "XIOvy4gCE5Kc"
      },
      "source": [
        "tips.info()"
      ],
      "execution_count": null,
      "outputs": []
    },
    {
      "cell_type": "code",
      "metadata": {
        "id": "Vlz9f0mOE5Kc"
      },
      "source": [
        "tips.head()"
      ],
      "execution_count": null,
      "outputs": []
    },
    {
      "cell_type": "code",
      "metadata": {
        "id": "PBvQDfZzE5Kd"
      },
      "source": [
        "iris.info()"
      ],
      "execution_count": null,
      "outputs": []
    },
    {
      "cell_type": "code",
      "metadata": {
        "id": "gnA0EmGpE5Ke"
      },
      "source": [
        "iris.head()"
      ],
      "execution_count": null,
      "outputs": []
    },
    {
      "cell_type": "markdown",
      "metadata": {
        "id": "ZlfeO8d6E5Ke"
      },
      "source": [
        "## PairGrid\n",
        "\n",
        "Pairgrid is a subplot grid for plotting pairwise relationships in a dataset."
      ]
    },
    {
      "cell_type": "code",
      "metadata": {
        "id": "oc5LP2GQE5Ke"
      },
      "source": [
        "g = sns.PairGrid(iris) # creates grid for numerical columns of the given dataset\n",
        "g.map(plt.scatter) # mapping to the grid"
      ],
      "execution_count": null,
      "outputs": []
    },
    {
      "cell_type": "code",
      "metadata": {
        "id": "cMswl337E5Kf"
      },
      "source": [
        "# mapping diagonal, upper half, lower half\n",
        "g = sns.PairGrid(iris)\n",
        "g.map_diag(plt.hist)\n",
        "g.map_upper(plt.scatter)\n",
        "g.map_lower(sns.kdeplot)"
      ],
      "execution_count": null,
      "outputs": []
    },
    {
      "cell_type": "markdown",
      "metadata": {
        "id": "UlhxH26GE5Kf"
      },
      "source": [
        "**pairplot** is a simpler version of PairGrid"
      ]
    },
    {
      "cell_type": "markdown",
      "metadata": {
        "id": "P8Ma9howE5Kg"
      },
      "source": [
        "## Facet Grid\n",
        "\n",
        "FacetGrid is the general way to create grids of plots based off of a feature"
      ]
    },
    {
      "cell_type": "code",
      "metadata": {
        "id": "O6K3o4WiE5Kg"
      },
      "source": [
        "g = sns.FacetGrid(tips, col='time', row='smoker') # This creates a grid separated by categorical features specified in row and col\n",
        "g.map(plt.hist, 'total_bill')"
      ],
      "execution_count": null,
      "outputs": []
    },
    {
      "cell_type": "code",
      "metadata": {
        "id": "OEwtOT5wE5Kg"
      },
      "source": [
        "g = sns.FacetGrid(tips, col='time', row='smoker', hue='sex')\n",
        "g.map(plt.scatter, 'total_bill', 'tip')"
      ],
      "execution_count": null,
      "outputs": []
    },
    {
      "cell_type": "code",
      "metadata": {
        "id": "suLh76YlE5Kt"
      },
      "source": [
        "g = sns.FacetGrid(tips, col='time', row='smoker', hue='sex')\n",
        "# To add legend\n",
        "g.map(plt.scatter, 'total_bill', 'tip').add_legend()\n",
        "# labels are not required to be specified like we do in matplotlib"
      ],
      "execution_count": null,
      "outputs": []
    },
    {
      "cell_type": "markdown",
      "metadata": {
        "id": "QoGCp2y6E5Ku"
      },
      "source": [
        "## JointGrid\n",
        "\n",
        "JointGrid is the general version for jointplot() type grids."
      ]
    },
    {
      "cell_type": "code",
      "metadata": {
        "id": "CoIYLvcbE5Ku"
      },
      "source": [
        "g = sns.JointGrid(x='total_bill', y='tip', data=tips)"
      ],
      "execution_count": null,
      "outputs": []
    },
    {
      "cell_type": "code",
      "metadata": {
        "id": "Smn1osQnE5Kv"
      },
      "source": [
        "g = sns.JointGrid(x='total_bill', y='tip', data=tips)\n",
        "g.plot(sns.regplot, sns.kdeplot)"
      ],
      "execution_count": null,
      "outputs": []
    },
    {
      "cell_type": "markdown",
      "metadata": {
        "id": "GzYknDMOE5Kv"
      },
      "source": [
        "# Regression Plots\n",
        "\n",
        "Seaborn has many built-in capabilities for regression plots\n",
        "\n",
        "**lmplot** allows you to display linear models, but it also conveniently allows you to split up those plots based off of features, as well as coloring the hue based off of features."
      ]
    },
    {
      "cell_type": "code",
      "metadata": {
        "id": "3SaLZrXSE5Kw"
      },
      "source": [
        "tips.info()"
      ],
      "execution_count": null,
      "outputs": []
    },
    {
      "cell_type": "code",
      "metadata": {
        "id": "TLKGvy16E5Kx"
      },
      "source": [
        "tips.head()"
      ],
      "execution_count": null,
      "outputs": []
    },
    {
      "cell_type": "code",
      "metadata": {
        "id": "2rXNjM2HE5Kx"
      },
      "source": [
        "sns.lmplot(x='total_bill', y='tip', data=tips)"
      ],
      "execution_count": null,
      "outputs": []
    },
    {
      "cell_type": "code",
      "metadata": {
        "id": "mvBZlYnVE5Ky"
      },
      "source": [
        "sns.lmplot(x='total_bill', y='tip', data=tips, hue='sex')"
      ],
      "execution_count": null,
      "outputs": []
    },
    {
      "cell_type": "code",
      "metadata": {
        "id": "-jjEJmbAE5Kz"
      },
      "source": [
        "sns.lmplot(x='total_bill', y='tip', data=tips, hue='sex', markers=['o', 'v'])"
      ],
      "execution_count": null,
      "outputs": []
    },
    {
      "cell_type": "markdown",
      "metadata": {
        "id": "0MoDz8BqE5Kz"
      },
      "source": [
        "We can add more variable separation through columns and rows with the use of a grid. Just indicate this with the col or row arguments:"
      ]
    },
    {
      "cell_type": "code",
      "metadata": {
        "id": "Ath5zLoOE5K0"
      },
      "source": [
        "sns.lmplot(x='total_bill',y='tip',data=tips,col='sex')"
      ],
      "execution_count": null,
      "outputs": []
    },
    {
      "cell_type": "code",
      "metadata": {
        "id": "KxVfyqRhE5K1"
      },
      "source": [
        "sns.lmplot(x='total_bill',y='tip',data=tips,col='sex', row='time')"
      ],
      "execution_count": null,
      "outputs": []
    },
    {
      "cell_type": "code",
      "metadata": {
        "id": "DMESzMZoE5K1"
      },
      "source": [
        "sns.lmplot(x='total_bill',y='tip',data=tips,col='sex', row='time', size=8)"
      ],
      "execution_count": null,
      "outputs": []
    },
    {
      "cell_type": "markdown",
      "metadata": {
        "id": "fnYmO520E5K2"
      },
      "source": [
        "## Few styling functions"
      ]
    },
    {
      "cell_type": "code",
      "metadata": {
        "id": "WOhgKl3SE5K2"
      },
      "source": [
        "sns.set_style('white') # To set background style\n",
        "sns.countplot(x='sex', data=tips)"
      ],
      "execution_count": null,
      "outputs": []
    },
    {
      "cell_type": "code",
      "metadata": {
        "id": "_NfGP21jE5K3"
      },
      "source": [
        "sns.set_style('ticks')\n",
        "sns.countplot(x='sex', data=tips)"
      ],
      "execution_count": null,
      "outputs": []
    },
    {
      "cell_type": "code",
      "metadata": {
        "id": "8rQzUWEFE5K3"
      },
      "source": [
        "sns.countplot(x='sex', data=tips)\n",
        "sns.despine() # To show/hide border line of plot"
      ],
      "execution_count": null,
      "outputs": []
    },
    {
      "cell_type": "code",
      "metadata": {
        "id": "0n3rikseE5K4"
      },
      "source": [
        "sns.countplot(x='sex', data=tips)\n",
        "sns.despine(left=True, bottom=True)"
      ],
      "execution_count": null,
      "outputs": []
    },
    {
      "cell_type": "markdown",
      "metadata": {
        "id": "utpfVqaQGa9P"
      },
      "source": [
        "Some resizing Methods"
      ]
    },
    {
      "cell_type": "code",
      "metadata": {
        "id": "PT4hlS7kE5K4"
      },
      "source": [
        "# Non grid type plot\n",
        "plt.figure(figsize=(12, 5))\n",
        "sns.countplot(x='sex', data=tips)"
      ],
      "execution_count": null,
      "outputs": []
    },
    {
      "cell_type": "code",
      "metadata": {
        "id": "ePqgx_LTE5K5"
      },
      "source": [
        "# grid type plot\n",
        "sns.lmplot(x='total_bill',y='tip',size=6,aspect=2,data=tips)"
      ],
      "execution_count": null,
      "outputs": []
    },
    {
      "cell_type": "code",
      "metadata": {
        "id": "kF-SK3TvE5K6"
      },
      "source": [
        ""
      ],
      "execution_count": null,
      "outputs": []
    }
  ]
}